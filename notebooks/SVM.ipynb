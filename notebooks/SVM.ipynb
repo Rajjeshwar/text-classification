{
 "cells": [
  {
   "cell_type": "code",
   "execution_count": 1,
   "id": "899cb40b-27d5-4329-b69e-11b67bd0c0d3",
   "metadata": {},
   "outputs": [],
   "source": [
    "import numpy as np\n",
    "import pandas as pd\n",
    "import matplotlib.pyplot as plt \n",
    "import os\n",
    "import nltk\n",
    "import pickle\n",
    "import seaborn as sb\n",
    "\n",
    "from sklearn.model_selection import train_test_split\n",
    "from sklearn.feature_extraction.text import TfidfVectorizer, CountVectorizer, TfidfTransformer\n",
    "from sklearn.svm import SVC, LinearSVC\n",
    "from sklearn.decomposition import TruncatedSVD\n",
    "from sklearn.metrics import accuracy_score, classification_report, confusion_matrix\n",
    "from sklearn.preprocessing import LabelEncoder, StandardScaler\n",
    "\n",
    "from sklearn.feature_extraction.text import TfidfVectorizer\n",
    "\n",
    "from nltk.corpus import wordnet\n",
    "from nltk.stem import WordNetLemmatizer\n",
    "from nltk.corpus import stopwords\n",
    "\n",
    "\n",
    "from gensim.utils import tokenize\n",
    "from gensim.models import Phrases, Word2Vec\n",
    "\n",
    "from tensorflow.keras.preprocessing.text import Tokenizer, text_to_word_sequence\n",
    "from tensorflow.keras.preprocessing.sequence import pad_sequences"
   ]
  },
  {
   "cell_type": "code",
   "execution_count": 2,
   "id": "18c42207-e4d6-4956-83c3-e0707e6ae454",
   "metadata": {},
   "outputs": [
    {
     "name": "stderr",
     "output_type": "stream",
     "text": [
      "[nltk_data] Downloading package stopwords to\n",
      "[nltk_data]     C:\\Users\\gangu\\AppData\\Roaming\\nltk_data...\n",
      "[nltk_data]   Package stopwords is already up-to-date!\n",
      "[nltk_data] Downloading package wordnet to\n",
      "[nltk_data]     C:\\Users\\gangu\\AppData\\Roaming\\nltk_data...\n",
      "[nltk_data]   Package wordnet is already up-to-date!\n",
      "[nltk_data] Downloading package omw-1.4 to\n",
      "[nltk_data]     C:\\Users\\gangu\\AppData\\Roaming\\nltk_data...\n",
      "[nltk_data]   Package omw-1.4 is already up-to-date!\n",
      "[nltk_data] Downloading package averaged_perceptron_tagger to\n",
      "[nltk_data]     C:\\Users\\gangu\\AppData\\Roaming\\nltk_data...\n",
      "[nltk_data]   Package averaged_perceptron_tagger is already up-to-\n",
      "[nltk_data]       date!\n"
     ]
    },
    {
     "data": {
      "text/plain": [
       "True"
      ]
     },
     "execution_count": 2,
     "metadata": {},
     "output_type": "execute_result"
    }
   ],
   "source": [
    "#download necessary packages\n",
    "nltk.download('stopwords')\n",
    "nltk.download('wordnet')\n",
    "nltk.download('omw-1.4')\n",
    "nltk.download('averaged_perceptron_tagger')"
   ]
  },
  {
   "cell_type": "code",
   "execution_count": 3,
   "id": "93512bcc-68aa-4cc7-8a88-6d7d5ec84026",
   "metadata": {},
   "outputs": [],
   "source": [
    "path_data = os.path.abspath(os.path.join(os.getcwd(), os.pardir))+'\\\\DATA\\\\train_data.csv'\n",
    "path_labels = os.path.abspath(os.path.join(os.getcwd(), os.pardir))+'\\\\DATA\\\\train_results.csv'\n",
    "path_test_data = os.path.abspath(os.path.join(os.getcwd(), os.pardir))+'\\\\DATA\\\\test_data.csv'"
   ]
  },
  {
   "cell_type": "code",
   "execution_count": 4,
   "id": "dccc771d-0fe9-4ab7-a1b7-6d380dd6a5de",
   "metadata": {},
   "outputs": [],
   "source": [
    "data_df = pd.read_csv(path_data)\n",
    "label_df = pd.read_csv(path_labels)\n",
    "test_df = pd.read_csv(path_test_data)"
   ]
  },
  {
   "cell_type": "code",
   "execution_count": 5,
   "id": "b7beccc5-ceb5-4e2f-8142-1dec770ea889",
   "metadata": {},
   "outputs": [],
   "source": [
    "df = pd.merge(data_df, label_df, on='id')"
   ]
  },
  {
   "cell_type": "code",
   "execution_count": 6,
   "id": "56923f40-69ed-48a4-b76e-f9421e5f05df",
   "metadata": {},
   "outputs": [
    {
     "data": {
      "text/html": [
       "<div>\n",
       "<style scoped>\n",
       "    .dataframe tbody tr th:only-of-type {\n",
       "        vertical-align: middle;\n",
       "    }\n",
       "\n",
       "    .dataframe tbody tr th {\n",
       "        vertical-align: top;\n",
       "    }\n",
       "\n",
       "    .dataframe thead th {\n",
       "        text-align: right;\n",
       "    }\n",
       "</style>\n",
       "<table border=\"1\" class=\"dataframe\">\n",
       "  <thead>\n",
       "    <tr style=\"text-align: right;\">\n",
       "      <th></th>\n",
       "      <th>id</th>\n",
       "      <th>text</th>\n",
       "      <th>target</th>\n",
       "    </tr>\n",
       "  </thead>\n",
       "  <tbody>\n",
       "    <tr>\n",
       "      <th>0</th>\n",
       "      <td>0</td>\n",
       "      <td>Anyway Im getting of for a while</td>\n",
       "      <td>positive</td>\n",
       "    </tr>\n",
       "    <tr>\n",
       "      <th>1</th>\n",
       "      <td>1</td>\n",
       "      <td>My red, Apache isn't feelin too well this morn...</td>\n",
       "      <td>negative</td>\n",
       "    </tr>\n",
       "    <tr>\n",
       "      <th>2</th>\n",
       "      <td>2</td>\n",
       "      <td>@danyelljoy you should be  its great. friday w...</td>\n",
       "      <td>positive</td>\n",
       "    </tr>\n",
       "    <tr>\n",
       "      <th>3</th>\n",
       "      <td>3</td>\n",
       "      <td>its 11:30pm and i dont wanna sleep; so i debat...</td>\n",
       "      <td>positive</td>\n",
       "    </tr>\n",
       "    <tr>\n",
       "      <th>4</th>\n",
       "      <td>4</td>\n",
       "      <td>Why does twitter eat my DM's?  Not happy</td>\n",
       "      <td>negative</td>\n",
       "    </tr>\n",
       "    <tr>\n",
       "      <th>...</th>\n",
       "      <td>...</td>\n",
       "      <td>...</td>\n",
       "      <td>...</td>\n",
       "    </tr>\n",
       "    <tr>\n",
       "      <th>1040318</th>\n",
       "      <td>1040318</td>\n",
       "      <td>getting ready 2 watch mental</td>\n",
       "      <td>positive</td>\n",
       "    </tr>\n",
       "    <tr>\n",
       "      <th>1040319</th>\n",
       "      <td>1040319</td>\n",
       "      <td>Wristcutters and Half Nelson are on Sundance F...</td>\n",
       "      <td>negative</td>\n",
       "    </tr>\n",
       "    <tr>\n",
       "      <th>1040320</th>\n",
       "      <td>1040320</td>\n",
       "      <td>@t_isfortammy Going out in Northbridge makes m...</td>\n",
       "      <td>negative</td>\n",
       "    </tr>\n",
       "    <tr>\n",
       "      <th>1040321</th>\n",
       "      <td>1040321</td>\n",
       "      <td>@iModel_ lol.... Gorgeous...lol! U look sooo m...</td>\n",
       "      <td>positive</td>\n",
       "    </tr>\n",
       "    <tr>\n",
       "      <th>1040322</th>\n",
       "      <td>1040322</td>\n",
       "      <td>@iamjonathancook why?</td>\n",
       "      <td>negative</td>\n",
       "    </tr>\n",
       "  </tbody>\n",
       "</table>\n",
       "<p>1040323 rows × 3 columns</p>\n",
       "</div>"
      ],
      "text/plain": [
       "              id                                               text    target\n",
       "0              0                  Anyway Im getting of for a while   positive\n",
       "1              1  My red, Apache isn't feelin too well this morn...  negative\n",
       "2              2  @danyelljoy you should be  its great. friday w...  positive\n",
       "3              3  its 11:30pm and i dont wanna sleep; so i debat...  positive\n",
       "4              4          Why does twitter eat my DM's?  Not happy   negative\n",
       "...          ...                                                ...       ...\n",
       "1040318  1040318                      getting ready 2 watch mental   positive\n",
       "1040319  1040319  Wristcutters and Half Nelson are on Sundance F...  negative\n",
       "1040320  1040320  @t_isfortammy Going out in Northbridge makes m...  negative\n",
       "1040321  1040321  @iModel_ lol.... Gorgeous...lol! U look sooo m...  positive\n",
       "1040322  1040322                             @iamjonathancook why?   negative\n",
       "\n",
       "[1040323 rows x 3 columns]"
      ]
     },
     "execution_count": 6,
     "metadata": {},
     "output_type": "execute_result"
    }
   ],
   "source": [
    "df"
   ]
  },
  {
   "cell_type": "markdown",
   "id": "4bc97cec-8133-4641-92b6-a23972af4b3f",
   "metadata": {},
   "source": [
    "## Pre-Process Train"
   ]
  },
  {
   "cell_type": "markdown",
   "id": "c45df033-f84c-4224-950c-087f5d5176ec",
   "metadata": {},
   "source": [
    "#### Helper functions"
   ]
  },
  {
   "cell_type": "code",
   "execution_count": 7,
   "id": "a7a9c390-29f2-4e2f-a6d1-39e10453767d",
   "metadata": {},
   "outputs": [],
   "source": [
    "class PreProc():\n",
    "    def __init__(self):\n",
    "        pass\n",
    "        \n",
    "    def remove_more_stop_words(self,words_arr):\n",
    "        if (len(words_arr) > 0):\n",
    "            remove = np.vectorize(lambda word: self.word_counts[word] >50)\n",
    "            return words_arr[remove(words_arr)]\n",
    "        else:\n",
    "            return ['empty']\n",
    "\n",
    "    #return low frequency words + words that don't appear in train\n",
    "    def remove_more_stop_words_test(self,words_arr):\n",
    "        if (len(words_arr) > 0):\n",
    "            remove = np.vectorize(lambda word: False if not word in self.word_counts else (True if self.word_counts[word] >50 else False))\n",
    "            return words_arr[remove(words_arr)]\n",
    "        else:\n",
    "            return ['empty']\n",
    "\n",
    "    #find the correct wordnet tag for nltk pos_tag equivalent  \n",
    "    def get_wordnet_pos(self,treebank_tag):\n",
    "        if treebank_tag.startswith('J'):\n",
    "            return wordnet.ADJ\n",
    "        elif treebank_tag.startswith('V'):\n",
    "            return wordnet.VERB\n",
    "        elif treebank_tag.startswith('N'):\n",
    "            return wordnet.NOUN\n",
    "        elif treebank_tag.startswith('R'):\n",
    "            return wordnet.ADV\n",
    "        else:\n",
    "            return wordnet.NOUN\n",
    "\n",
    "    #lemmatize \n",
    "    def lemmatize(self,word_list):\n",
    "        pos_tag = nltk.pos_tag(list(word_list))\n",
    "        words = [self.lemmatizer.lemmatize(i[0], self.get_wordnet_pos(i[1])) for i in pos_tag]\n",
    "        return words    \n",
    "        \n",
    "    def preproc(self,df, is_test=False):\n",
    "    \n",
    "        feature_df = df.copy()\n",
    "        #convert lower case\n",
    "        feature_df['text'] = feature_df['text'].str.lower()\n",
    "        #remove URLS\n",
    "        feature_df['text'] = feature_df['text'].str.replace(r'(http|ftp|https):\\/\\/([\\w_-]+(?:(?:\\.[\\w_-]+)+))([\\w.,@?^=%&:\\/~+#-]*[\\w@?^=%&\\/~+#-])', '', regex=True)\n",
    "        #remove mentions\n",
    "        feature_df['text'] = feature_df['text'].str.replace(r'@([a-zA-Z0-9_]{1,50})', '', regex=True)\n",
    "        #remove hashtags\n",
    "        feature_df['text'] = feature_df['text'].str.replace(r'#([a-zA-Z0-9_]{1,50})', '', regex=True)\n",
    "        #remove punctuations\n",
    "        feature_df['text'] = feature_df['text'].str.replace(r'[^\\w\\s]', '', regex=True)\n",
    "        #tokenize\n",
    "        feature_df['text'] = feature_df['text'].apply(lambda x : np.asarray(list(tokenize(x))))\n",
    "\n",
    "        if not is_test:\n",
    "            #encode target labels \n",
    "            label_encoder = LabelEncoder()\n",
    "            label_encoder.fit(feature_df['target'])\n",
    "            feature_df['target'] = label_encoder.transform(feature_df['target'])\n",
    "            #check word counts\n",
    "            self.word_counts = feature_df.explode('text')['text'].value_counts().to_dict()\n",
    "            #remove low frequency words\n",
    "            feature_df['text'] = feature_df['text'].apply(self.remove_more_stop_words)\n",
    "\n",
    "        elif is_test:\n",
    "            feature_df['text'] = feature_df['text'].apply(self.remove_more_stop_words_test)\n",
    "\n",
    "        #lemmatize\n",
    "        self.lemmatizer = WordNetLemmatizer()\n",
    "        feature_df['text'] = feature_df['text'].apply(self.lemmatize)\n",
    "\n",
    "        if not is_test:\n",
    "            #vocab\n",
    "            vocabulary = feature_df.explode('text')['text'].value_counts().to_dict()\n",
    "            #vocab length\n",
    "            vocab_length = len(vocabulary)\n",
    "            return feature_df, self.word_counts, vocabulary, vocab_length\n",
    "\n",
    "        elif is_test:\n",
    "            return feature_df\n",
    "            \n",
    "    "
   ]
  },
  {
   "cell_type": "markdown",
   "id": "468b0d0c-1639-4861-8b96-28542c8ff96e",
   "metadata": {},
   "source": [
    "## Pre-Process data and save dataframe"
   ]
  },
  {
   "cell_type": "code",
   "execution_count": 10,
   "id": "5ff97f27-b1cd-4373-aab3-034ed4aaa065",
   "metadata": {},
   "outputs": [],
   "source": [
    "preprocess = PreProc()\n",
    "feature_df, word_counts, vocabulary, vocab_length = preprocess.preproc(df, is_test=False)\n",
    "feature_df_test = preprocess.preproc(test_df, is_test=True)"
   ]
  },
  {
   "cell_type": "code",
   "execution_count": 2,
   "id": "5bac5d8a-43ff-4647-9af4-9aea1dc8ee4e",
   "metadata": {},
   "outputs": [],
   "source": [
    "path_df_SVM_train = os.path.abspath(os.path.join(os.getcwd(), os.pardir))+'\\\\Dataframe\\\\lemmatized_feature_df_SVM.pkl'\n",
    "path_df_SVM_test = os.path.abspath(os.path.join(os.getcwd(), os.pardir))+'\\\\Dataframe\\\\lemmatized_feature_df_test_SVM.pkl'\n"
   ]
  },
  {
   "cell_type": "code",
   "execution_count": 3,
   "id": "29c54265-27af-482e-a4e9-6edad502feb1",
   "metadata": {},
   "outputs": [],
   "source": [
    "#feature_df.to_pickle(path_df_SVM_train)\n",
    "#feature_df_test.to_pickle(path_df_SVM_test)"
   ]
  },
  {
   "cell_type": "code",
   "execution_count": 4,
   "id": "899945fb-5047-4f22-9b8b-e403dbf1a6c1",
   "metadata": {},
   "outputs": [],
   "source": [
    "#Uncomment and load dataframe if already pro-processed and saved\n",
    "feature_df = pd.read_pickle(path_df_SVM_train)\n",
    "feature_df_test = pd.read_pickle(path_df_SVM_test)"
   ]
  },
  {
   "cell_type": "code",
   "execution_count": 16,
   "id": "5ce162dc-cc20-4033-90db-5db47cf45f9b",
   "metadata": {},
   "outputs": [],
   "source": [
    "def tfidf(train_df, test_df):\n",
    "    feature_df = train_df.copy()\n",
    "    feature_df['text'] = feature_df['text'].str.join(' ')\n",
    "    x_train_df, x_val_df = train_test_split(feature_df, stratify=feature_df['target'], random_state=40,test_size=0.2)\n",
    "    v_c = TfidfVectorizer(max_features=90000)\n",
    "    tfid_transformer = v_c.fit(x_train_df['text'])\n",
    "    x_c = tfid_transformer.transform(x_train_df['text'])\n",
    "    x_c_v = tfid_transformer.transform(x_val_df['text'])\n",
    "    x_c = x_c.astype('float32')\n",
    "    #x_c = x_c.toarray().astype('float32')\n",
    "    x_c_v = x_c_v.astype('float32')\n",
    "    #x_c_v = x_c_v.toarray().astype('float32')\n",
    "    y_train = np.asarray(x_train_df['target'].tolist())\n",
    "    y_val = np.asarray(x_val_df['target'].tolist())\n",
    "    \n",
    "    test_df['text'] = test_df['text'].str.join(' ')\n",
    "    x_c_test = tfid_transformer.transform(test_df['text'])\n",
    "    x_c_test = x_c_test.astype('float32')\n",
    "    #x_c_test = x_c_test.todense().astype('float32')\n",
    "    \n",
    "    return x_c, x_c_v, y_train, y_val, x_c_test"
   ]
  },
  {
   "cell_type": "code",
   "execution_count": 17,
   "id": "4b5456ed-c821-4e9e-9eec-fa9abbaafde7",
   "metadata": {},
   "outputs": [],
   "source": [
    "x_c, x_c_v, y_train, y_val, x_c_test = tfidf(feature_df, feature_df_test)"
   ]
  },
  {
   "cell_type": "code",
   "execution_count": 11,
   "id": "ad460138-abe2-4eb3-a9ef-b067bda793ec",
   "metadata": {},
   "outputs": [],
   "source": [
    "def standardize(x_train, x_val, x_test):\n",
    "    scaler = StandardScaler()\n",
    "    scaler_fit = scaler.fit(x_train)\n",
    "    x_train = scaler_fit.transform(x_train)\n",
    "    \n",
    "    x_val = scaler_fit.transform(x_val)\n",
    "    x_test = scaler_fit.transform(x_c_test)\n",
    "    return x_train, x_val, x_test"
   ]
  },
  {
   "cell_type": "code",
   "execution_count": 12,
   "id": "9f6e1d9a-988c-4662-b329-de4683212796",
   "metadata": {
    "collapsed": true
   },
   "outputs": [
    {
     "ename": "ValueError",
     "evalue": "Cannot center sparse matrices: pass `with_mean=False` instead. See docstring for motivation and alternatives.",
     "output_type": "error",
     "traceback": [
      "\u001b[1;31m---------------------------------------------------------------------------\u001b[0m",
      "\u001b[1;31mValueError\u001b[0m                                Traceback (most recent call last)",
      "Input \u001b[1;32mIn [12]\u001b[0m, in \u001b[0;36m<cell line: 1>\u001b[1;34m()\u001b[0m\n\u001b[1;32m----> 1\u001b[0m x_train, x_val, x_test \u001b[38;5;241m=\u001b[39m \u001b[43mstandardize\u001b[49m\u001b[43m(\u001b[49m\u001b[43mx_c\u001b[49m\u001b[43m,\u001b[49m\u001b[43m \u001b[49m\u001b[43mx_c_v\u001b[49m\u001b[43m,\u001b[49m\u001b[43m \u001b[49m\u001b[43mx_c_test\u001b[49m\u001b[43m)\u001b[49m\n",
      "Input \u001b[1;32mIn [11]\u001b[0m, in \u001b[0;36mstandardize\u001b[1;34m(x_train, x_val, x_test)\u001b[0m\n\u001b[0;32m      1\u001b[0m \u001b[38;5;28;01mdef\u001b[39;00m \u001b[38;5;21mstandardize\u001b[39m(x_train, x_val, x_test):\n\u001b[0;32m      2\u001b[0m     scaler \u001b[38;5;241m=\u001b[39m StandardScaler()\n\u001b[1;32m----> 3\u001b[0m     scaler_fit \u001b[38;5;241m=\u001b[39m \u001b[43mscaler\u001b[49m\u001b[38;5;241;43m.\u001b[39;49m\u001b[43mfit\u001b[49m\u001b[43m(\u001b[49m\u001b[43mx_train\u001b[49m\u001b[43m)\u001b[49m\n\u001b[0;32m      4\u001b[0m     x_train \u001b[38;5;241m=\u001b[39m scaler_fit\u001b[38;5;241m.\u001b[39mtransform(x_train)\n\u001b[0;32m      6\u001b[0m     x_val \u001b[38;5;241m=\u001b[39m scaler_fit\u001b[38;5;241m.\u001b[39mtransform(x_val)\n",
      "File \u001b[1;32m~\\.conda\\envs\\kaggle_2\\lib\\site-packages\\sklearn\\preprocessing\\_data.py:806\u001b[0m, in \u001b[0;36mStandardScaler.fit\u001b[1;34m(self, X, y, sample_weight)\u001b[0m\n\u001b[0;32m    804\u001b[0m \u001b[38;5;66;03m# Reset internal state before fitting\u001b[39;00m\n\u001b[0;32m    805\u001b[0m \u001b[38;5;28mself\u001b[39m\u001b[38;5;241m.\u001b[39m_reset()\n\u001b[1;32m--> 806\u001b[0m \u001b[38;5;28;01mreturn\u001b[39;00m \u001b[38;5;28;43mself\u001b[39;49m\u001b[38;5;241;43m.\u001b[39;49m\u001b[43mpartial_fit\u001b[49m\u001b[43m(\u001b[49m\u001b[43mX\u001b[49m\u001b[43m,\u001b[49m\u001b[43m \u001b[49m\u001b[43my\u001b[49m\u001b[43m,\u001b[49m\u001b[43m \u001b[49m\u001b[43msample_weight\u001b[49m\u001b[43m)\u001b[49m\n",
      "File \u001b[1;32m~\\.conda\\envs\\kaggle_2\\lib\\site-packages\\sklearn\\preprocessing\\_data.py:870\u001b[0m, in \u001b[0;36mStandardScaler.partial_fit\u001b[1;34m(self, X, y, sample_weight)\u001b[0m\n\u001b[0;32m    868\u001b[0m \u001b[38;5;28;01mif\u001b[39;00m sparse\u001b[38;5;241m.\u001b[39missparse(X):\n\u001b[0;32m    869\u001b[0m     \u001b[38;5;28;01mif\u001b[39;00m \u001b[38;5;28mself\u001b[39m\u001b[38;5;241m.\u001b[39mwith_mean:\n\u001b[1;32m--> 870\u001b[0m         \u001b[38;5;28;01mraise\u001b[39;00m \u001b[38;5;167;01mValueError\u001b[39;00m(\n\u001b[0;32m    871\u001b[0m             \u001b[38;5;124m\"\u001b[39m\u001b[38;5;124mCannot center sparse matrices: pass `with_mean=False` \u001b[39m\u001b[38;5;124m\"\u001b[39m\n\u001b[0;32m    872\u001b[0m             \u001b[38;5;124m\"\u001b[39m\u001b[38;5;124minstead. See docstring for motivation and alternatives.\u001b[39m\u001b[38;5;124m\"\u001b[39m\n\u001b[0;32m    873\u001b[0m         )\n\u001b[0;32m    874\u001b[0m     sparse_constructor \u001b[38;5;241m=\u001b[39m (\n\u001b[0;32m    875\u001b[0m         sparse\u001b[38;5;241m.\u001b[39mcsr_matrix \u001b[38;5;28;01mif\u001b[39;00m X\u001b[38;5;241m.\u001b[39mformat \u001b[38;5;241m==\u001b[39m \u001b[38;5;124m\"\u001b[39m\u001b[38;5;124mcsr\u001b[39m\u001b[38;5;124m\"\u001b[39m \u001b[38;5;28;01melse\u001b[39;00m sparse\u001b[38;5;241m.\u001b[39mcsc_matrix\n\u001b[0;32m    876\u001b[0m     )\n\u001b[0;32m    878\u001b[0m     \u001b[38;5;28;01mif\u001b[39;00m \u001b[38;5;28mself\u001b[39m\u001b[38;5;241m.\u001b[39mwith_std:\n\u001b[0;32m    879\u001b[0m         \u001b[38;5;66;03m# First pass\u001b[39;00m\n",
      "\u001b[1;31mValueError\u001b[0m: Cannot center sparse matrices: pass `with_mean=False` instead. See docstring for motivation and alternatives."
     ]
    }
   ],
   "source": [
    "x_train, x_val, x_test = standardize(x_c, x_c_v, x_c_test)"
   ]
  },
  {
   "cell_type": "markdown",
   "id": "b27373cf-d542-4893-aa34-7d3976421fcb",
   "metadata": {},
   "source": [
    "## Model SVM"
   ]
  },
  {
   "cell_type": "code",
   "execution_count": 18,
   "id": "d433004c-1668-4f0f-a2e1-ee9409a598a5",
   "metadata": {},
   "outputs": [],
   "source": [
    "def train_SVM(x, y):\n",
    "    SVM_classifier_M = LinearSVC(random_state=40)\n",
    "    model_SVM = SVM_classifier_M.fit(x, y)\n",
    "    #path_models_SVM = os.path.abspath(os.path.join(os.getcwd(), os.pardir))+'\\\\Models\\\\SVM_classifier_new.pkl'\n",
    "    #with open(path_models_SVM, 'wb') as f:\n",
    "    #    pickle.dump(model_SVM, f)\n",
    "    return model_SVM"
   ]
  },
  {
   "cell_type": "code",
   "execution_count": 19,
   "id": "feee9052-2b29-40d0-930d-05abc7e207ab",
   "metadata": {},
   "outputs": [],
   "source": [
    "model_SVM = train_SVM(x_c, y_train)"
   ]
  },
  {
   "cell_type": "markdown",
   "id": "fe990110-8b1d-46a1-a37d-db531029b13d",
   "metadata": {},
   "source": [
    "### Predict on val and get metrics"
   ]
  },
  {
   "cell_type": "code",
   "execution_count": 20,
   "id": "34e86343-db8b-42e5-af1e-0369c3c73934",
   "metadata": {},
   "outputs": [],
   "source": [
    "y_pred = model_SVM.predict(x_c_v)"
   ]
  },
  {
   "cell_type": "code",
   "execution_count": 21,
   "id": "178a6465-206f-467b-b8af-ef609e6bd0e2",
   "metadata": {},
   "outputs": [],
   "source": [
    "acc = accuracy_score(y_val, y_pred)"
   ]
  },
  {
   "cell_type": "code",
   "execution_count": 22,
   "id": "62ab99b1-f33c-4a85-b5ce-65a9afc78a53",
   "metadata": {},
   "outputs": [
    {
     "name": "stdout",
     "output_type": "stream",
     "text": [
      "              precision    recall  f1-score   support\n",
      "\n",
      "           0       0.79      0.77      0.78    103961\n",
      "           1       0.00      0.00      0.00        17\n",
      "           2       0.78      0.80      0.79    104087\n",
      "\n",
      "    accuracy                           0.79    208065\n",
      "   macro avg       0.52      0.52      0.52    208065\n",
      "weighted avg       0.79      0.79      0.79    208065\n",
      "\n"
     ]
    },
    {
     "name": "stderr",
     "output_type": "stream",
     "text": [
      "C:\\Users\\gangu\\.conda\\envs\\kaggle_2\\lib\\site-packages\\sklearn\\metrics\\_classification.py:1318: UndefinedMetricWarning: Precision and F-score are ill-defined and being set to 0.0 in labels with no predicted samples. Use `zero_division` parameter to control this behavior.\n",
      "  _warn_prf(average, modifier, msg_start, len(result))\n",
      "C:\\Users\\gangu\\.conda\\envs\\kaggle_2\\lib\\site-packages\\sklearn\\metrics\\_classification.py:1318: UndefinedMetricWarning: Precision and F-score are ill-defined and being set to 0.0 in labels with no predicted samples. Use `zero_division` parameter to control this behavior.\n",
      "  _warn_prf(average, modifier, msg_start, len(result))\n",
      "C:\\Users\\gangu\\.conda\\envs\\kaggle_2\\lib\\site-packages\\sklearn\\metrics\\_classification.py:1318: UndefinedMetricWarning: Precision and F-score are ill-defined and being set to 0.0 in labels with no predicted samples. Use `zero_division` parameter to control this behavior.\n",
      "  _warn_prf(average, modifier, msg_start, len(result))\n"
     ]
    }
   ],
   "source": [
    "cr = classification_report(y_val, y_pred)\n",
    "print(cr)"
   ]
  },
  {
   "cell_type": "code",
   "execution_count": 23,
   "id": "01a9c0a2-225f-4f76-bd1b-9c4c79b2e7fb",
   "metadata": {},
   "outputs": [
    {
     "name": "stdout",
     "output_type": "stream",
     "text": [
      "[[80546     0 23415]\n",
      " [    4     0    13]\n",
      " [20981     0 83106]]\n"
     ]
    }
   ],
   "source": [
    "cm = confusion_matrix(y_val, y_pred)\n",
    "print(cm)"
   ]
  },
  {
   "cell_type": "code",
   "execution_count": 24,
   "id": "bc59ef89",
   "metadata": {},
   "outputs": [],
   "source": [
    "def plot_cf(Y_true, Y_pred):\n",
    "    cf = confusion_matrix(Y_true, Y_pred)\n",
    "    plt.figure(figsize=(8,8))\n",
    "    sb.heatmap(cf, annot=True, fmt=\"d\", cmap='Blues')\n",
    "    return None"
   ]
  },
  {
   "cell_type": "code",
   "execution_count": 25,
   "id": "628d2818",
   "metadata": {},
   "outputs": [
    {
     "data": {
      "text/plain": [
       "Text(0.5, 1.0, 'Confusion Matrix for SVM')"
      ]
     },
     "execution_count": 25,
     "metadata": {},
     "output_type": "execute_result"
    },
    {
     "data": {
      "image/png": "[encoded data removed]",
      "text/plain": [
       "<Figure size 800x800 with 2 Axes>"
      ]
     },
     "metadata": {},
     "output_type": "display_data"
    }
   ],
   "source": [
    "plot_cf(y_val, y_pred)\n",
    "plt.title(\"Confusion Matrix for SVM\")"
   ]
  },
  {
   "cell_type": "markdown",
   "id": "adedfb0a",
   "metadata": {},
   "source": [
    "### RBF"
   ]
  },
  {
   "cell_type": "code",
   "execution_count": 8,
   "id": "845d820e",
   "metadata": {},
   "outputs": [],
   "source": [
    "def train_SVM(x, y):\n",
    "    SVM_classifier_M = SVC(random_state=40,max_iter=5000)\n",
    "    model_SVM = SVM_classifier_M.fit(x, y)\n",
    "    #path_models_SVM = os.path.abspath(os.path.join(os.getcwd(), os.pardir))+'\\\\Models\\\\SVM_classifier_new.pkl'\n",
    "    #with open(path_models_SVM, 'wb') as f:\n",
    "    #    pickle.dump(model_SVM, f)\n",
    "    return model_SVM"
   ]
  },
  {
   "cell_type": "code",
   "execution_count": null,
   "id": "f00607fc",
   "metadata": {},
   "outputs": [],
   "source": [
    "model_SVM = train_SVM(x_c, y_train)"
   ]
  },
  {
   "cell_type": "code",
   "execution_count": null,
   "id": "6c8c5065",
   "metadata": {},
   "outputs": [],
   "source": [
    "y_pred = model_SVM.predict(x_c_v)"
   ]
  },
  {
   "cell_type": "code",
   "execution_count": null,
   "id": "a48212db",
   "metadata": {},
   "outputs": [],
   "source": [
    "acc = accuracy_score(y_val, y_pred)"
   ]
  },
  {
   "cell_type": "code",
   "execution_count": null,
   "id": "a4632ddb",
   "metadata": {},
   "outputs": [],
   "source": [
    "cr = classification_report(y_val, y_pred)\n",
    "print(cr)"
   ]
  },
  {
   "cell_type": "code",
   "execution_count": null,
   "id": "ce5c1d6e",
   "metadata": {},
   "outputs": [],
   "source": [
    "cm = confusion_matrix(y_val, y_pred)\n",
    "print(cm)"
   ]
  },
  {
   "cell_type": "markdown",
   "id": "57329f0f-557c-498c-91e0-7acc22797d44",
   "metadata": {},
   "source": [
    "## Test"
   ]
  },
  {
   "cell_type": "code",
   "execution_count": 23,
   "id": "3d13944a-9054-41c5-b0a7-ac512e745edd",
   "metadata": {},
   "outputs": [],
   "source": [
    "y_pred_test = model_SVM.predict(x_test)\n",
    "#y_pred_classes = np.argmax(y_pred_test, axis=1)"
   ]
  },
  {
   "cell_type": "code",
   "execution_count": 24,
   "id": "e2287389-4331-483d-875a-ffcf973a24d8",
   "metadata": {},
   "outputs": [],
   "source": [
    "predictions_df = pd.DataFrame(y_pred_test, columns=['target'])\n",
    "predictions_df.index.name = 'id'"
   ]
  },
  {
   "cell_type": "code",
   "execution_count": 25,
   "id": "0c2869e6-1729-4e71-a611-72f4f695e62b",
   "metadata": {},
   "outputs": [
    {
     "data": {
      "text/html": [
       "<div>\n",
       "<style scoped>\n",
       "    .dataframe tbody tr th:only-of-type {\n",
       "        vertical-align: middle;\n",
       "    }\n",
       "\n",
       "    .dataframe tbody tr th {\n",
       "        vertical-align: top;\n",
       "    }\n",
       "\n",
       "    .dataframe thead th {\n",
       "        text-align: right;\n",
       "    }\n",
       "</style>\n",
       "<table border=\"1\" class=\"dataframe\">\n",
       "  <thead>\n",
       "    <tr style=\"text-align: right;\">\n",
       "      <th></th>\n",
       "      <th>target</th>\n",
       "    </tr>\n",
       "    <tr>\n",
       "      <th>id</th>\n",
       "      <th></th>\n",
       "    </tr>\n",
       "  </thead>\n",
       "  <tbody>\n",
       "    <tr>\n",
       "      <th>0</th>\n",
       "      <td>0</td>\n",
       "    </tr>\n",
       "    <tr>\n",
       "      <th>1</th>\n",
       "      <td>2</td>\n",
       "    </tr>\n",
       "    <tr>\n",
       "      <th>2</th>\n",
       "      <td>2</td>\n",
       "    </tr>\n",
       "    <tr>\n",
       "      <th>3</th>\n",
       "      <td>2</td>\n",
       "    </tr>\n",
       "    <tr>\n",
       "      <th>4</th>\n",
       "      <td>0</td>\n",
       "    </tr>\n",
       "    <tr>\n",
       "      <th>...</th>\n",
       "      <td>...</td>\n",
       "    </tr>\n",
       "    <tr>\n",
       "      <th>560170</th>\n",
       "      <td>0</td>\n",
       "    </tr>\n",
       "    <tr>\n",
       "      <th>560171</th>\n",
       "      <td>0</td>\n",
       "    </tr>\n",
       "    <tr>\n",
       "      <th>560172</th>\n",
       "      <td>0</td>\n",
       "    </tr>\n",
       "    <tr>\n",
       "      <th>560173</th>\n",
       "      <td>2</td>\n",
       "    </tr>\n",
       "    <tr>\n",
       "      <th>560174</th>\n",
       "      <td>2</td>\n",
       "    </tr>\n",
       "  </tbody>\n",
       "</table>\n",
       "<p>560175 rows × 1 columns</p>\n",
       "</div>"
      ],
      "text/plain": [
       "        target\n",
       "id            \n",
       "0            0\n",
       "1            2\n",
       "2            2\n",
       "3            2\n",
       "4            0\n",
       "...        ...\n",
       "560170       0\n",
       "560171       0\n",
       "560172       0\n",
       "560173       2\n",
       "560174       2\n",
       "\n",
       "[560175 rows x 1 columns]"
      ]
     },
     "execution_count": 25,
     "metadata": {},
     "output_type": "execute_result"
    }
   ],
   "source": [
    "predictions_df"
   ]
  },
  {
   "cell_type": "code",
   "execution_count": 26,
   "id": "b25c1bcf-c39a-4d02-91a5-7c5e16464c27",
   "metadata": {},
   "outputs": [],
   "source": [
    "path_output = os.path.abspath(os.path.join(os.getcwd(), os.pardir))+'\\\\Test_output\\\\test_results_SVM.csv'"
   ]
  },
  {
   "cell_type": "code",
   "execution_count": 27,
   "id": "24029902-33ce-409a-98cc-dc7c0397549c",
   "metadata": {},
   "outputs": [],
   "source": [
    "predictions_df.to_csv(path_output, index=True, index_label='id')"
   ]
  },
  {
   "cell_type": "markdown",
   "id": "fb96e8cb-a256-41d2-8321-71b1f3d01e55",
   "metadata": {},
   "source": [
    "### References"
   ]
  },
  {
   "cell_type": "markdown",
   "id": "36018211-bb61-448b-b5b3-40a565f3faa9",
   "metadata": {},
   "source": [
    "- https://arxiv.org/pdf/1310.4546.pdf\n",
    "- https://stackoverflow.com/questions/34721984/stopword-removing-when-using-the-word2vec\n",
    "- https://radimrehurek.com/gensim/models/word2vec.html"
   ]
  },
  {
   "cell_type": "code",
   "execution_count": null,
   "id": "994e56bd-549a-441f-a655-b1f6ffa8070d",
   "metadata": {},
   "outputs": [],
   "source": []
  }
 ],
 "metadata": {
  "kernelspec": {
   "display_name": "Python 3 (ipykernel)",
   "language": "python",
   "name": "python3"
  },
  "language_info": {
   "codemirror_mode": {
    "name": "ipython",
    "version": 3
   },
   "file_extension": ".py",
   "mimetype": "text/x-python",
   "name": "python",
   "nbconvert_exporter": "python",
   "pygments_lexer": "ipython3",
   "version": "3.10.6"
  }
 },
 "nbformat": 4,
 "nbformat_minor": 5
}
