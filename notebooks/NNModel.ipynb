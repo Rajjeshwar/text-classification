{
 "cells": [
  {
   "cell_type": "code",
   "execution_count": 1,
   "id": "899cb40b-27d5-4329-b69e-11b67bd0c0d3",
   "metadata": {},
   "outputs": [],
   "source": [
    "import numpy as np\n",
    "import pandas as pd\n",
    "import matplotlib.pyplot as plt \n",
    "import os\n",
    "import nltk\n",
    "import pickle\n",
    "\n",
    "\n",
    "from sklearn.model_selection import train_test_split\n",
    "from sklearn.feature_extraction.text import TfidfVectorizer, CountVectorizer, TfidfTransformer\n",
    "from sklearn.naive_bayes import GaussianNB, MultinomialNB\n",
    "from sklearn.decomposition import TruncatedSVD\n",
    "from sklearn.metrics import accuracy_score, classification_report, confusion_matrix\n",
    "from sklearn.preprocessing import LabelEncoder\n",
    "\n",
    "from nltk.corpus import wordnet\n",
    "from nltk.stem import WordNetLemmatizer\n",
    "from nltk.corpus import stopwords\n",
    "\n",
    "from gensim.utils import tokenize\n",
    "from gensim.models import Phrases, Word2Vec\n",
    "\n",
    "from tensorflow.keras.models import Sequential\n",
    "from tensorflow.keras.layers import Input, Embedding, Dense, Flatten, Dropout, BatchNormalization, LSTM, SpatialDropout1D, GRU, Bidirectional, Conv1D\n",
    "from tensorflow.keras.optimizers import Adam, RMSprop\n",
    "from tensorflow.keras.preprocessing.text import Tokenizer, text_to_word_sequence\n",
    "from tensorflow.keras.preprocessing.sequence import pad_sequences\n",
    "from tensorflow.keras.optimizers import Adam\n"
   ]
  },
  {
   "cell_type": "code",
   "execution_count": 2,
   "id": "18c42207-e4d6-4956-83c3-e0707e6ae454",
   "metadata": {},
   "outputs": [
    {
     "name": "stderr",
     "output_type": "stream",
     "text": [
      "[nltk_data] Downloading package stopwords to\n",
      "[nltk_data]     C:\\Users\\gangu\\AppData\\Roaming\\nltk_data...\n",
      "[nltk_data]   Package stopwords is already up-to-date!\n",
      "[nltk_data] Downloading package wordnet to\n",
      "[nltk_data]     C:\\Users\\gangu\\AppData\\Roaming\\nltk_data...\n",
      "[nltk_data]   Package wordnet is already up-to-date!\n",
      "[nltk_data] Downloading package omw-1.4 to\n",
      "[nltk_data]     C:\\Users\\gangu\\AppData\\Roaming\\nltk_data...\n",
      "[nltk_data]   Package omw-1.4 is already up-to-date!\n",
      "[nltk_data] Downloading package averaged_perceptron_tagger to\n",
      "[nltk_data]     C:\\Users\\gangu\\AppData\\Roaming\\nltk_data...\n",
      "[nltk_data]   Package averaged_perceptron_tagger is already up-to-\n",
      "[nltk_data]       date!\n"
     ]
    },
    {
     "data": {
      "text/plain": [
       "True"
      ]
     },
     "execution_count": 2,
     "metadata": {},
     "output_type": "execute_result"
    }
   ],
   "source": [
    "#download necessary packages\n",
    "nltk.download('stopwords')\n",
    "nltk.download('wordnet')\n",
    "nltk.download('omw-1.4')\n",
    "nltk.download('averaged_perceptron_tagger')"
   ]
  },
  {
   "cell_type": "code",
   "execution_count": 3,
   "id": "93512bcc-68aa-4cc7-8a88-6d7d5ec84026",
   "metadata": {},
   "outputs": [],
   "source": [
    "path_data = os.path.abspath(os.path.join(os.getcwd(), os.pardir))+'\\\\DATA\\\\train_data.csv'\n",
    "path_labels = os.path.abspath(os.path.join(os.getcwd(), os.pardir))+'\\\\DATA\\\\train_results.csv'\n",
    "path_test_data = os.path.abspath(os.path.join(os.getcwd(), os.pardir))+'\\\\DATA\\\\test_data.csv'"
   ]
  },
  {
   "cell_type": "code",
   "execution_count": 4,
   "id": "dccc771d-0fe9-4ab7-a1b7-6d380dd6a5de",
   "metadata": {},
   "outputs": [],
   "source": [
    "data_df = pd.read_csv(path_data)\n",
    "label_df = pd.read_csv(path_labels)\n",
    "test_df = pd.read_csv(path_test_data)"
   ]
  },
  {
   "cell_type": "code",
   "execution_count": 5,
   "id": "b7beccc5-ceb5-4e2f-8142-1dec770ea889",
   "metadata": {},
   "outputs": [],
   "source": [
    "df = pd.merge(data_df, label_df, on='id')"
   ]
  },
  {
   "cell_type": "code",
   "execution_count": 6,
   "id": "56923f40-69ed-48a4-b76e-f9421e5f05df",
   "metadata": {},
   "outputs": [
    {
     "data": {
      "text/html": [
       "<div>\n",
       "<style scoped>\n",
       "    .dataframe tbody tr th:only-of-type {\n",
       "        vertical-align: middle;\n",
       "    }\n",
       "\n",
       "    .dataframe tbody tr th {\n",
       "        vertical-align: top;\n",
       "    }\n",
       "\n",
       "    .dataframe thead th {\n",
       "        text-align: right;\n",
       "    }\n",
       "</style>\n",
       "<table border=\"1\" class=\"dataframe\">\n",
       "  <thead>\n",
       "    <tr style=\"text-align: right;\">\n",
       "      <th></th>\n",
       "      <th>id</th>\n",
       "      <th>text</th>\n",
       "      <th>target</th>\n",
       "    </tr>\n",
       "  </thead>\n",
       "  <tbody>\n",
       "    <tr>\n",
       "      <th>0</th>\n",
       "      <td>0</td>\n",
       "      <td>Anyway Im getting of for a while</td>\n",
       "      <td>positive</td>\n",
       "    </tr>\n",
       "    <tr>\n",
       "      <th>1</th>\n",
       "      <td>1</td>\n",
       "      <td>My red, Apache isn't feelin too well this morn...</td>\n",
       "      <td>negative</td>\n",
       "    </tr>\n",
       "    <tr>\n",
       "      <th>2</th>\n",
       "      <td>2</td>\n",
       "      <td>@danyelljoy you should be  its great. friday w...</td>\n",
       "      <td>positive</td>\n",
       "    </tr>\n",
       "    <tr>\n",
       "      <th>3</th>\n",
       "      <td>3</td>\n",
       "      <td>its 11:30pm and i dont wanna sleep; so i debat...</td>\n",
       "      <td>positive</td>\n",
       "    </tr>\n",
       "    <tr>\n",
       "      <th>4</th>\n",
       "      <td>4</td>\n",
       "      <td>Why does twitter eat my DM's?  Not happy</td>\n",
       "      <td>negative</td>\n",
       "    </tr>\n",
       "    <tr>\n",
       "      <th>...</th>\n",
       "      <td>...</td>\n",
       "      <td>...</td>\n",
       "      <td>...</td>\n",
       "    </tr>\n",
       "    <tr>\n",
       "      <th>1040318</th>\n",
       "      <td>1040318</td>\n",
       "      <td>getting ready 2 watch mental</td>\n",
       "      <td>positive</td>\n",
       "    </tr>\n",
       "    <tr>\n",
       "      <th>1040319</th>\n",
       "      <td>1040319</td>\n",
       "      <td>Wristcutters and Half Nelson are on Sundance F...</td>\n",
       "      <td>negative</td>\n",
       "    </tr>\n",
       "    <tr>\n",
       "      <th>1040320</th>\n",
       "      <td>1040320</td>\n",
       "      <td>@t_isfortammy Going out in Northbridge makes m...</td>\n",
       "      <td>negative</td>\n",
       "    </tr>\n",
       "    <tr>\n",
       "      <th>1040321</th>\n",
       "      <td>1040321</td>\n",
       "      <td>@iModel_ lol.... Gorgeous...lol! U look sooo m...</td>\n",
       "      <td>positive</td>\n",
       "    </tr>\n",
       "    <tr>\n",
       "      <th>1040322</th>\n",
       "      <td>1040322</td>\n",
       "      <td>@iamjonathancook why?</td>\n",
       "      <td>negative</td>\n",
       "    </tr>\n",
       "  </tbody>\n",
       "</table>\n",
       "<p>1040323 rows × 3 columns</p>\n",
       "</div>"
      ],
      "text/plain": [
       "              id                                               text    target\n",
       "0              0                  Anyway Im getting of for a while   positive\n",
       "1              1  My red, Apache isn't feelin too well this morn...  negative\n",
       "2              2  @danyelljoy you should be  its great. friday w...  positive\n",
       "3              3  its 11:30pm and i dont wanna sleep; so i debat...  positive\n",
       "4              4          Why does twitter eat my DM's?  Not happy   negative\n",
       "...          ...                                                ...       ...\n",
       "1040318  1040318                      getting ready 2 watch mental   positive\n",
       "1040319  1040319  Wristcutters and Half Nelson are on Sundance F...  negative\n",
       "1040320  1040320  @t_isfortammy Going out in Northbridge makes m...  negative\n",
       "1040321  1040321  @iModel_ lol.... Gorgeous...lol! U look sooo m...  positive\n",
       "1040322  1040322                             @iamjonathancook why?   negative\n",
       "\n",
       "[1040323 rows x 3 columns]"
      ]
     },
     "execution_count": 6,
     "metadata": {},
     "output_type": "execute_result"
    }
   ],
   "source": [
    "df"
   ]
  },
  {
   "cell_type": "markdown",
   "id": "4bc97cec-8133-4641-92b6-a23972af4b3f",
   "metadata": {},
   "source": [
    "## Pre-Process Train"
   ]
  },
  {
   "cell_type": "markdown",
   "id": "c45df033-f84c-4224-950c-087f5d5176ec",
   "metadata": {},
   "source": [
    "#### Helper functions"
   ]
  },
  {
   "cell_type": "code",
   "execution_count": 7,
   "id": "3dbed1aa-3d4f-4d02-9832-5435a6dad09a",
   "metadata": {},
   "outputs": [],
   "source": [
    "#word2vec train and fit function\n",
    "def create_embedding(df):\n",
    "    sentence_list = [row for row in feature_df['text']]\n",
    "    w2v = Word2Vec(sample=3e-5, min_count=1)\n",
    "    w2v.build_vocab(corpus_iterable=sentence_list)\n",
    "    w2v.train(corpus_iterable=sentence_list, total_examples=w2v.corpus_count, epochs=100, report_delay=1)\n",
    "    key_index = w2v.wv.key_to_index\n",
    "    # MAKE A DICT\n",
    "    word_dict = {word:w2v.wv[word] for word in key_index}\n",
    "    \n",
    "    embedding_weights = w2v.wv.vectors\n",
    "    #add zeros vector to align indices of keras and gensim tokenizer\n",
    "    row_zero = np.zeros((100))\n",
    "    embedding_weights = np.insert(embedding_weights, 0, row_zero, axis=0)\n",
    "    return word_dict, embedding_weights"
   ]
  },
  {
   "cell_type": "code",
   "execution_count": 7,
   "id": "22bcf9df-ed44-41d1-91bc-d6fd4ca6892f",
   "metadata": {},
   "outputs": [],
   "source": [
    "def to_sequences(train_df, test_df):\n",
    "\n",
    "    #list of input sentences\n",
    "    X = train_df['text'].values\n",
    "\n",
    "    #array of 0,1 and 2 labels\n",
    "    Y = train_df['target'].to_numpy()\n",
    "    input_tokenizer = Tokenizer()\n",
    "    input_tokenizer.fit_on_texts(X)\n",
    "    encoded_X = input_tokenizer.texts_to_sequences(X)\n",
    "    \n",
    "    # right pad for equal length \n",
    "    X_train = pad_sequences(encoded_X, maxlen=50, padding='post')\n",
    "    \n",
    "    #generate train-val set\n",
    "    x_train, x_val, y_train, y_val = train_test_split(X_train, Y, stratify=Y, test_size=0.2, random_state=40)\n",
    "    \n",
    "    #test sequences\n",
    "    X_test = test_df['text'].values\n",
    "    x_test_sequences = input_tokenizer.texts_to_sequences(X_test)\n",
    "    x_test = pad_sequences(x_test_sequences, maxlen=50, padding='post')\n",
    "    return x_train, x_val, x_test, y_train, y_val"
   ]
  },
  {
   "cell_type": "code",
   "execution_count": 9,
   "id": "a7a9c390-29f2-4e2f-a6d1-39e10453767d",
   "metadata": {},
   "outputs": [],
   "source": [
    "class PreProc():\n",
    "    def __init__(self):\n",
    "        pass\n",
    "        \n",
    "    def remove_more_stop_words(self,words_arr):\n",
    "        if (len(words_arr) > 0):\n",
    "            remove = np.vectorize(lambda word: self.word_counts[word] >50)\n",
    "            return words_arr[remove(words_arr)]\n",
    "        else:\n",
    "            return ['empty']\n",
    "\n",
    "    #return low frequency words + words that don't appear in train\n",
    "    def remove_more_stop_words_test(self,words_arr):\n",
    "        if (len(words_arr) > 0):\n",
    "            remove = np.vectorize(lambda word: False if not word in self.word_counts else (True if self.word_counts[word] >50 else False))\n",
    "            return words_arr[remove(words_arr)]\n",
    "        else:\n",
    "            return ['empty']\n",
    "\n",
    "    #find the correct wordnet tag for nltk pos_tag equivalent  \n",
    "    def get_wordnet_pos(self,treebank_tag):\n",
    "        if treebank_tag.startswith('J'):\n",
    "            return wordnet.ADJ\n",
    "        elif treebank_tag.startswith('V'):\n",
    "            return wordnet.VERB\n",
    "        elif treebank_tag.startswith('N'):\n",
    "            return wordnet.NOUN\n",
    "        elif treebank_tag.startswith('R'):\n",
    "            return wordnet.ADV\n",
    "        else:\n",
    "            return wordnet.NOUN\n",
    "\n",
    "    #lemmatize \n",
    "    def lemmatize(self,word_list):\n",
    "        pos_tag = nltk.pos_tag(list(word_list))\n",
    "        words = [self.lemmatizer.lemmatize(i[0], self.get_wordnet_pos(i[1])) for i in pos_tag]\n",
    "        return words    \n",
    "        \n",
    "    def preproc(self,df, is_test=False):\n",
    "    \n",
    "        feature_df = df.copy()\n",
    "        #convert lower case\n",
    "        feature_df['text'] = feature_df['text'].str.lower()\n",
    "        #remove URLS\n",
    "        feature_df['text'] = feature_df['text'].str.replace(r'(http|ftp|https):\\/\\/([\\w_-]+(?:(?:\\.[\\w_-]+)+))([\\w.,@?^=%&:\\/~+#-]*[\\w@?^=%&\\/~+#-])', '', regex=True)\n",
    "        #remove mentions\n",
    "        feature_df['text'] = feature_df['text'].str.replace(r'@([a-zA-Z0-9_]{1,50})', '', regex=True)\n",
    "        #remove hashtags\n",
    "        feature_df['text'] = feature_df['text'].str.replace(r'#([a-zA-Z0-9_]{1,50})', '', regex=True)\n",
    "        #remove punctuations\n",
    "        feature_df['text'] = feature_df['text'].str.replace(r'[^\\w\\s]', '', regex=True)\n",
    "        #tokenize\n",
    "        feature_df['text'] = feature_df['text'].apply(lambda x : np.asarray(list(tokenize(x))))\n",
    "\n",
    "        if not is_test:\n",
    "            #encode target labels \n",
    "            label_encoder = LabelEncoder()\n",
    "            label_encoder.fit(feature_df['target'])\n",
    "            feature_df['target'] = label_encoder.transform(feature_df['target'])\n",
    "            #check word counts\n",
    "            self.word_counts = feature_df.explode('text')['text'].value_counts().to_dict()\n",
    "            #remove low frequency words\n",
    "            feature_df['text'] = feature_df['text'].apply(self.remove_more_stop_words)\n",
    "\n",
    "        elif is_test:\n",
    "            feature_df['text'] = feature_df['text'].apply(self.remove_more_stop_words_test)\n",
    "\n",
    "        #lemmatize\n",
    "        self.lemmatizer = WordNetLemmatizer()\n",
    "        feature_df['text'] = feature_df['text'].apply(self.lemmatize)\n",
    "\n",
    "        if not is_test:\n",
    "            #vocab\n",
    "            vocabulary = feature_df.explode('text')['text'].value_counts().to_dict()\n",
    "            #vocab length\n",
    "            vocab_length = len(vocabulary)\n",
    "            return feature_df, self.word_counts, vocabulary, vocab_length\n",
    "\n",
    "        elif is_test:\n",
    "            return feature_df\n",
    "            \n",
    "    "
   ]
  },
  {
   "cell_type": "markdown",
   "id": "468b0d0c-1639-4861-8b96-28542c8ff96e",
   "metadata": {},
   "source": [
    "## Pre-Process data and save dataframe"
   ]
  },
  {
   "cell_type": "code",
   "execution_count": 10,
   "id": "5ff97f27-b1cd-4373-aab3-034ed4aaa065",
   "metadata": {},
   "outputs": [],
   "source": [
    "preprocess = PreProc()\n",
    "feature_df, word_counts, vocabulary, vocab_length = preprocess.preproc(df, is_test=False)\n",
    "feature_df_test = preprocess.preproc(test_df, is_test=True)"
   ]
  },
  {
   "cell_type": "code",
   "execution_count": 2,
   "id": "5bac5d8a-43ff-4647-9af4-9aea1dc8ee4e",
   "metadata": {},
   "outputs": [],
   "source": [
    "path_df_NN_train = os.path.abspath(os.path.join(os.getcwd(), os.pardir))+'\\\\Dataframe\\\\lemmatized_feature_df_NN.pkl'\n",
    "path_df_NN_test = os.path.abspath(os.path.join(os.getcwd(), os.pardir))+'\\\\Dataframe\\\\lemmatized_feature_df_test_NN.pkl'\n"
   ]
  },
  {
   "cell_type": "code",
   "execution_count": null,
   "id": "231644da",
   "metadata": {},
   "outputs": [],
   "source": [
    "#feature_df.to_pickle(path_df_NN_train)\n",
    "#feature_df_test.to_pickle(path_df_NN_test)"
   ]
  },
  {
   "cell_type": "code",
   "execution_count": 3,
   "id": "3ac52824",
   "metadata": {},
   "outputs": [],
   "source": [
    "feature_df = pd.read_pickle(path_df_NN_train)\n",
    "feature_df_test = pd.read_pickle(path_df_NN_test)"
   ]
  },
  {
   "cell_type": "markdown",
   "id": "f9738a60-87c1-4de8-a0bd-42e86327e748",
   "metadata": {},
   "source": [
    "#### Load data frame if saved"
   ]
  },
  {
   "cell_type": "code",
   "execution_count": 12,
   "id": "899945fb-5047-4f22-9b8b-e403dbf1a6c1",
   "metadata": {},
   "outputs": [],
   "source": [
    "#Uncomment and load dataframe if already pre-processed and saved\n",
    "#feature_df = pd.read_pickle(path_df_NN_train)\n",
    "#feature_df_test = pd.read_pickle(path_df_NN_test)"
   ]
  },
  {
   "cell_type": "markdown",
   "id": "8517430b-8273-40d1-bf32-680e30d974c4",
   "metadata": {},
   "source": [
    "## Create Word2Vec Embedding"
   ]
  },
  {
   "cell_type": "code",
   "execution_count": 13,
   "id": "b5b15921-6252-4f94-85c0-d1e75c71a47b",
   "metadata": {},
   "outputs": [],
   "source": [
    "word_dict, embedding_weights = create_embedding(feature_df)"
   ]
  },
  {
   "cell_type": "code",
   "execution_count": 4,
   "id": "194eb896",
   "metadata": {},
   "outputs": [],
   "source": [
    "# using skipgra eembeddings from lstm\n",
    "path_word_dict = os.path.abspath(os.path.join(os.getcwd(), os.pardir))+'\\\\Models\\\\word_dict.pkl'\n",
    "path_embedding_weights = os.path.abspath(os.path.join(os.getcwd(), os.pardir))+'\\\\Models\\\\Word2Vec_weights.pkl'"
   ]
  },
  {
   "cell_type": "code",
   "execution_count": 5,
   "id": "b84dc4d1",
   "metadata": {},
   "outputs": [],
   "source": [
    "word_dict = pickle.load( open(path_word_dict, 'rb'))\n",
    "embedding_weights =pickle.load(open(path_embedding_weights, 'rb'))"
   ]
  },
  {
   "cell_type": "markdown",
   "id": "d38920f1-52fd-4300-a7de-2acc5c6aebaa",
   "metadata": {},
   "source": [
    "## Create train-val and test sets"
   ]
  },
  {
   "cell_type": "code",
   "execution_count": 8,
   "id": "dd2dc53f-146b-4fa8-b691-d719bc116688",
   "metadata": {},
   "outputs": [],
   "source": [
    "x_train, x_val, x_test, y_train, y_val = to_sequences(feature_df, feature_df_test)"
   ]
  },
  {
   "cell_type": "markdown",
   "id": "b27373cf-d542-4893-aa34-7d3976421fcb",
   "metadata": {},
   "source": [
    "## Model Dense NN"
   ]
  },
  {
   "cell_type": "code",
   "execution_count": 9,
   "id": "5a28bf8e-a00c-43d7-a9a5-1e63b71d1ef2",
   "metadata": {},
   "outputs": [],
   "source": [
    "def create_model():\n",
    "    model = Sequential()\n",
    "    model.add(Embedding(input_dim=embedding_weights.shape[0], output_dim=embedding_weights.shape[1], weights=[embedding_weights], trainable=False, input_length=50))\n",
    "    model.add(Flatten())\n",
    "    model.add(Dense(64, activation=\"relu\", name=\"layer1\"))\n",
    "    model.add(Dropout(0.5))\n",
    "    model.add(Dense(32, activation=\"relu\", name=\"layer3\"))\n",
    "    model.add(Dense(3, activation=\"softmax\"))\n",
    "    return model\n",
    "\n",
    "nn_model = create_model()"
   ]
  },
  {
   "cell_type": "code",
   "execution_count": 10,
   "id": "3fb73286-3533-477d-b3b2-48de92bb3d38",
   "metadata": {},
   "outputs": [
    {
     "name": "stdout",
     "output_type": "stream",
     "text": [
      "Model: \"sequential\"\n",
      "_________________________________________________________________\n",
      " Layer (type)                Output Shape              Param #   \n",
      "=================================================================\n",
      " embedding (Embedding)       (None, 50, 100)           905600    \n",
      "                                                                 \n",
      " flatten (Flatten)           (None, 5000)              0         \n",
      "                                                                 \n",
      " layer1 (Dense)              (None, 64)                320064    \n",
      "                                                                 \n",
      " dropout (Dropout)           (None, 64)                0         \n",
      "                                                                 \n",
      " layer3 (Dense)              (None, 32)                2080      \n",
      "                                                                 \n",
      " dense (Dense)               (None, 3)                 99        \n",
      "                                                                 \n",
      "=================================================================\n",
      "Total params: 1,227,843\n",
      "Trainable params: 322,243\n",
      "Non-trainable params: 905,600\n",
      "_________________________________________________________________\n"
     ]
    }
   ],
   "source": [
    "nn_model.summary()"
   ]
  },
  {
   "cell_type": "code",
   "execution_count": 11,
   "id": "4a098ef1-6269-4078-9733-b4f824b7be73",
   "metadata": {},
   "outputs": [],
   "source": [
    "def train(x, y, model, optimizer, loss, metrics, batch_size, epochs, validation_data):\n",
    "    model.compile(loss=loss, optimizer=optimizer, metrics=metrics)\n",
    "    history = model.fit(\n",
    "        x,\n",
    "        y,\n",
    "        batch_size=batch_size,\n",
    "        epochs=epochs,\n",
    "        validation_data=validation_data,\n",
    "        shuffle=True,\n",
    "    )\n",
    "    return history"
   ]
  },
  {
   "cell_type": "code",
   "execution_count": 12,
   "id": "a1e86da5-64a5-47e4-a67e-dc62983b1781",
   "metadata": {
    "scrolled": true
   },
   "outputs": [
    {
     "name": "stdout",
     "output_type": "stream",
     "text": [
      "Epoch 1/100\n",
      "813/813 [==============================] - 7s 3ms/step - loss: 0.5701 - accuracy: 0.7101 - val_loss: 0.5313 - val_accuracy: 0.7353\n",
      "Epoch 2/100\n",
      "813/813 [==============================] - 3s 3ms/step - loss: 0.5348 - accuracy: 0.7315 - val_loss: 0.5320 - val_accuracy: 0.7363\n",
      "Epoch 3/100\n",
      "813/813 [==============================] - 3s 3ms/step - loss: 0.5266 - accuracy: 0.7371 - val_loss: 0.5264 - val_accuracy: 0.7421\n",
      "Epoch 4/100\n",
      "813/813 [==============================] - 3s 3ms/step - loss: 0.5204 - accuracy: 0.7412 - val_loss: 0.5294 - val_accuracy: 0.7384\n",
      "Epoch 5/100\n",
      "813/813 [==============================] - 3s 3ms/step - loss: 0.5152 - accuracy: 0.7445 - val_loss: 0.5215 - val_accuracy: 0.7446\n",
      "Epoch 6/100\n",
      "813/813 [==============================] - 3s 3ms/step - loss: 0.5103 - accuracy: 0.7483 - val_loss: 0.5172 - val_accuracy: 0.7455\n",
      "Epoch 7/100\n",
      "813/813 [==============================] - 3s 3ms/step - loss: 0.5066 - accuracy: 0.7511 - val_loss: 0.5221 - val_accuracy: 0.7450\n",
      "Epoch 8/100\n",
      "813/813 [==============================] - 3s 3ms/step - loss: 0.5028 - accuracy: 0.7536 - val_loss: 0.5169 - val_accuracy: 0.7472\n",
      "Epoch 9/100\n",
      "813/813 [==============================] - 3s 3ms/step - loss: 0.4998 - accuracy: 0.7554 - val_loss: 0.5153 - val_accuracy: 0.7474\n",
      "Epoch 10/100\n",
      "813/813 [==============================] - 3s 3ms/step - loss: 0.4966 - accuracy: 0.7575 - val_loss: 0.5172 - val_accuracy: 0.7472\n",
      "Epoch 11/100\n",
      "813/813 [==============================] - 3s 3ms/step - loss: 0.4941 - accuracy: 0.7592 - val_loss: 0.5164 - val_accuracy: 0.7466\n",
      "Epoch 12/100\n",
      "813/813 [==============================] - 3s 3ms/step - loss: 0.4919 - accuracy: 0.7613 - val_loss: 0.5142 - val_accuracy: 0.7468\n",
      "Epoch 13/100\n",
      "813/813 [==============================] - 3s 3ms/step - loss: 0.4900 - accuracy: 0.7617 - val_loss: 0.5141 - val_accuracy: 0.7471\n",
      "Epoch 14/100\n",
      "813/813 [==============================] - 3s 3ms/step - loss: 0.4881 - accuracy: 0.7631 - val_loss: 0.5152 - val_accuracy: 0.7459\n",
      "Epoch 15/100\n",
      "813/813 [==============================] - 3s 3ms/step - loss: 0.4862 - accuracy: 0.7648 - val_loss: 0.5146 - val_accuracy: 0.7462\n",
      "Epoch 16/100\n",
      "813/813 [==============================] - 3s 3ms/step - loss: 0.4848 - accuracy: 0.7654 - val_loss: 0.5152 - val_accuracy: 0.7467\n",
      "Epoch 17/100\n",
      "813/813 [==============================] - 3s 3ms/step - loss: 0.4834 - accuracy: 0.7661 - val_loss: 0.5140 - val_accuracy: 0.7463\n",
      "Epoch 18/100\n",
      "813/813 [==============================] - 3s 3ms/step - loss: 0.4818 - accuracy: 0.7673 - val_loss: 0.5165 - val_accuracy: 0.7457\n",
      "Epoch 19/100\n",
      "813/813 [==============================] - 3s 3ms/step - loss: 0.4803 - accuracy: 0.7684 - val_loss: 0.5190 - val_accuracy: 0.7450\n",
      "Epoch 20/100\n",
      "813/813 [==============================] - 3s 3ms/step - loss: 0.4791 - accuracy: 0.7685 - val_loss: 0.5155 - val_accuracy: 0.7459\n",
      "Epoch 21/100\n",
      "813/813 [==============================] - 3s 3ms/step - loss: 0.4783 - accuracy: 0.7698 - val_loss: 0.5164 - val_accuracy: 0.7458\n",
      "Epoch 22/100\n",
      "813/813 [==============================] - 3s 3ms/step - loss: 0.4765 - accuracy: 0.7703 - val_loss: 0.5196 - val_accuracy: 0.7448\n",
      "Epoch 23/100\n",
      "813/813 [==============================] - 3s 3ms/step - loss: 0.4756 - accuracy: 0.7708 - val_loss: 0.5168 - val_accuracy: 0.7451\n",
      "Epoch 24/100\n",
      "813/813 [==============================] - 3s 3ms/step - loss: 0.4751 - accuracy: 0.7718 - val_loss: 0.5176 - val_accuracy: 0.7447\n",
      "Epoch 25/100\n",
      "813/813 [==============================] - 3s 3ms/step - loss: 0.4739 - accuracy: 0.7726 - val_loss: 0.5189 - val_accuracy: 0.7446\n",
      "Epoch 26/100\n",
      "813/813 [==============================] - 3s 3ms/step - loss: 0.4727 - accuracy: 0.7731 - val_loss: 0.5175 - val_accuracy: 0.7444\n",
      "Epoch 27/100\n",
      "813/813 [==============================] - 3s 3ms/step - loss: 0.4715 - accuracy: 0.7735 - val_loss: 0.5197 - val_accuracy: 0.7436\n",
      "Epoch 28/100\n",
      "813/813 [==============================] - 3s 3ms/step - loss: 0.4716 - accuracy: 0.7740 - val_loss: 0.5187 - val_accuracy: 0.7449\n",
      "Epoch 29/100\n",
      "813/813 [==============================] - 2s 3ms/step - loss: 0.4702 - accuracy: 0.7744 - val_loss: 0.5207 - val_accuracy: 0.7437\n",
      "Epoch 30/100\n",
      "813/813 [==============================] - 3s 3ms/step - loss: 0.4696 - accuracy: 0.7751 - val_loss: 0.5195 - val_accuracy: 0.7442\n",
      "Epoch 31/100\n",
      "813/813 [==============================] - 3s 3ms/step - loss: 0.4693 - accuracy: 0.7754 - val_loss: 0.5186 - val_accuracy: 0.7442\n",
      "Epoch 32/100\n",
      "813/813 [==============================] - 3s 3ms/step - loss: 0.4685 - accuracy: 0.7760 - val_loss: 0.5182 - val_accuracy: 0.7453\n",
      "Epoch 33/100\n",
      "813/813 [==============================] - 3s 3ms/step - loss: 0.4673 - accuracy: 0.7764 - val_loss: 0.5202 - val_accuracy: 0.7435\n",
      "Epoch 34/100\n",
      "813/813 [==============================] - 3s 3ms/step - loss: 0.4670 - accuracy: 0.7765 - val_loss: 0.5216 - val_accuracy: 0.7440\n",
      "Epoch 35/100\n",
      "813/813 [==============================] - 3s 3ms/step - loss: 0.4665 - accuracy: 0.7768 - val_loss: 0.5216 - val_accuracy: 0.7422\n",
      "Epoch 36/100\n",
      "813/813 [==============================] - 3s 3ms/step - loss: 0.4663 - accuracy: 0.7769 - val_loss: 0.5208 - val_accuracy: 0.7425\n",
      "Epoch 37/100\n",
      "813/813 [==============================] - 3s 3ms/step - loss: 0.4646 - accuracy: 0.7778 - val_loss: 0.5191 - val_accuracy: 0.7451\n",
      "Epoch 38/100\n",
      "813/813 [==============================] - 3s 3ms/step - loss: 0.4646 - accuracy: 0.7781 - val_loss: 0.5207 - val_accuracy: 0.7430\n",
      "Epoch 39/100\n",
      "813/813 [==============================] - 3s 3ms/step - loss: 0.4638 - accuracy: 0.7786 - val_loss: 0.5203 - val_accuracy: 0.7438\n",
      "Epoch 40/100\n",
      "813/813 [==============================] - 3s 3ms/step - loss: 0.4636 - accuracy: 0.7790 - val_loss: 0.5205 - val_accuracy: 0.7434\n",
      "Epoch 41/100\n",
      "813/813 [==============================] - 3s 3ms/step - loss: 0.4629 - accuracy: 0.7793 - val_loss: 0.5208 - val_accuracy: 0.7431\n",
      "Epoch 42/100\n",
      "813/813 [==============================] - 3s 4ms/step - loss: 0.4625 - accuracy: 0.7796 - val_loss: 0.5211 - val_accuracy: 0.7425\n",
      "Epoch 43/100\n",
      "813/813 [==============================] - 3s 3ms/step - loss: 0.4617 - accuracy: 0.7794 - val_loss: 0.5218 - val_accuracy: 0.7428\n",
      "Epoch 44/100\n",
      "813/813 [==============================] - 3s 3ms/step - loss: 0.4617 - accuracy: 0.7800 - val_loss: 0.5218 - val_accuracy: 0.7429\n",
      "Epoch 45/100\n",
      "813/813 [==============================] - 3s 3ms/step - loss: 0.4611 - accuracy: 0.7801 - val_loss: 0.5206 - val_accuracy: 0.7424\n",
      "Epoch 46/100\n",
      "813/813 [==============================] - 3s 3ms/step - loss: 0.4605 - accuracy: 0.7809 - val_loss: 0.5221 - val_accuracy: 0.7420\n",
      "Epoch 47/100\n",
      "813/813 [==============================] - 3s 3ms/step - loss: 0.4607 - accuracy: 0.7807 - val_loss: 0.5225 - val_accuracy: 0.7419\n",
      "Epoch 48/100\n",
      "813/813 [==============================] - 3s 3ms/step - loss: 0.4593 - accuracy: 0.7815 - val_loss: 0.5218 - val_accuracy: 0.7437\n",
      "Epoch 49/100\n",
      "813/813 [==============================] - 3s 3ms/step - loss: 0.4586 - accuracy: 0.7816 - val_loss: 0.5215 - val_accuracy: 0.7427\n",
      "Epoch 50/100\n",
      "813/813 [==============================] - 3s 3ms/step - loss: 0.4583 - accuracy: 0.7820 - val_loss: 0.5224 - val_accuracy: 0.7424\n",
      "Epoch 51/100\n",
      "813/813 [==============================] - 3s 3ms/step - loss: 0.4583 - accuracy: 0.7822 - val_loss: 0.5233 - val_accuracy: 0.7415\n",
      "Epoch 52/100\n",
      "813/813 [==============================] - 3s 3ms/step - loss: 0.4582 - accuracy: 0.7821 - val_loss: 0.5224 - val_accuracy: 0.7423\n",
      "Epoch 53/100\n",
      "813/813 [==============================] - 3s 3ms/step - loss: 0.4573 - accuracy: 0.7826 - val_loss: 0.5240 - val_accuracy: 0.7416\n",
      "Epoch 54/100\n",
      "813/813 [==============================] - 3s 4ms/step - loss: 0.4574 - accuracy: 0.7825 - val_loss: 0.5245 - val_accuracy: 0.7413\n",
      "Epoch 55/100\n",
      "813/813 [==============================] - 3s 4ms/step - loss: 0.4568 - accuracy: 0.7827 - val_loss: 0.5244 - val_accuracy: 0.7407\n",
      "Epoch 56/100\n",
      "813/813 [==============================] - 3s 3ms/step - loss: 0.4568 - accuracy: 0.7827 - val_loss: 0.5236 - val_accuracy: 0.7416\n",
      "Epoch 57/100\n",
      "813/813 [==============================] - 3s 3ms/step - loss: 0.4565 - accuracy: 0.7830 - val_loss: 0.5256 - val_accuracy: 0.7409\n"
     ]
    },
    {
     "name": "stdout",
     "output_type": "stream",
     "text": [
      "Epoch 58/100\n",
      "813/813 [==============================] - 3s 3ms/step - loss: 0.4558 - accuracy: 0.7830 - val_loss: 0.5286 - val_accuracy: 0.7394\n",
      "Epoch 59/100\n",
      "813/813 [==============================] - 3s 3ms/step - loss: 0.4552 - accuracy: 0.7843 - val_loss: 0.5238 - val_accuracy: 0.7421\n",
      "Epoch 60/100\n",
      "813/813 [==============================] - 3s 3ms/step - loss: 0.4550 - accuracy: 0.7843 - val_loss: 0.5245 - val_accuracy: 0.7418\n",
      "Epoch 61/100\n",
      "813/813 [==============================] - 3s 3ms/step - loss: 0.4548 - accuracy: 0.7842 - val_loss: 0.5255 - val_accuracy: 0.7408\n",
      "Epoch 62/100\n",
      "813/813 [==============================] - 3s 3ms/step - loss: 0.4542 - accuracy: 0.7840 - val_loss: 0.5252 - val_accuracy: 0.7413\n",
      "Epoch 63/100\n",
      "813/813 [==============================] - 3s 3ms/step - loss: 0.4540 - accuracy: 0.7841 - val_loss: 0.5245 - val_accuracy: 0.7420\n",
      "Epoch 64/100\n",
      "813/813 [==============================] - 3s 3ms/step - loss: 0.4535 - accuracy: 0.7848 - val_loss: 0.5259 - val_accuracy: 0.7410\n",
      "Epoch 65/100\n",
      "813/813 [==============================] - 3s 3ms/step - loss: 0.4535 - accuracy: 0.7847 - val_loss: 0.5249 - val_accuracy: 0.7418\n",
      "Epoch 66/100\n",
      "813/813 [==============================] - 3s 3ms/step - loss: 0.4524 - accuracy: 0.7855 - val_loss: 0.5274 - val_accuracy: 0.7400\n",
      "Epoch 67/100\n",
      "813/813 [==============================] - 3s 3ms/step - loss: 0.4528 - accuracy: 0.7851 - val_loss: 0.5274 - val_accuracy: 0.7403\n",
      "Epoch 68/100\n",
      "813/813 [==============================] - 3s 3ms/step - loss: 0.4520 - accuracy: 0.7861 - val_loss: 0.5265 - val_accuracy: 0.7401\n",
      "Epoch 69/100\n",
      "813/813 [==============================] - 2s 3ms/step - loss: 0.4525 - accuracy: 0.7856 - val_loss: 0.5252 - val_accuracy: 0.7410\n",
      "Epoch 70/100\n",
      "813/813 [==============================] - 3s 3ms/step - loss: 0.4523 - accuracy: 0.7857 - val_loss: 0.5279 - val_accuracy: 0.7400\n",
      "Epoch 71/100\n",
      "813/813 [==============================] - 3s 3ms/step - loss: 0.4518 - accuracy: 0.7854 - val_loss: 0.5278 - val_accuracy: 0.7391\n",
      "Epoch 72/100\n",
      "813/813 [==============================] - 3s 3ms/step - loss: 0.4514 - accuracy: 0.7863 - val_loss: 0.5271 - val_accuracy: 0.7401\n",
      "Epoch 73/100\n",
      "813/813 [==============================] - 2s 3ms/step - loss: 0.4509 - accuracy: 0.7870 - val_loss: 0.5267 - val_accuracy: 0.7401\n",
      "Epoch 74/100\n",
      "813/813 [==============================] - 3s 3ms/step - loss: 0.4509 - accuracy: 0.7864 - val_loss: 0.5291 - val_accuracy: 0.7395\n",
      "Epoch 75/100\n",
      "813/813 [==============================] - 3s 3ms/step - loss: 0.4507 - accuracy: 0.7866 - val_loss: 0.5291 - val_accuracy: 0.7382\n",
      "Epoch 76/100\n",
      "813/813 [==============================] - 3s 3ms/step - loss: 0.4504 - accuracy: 0.7868 - val_loss: 0.5285 - val_accuracy: 0.7387\n",
      "Epoch 77/100\n",
      "813/813 [==============================] - 2s 3ms/step - loss: 0.4501 - accuracy: 0.7869 - val_loss: 0.5268 - val_accuracy: 0.7407\n",
      "Epoch 78/100\n",
      "813/813 [==============================] - 3s 3ms/step - loss: 0.4497 - accuracy: 0.7871 - val_loss: 0.5269 - val_accuracy: 0.7408\n",
      "Epoch 79/100\n",
      "813/813 [==============================] - 3s 3ms/step - loss: 0.4494 - accuracy: 0.7871 - val_loss: 0.5314 - val_accuracy: 0.7372\n",
      "Epoch 80/100\n",
      "813/813 [==============================] - 3s 3ms/step - loss: 0.4494 - accuracy: 0.7875 - val_loss: 0.5275 - val_accuracy: 0.7401\n",
      "Epoch 81/100\n",
      "813/813 [==============================] - 3s 3ms/step - loss: 0.4487 - accuracy: 0.7880 - val_loss: 0.5280 - val_accuracy: 0.7397\n",
      "Epoch 82/100\n",
      "813/813 [==============================] - 3s 3ms/step - loss: 0.4487 - accuracy: 0.7877 - val_loss: 0.5292 - val_accuracy: 0.7384\n",
      "Epoch 83/100\n",
      "813/813 [==============================] - 3s 3ms/step - loss: 0.4483 - accuracy: 0.7880 - val_loss: 0.5304 - val_accuracy: 0.7382\n",
      "Epoch 84/100\n",
      "813/813 [==============================] - 3s 3ms/step - loss: 0.4485 - accuracy: 0.7884 - val_loss: 0.5302 - val_accuracy: 0.7381\n",
      "Epoch 85/100\n",
      "813/813 [==============================] - 3s 3ms/step - loss: 0.4481 - accuracy: 0.7885 - val_loss: 0.5291 - val_accuracy: 0.7383\n",
      "Epoch 86/100\n",
      "813/813 [==============================] - 3s 3ms/step - loss: 0.4478 - accuracy: 0.7884 - val_loss: 0.5325 - val_accuracy: 0.7363\n",
      "Epoch 87/100\n",
      "813/813 [==============================] - 3s 3ms/step - loss: 0.4475 - accuracy: 0.7885 - val_loss: 0.5294 - val_accuracy: 0.7392\n",
      "Epoch 88/100\n",
      "813/813 [==============================] - 3s 3ms/step - loss: 0.4476 - accuracy: 0.7888 - val_loss: 0.5288 - val_accuracy: 0.7398\n",
      "Epoch 89/100\n",
      "813/813 [==============================] - 3s 3ms/step - loss: 0.4473 - accuracy: 0.7885 - val_loss: 0.5297 - val_accuracy: 0.7387\n",
      "Epoch 90/100\n",
      "813/813 [==============================] - 3s 3ms/step - loss: 0.4462 - accuracy: 0.7893 - val_loss: 0.5307 - val_accuracy: 0.7384\n",
      "Epoch 91/100\n",
      "813/813 [==============================] - 3s 3ms/step - loss: 0.4470 - accuracy: 0.7888 - val_loss: 0.5297 - val_accuracy: 0.7395\n",
      "Epoch 92/100\n",
      "813/813 [==============================] - 3s 3ms/step - loss: 0.4459 - accuracy: 0.7896 - val_loss: 0.5306 - val_accuracy: 0.7388\n",
      "Epoch 93/100\n",
      "813/813 [==============================] - 3s 3ms/step - loss: 0.4461 - accuracy: 0.7892 - val_loss: 0.5293 - val_accuracy: 0.7391\n",
      "Epoch 94/100\n",
      "813/813 [==============================] - 2s 3ms/step - loss: 0.4463 - accuracy: 0.7892 - val_loss: 0.5318 - val_accuracy: 0.7377\n",
      "Epoch 95/100\n",
      "813/813 [==============================] - 3s 3ms/step - loss: 0.4457 - accuracy: 0.7899 - val_loss: 0.5317 - val_accuracy: 0.7378\n",
      "Epoch 96/100\n",
      "813/813 [==============================] - 2s 3ms/step - loss: 0.4455 - accuracy: 0.7896 - val_loss: 0.5315 - val_accuracy: 0.7383\n",
      "Epoch 97/100\n",
      "813/813 [==============================] - 3s 3ms/step - loss: 0.4458 - accuracy: 0.7896 - val_loss: 0.5303 - val_accuracy: 0.7387\n",
      "Epoch 98/100\n",
      "813/813 [==============================] - 3s 3ms/step - loss: 0.4449 - accuracy: 0.7908 - val_loss: 0.5319 - val_accuracy: 0.7375\n",
      "Epoch 99/100\n",
      "813/813 [==============================] - 3s 3ms/step - loss: 0.4454 - accuracy: 0.7898 - val_loss: 0.5320 - val_accuracy: 0.7378\n",
      "Epoch 100/100\n",
      "813/813 [==============================] - 3s 3ms/step - loss: 0.4445 - accuracy: 0.7904 - val_loss: 0.5311 - val_accuracy: 0.7384\n"
     ]
    }
   ],
   "source": [
    "model_metrics = train(x_train, y_train, model=nn_model,optimizer='adam', loss='sparse_categorical_crossentropy', metrics=['accuracy'], batch_size=1024, epochs=100, validation_data=(x_val,y_val))"
   ]
  },
  {
   "cell_type": "markdown",
   "id": "b800483c",
   "metadata": {},
   "source": [
    "### Creating plots"
   ]
  },
  {
   "cell_type": "code",
   "execution_count": 18,
   "id": "c71a1272",
   "metadata": {},
   "outputs": [
    {
     "data": {
      "image/png": "[encoded data removed]",
      "text/plain": [
       "<Figure size 1200x400 with 2 Axes>"
      ]
     },
     "metadata": {},
     "output_type": "display_data"
    }
   ],
   "source": [
    "plt.figure(figsize=(12, 4))\n",
    "\n",
    "plt.subplot(1, 2, 1)\n",
    "plt.plot(model_metrics.history[\"accuracy\"])\n",
    "plt.plot(model_metrics.history[\"val_accuracy\"])\n",
    "plt.xlabel(\"epochs\")\n",
    "plt.ylabel(\"Accuracy\")\n",
    "plt.title(\"Dense NN: Train vs Val accuracy\")\n",
    "plt.legend([\"train accuracy\",\"val accuracy\"])\n",
    "\n",
    "plt.subplot(1, 2, 2)\n",
    "plt.plot(model_metrics.history[\"loss\"])\n",
    "plt.plot(model_metrics.history[\"val_loss\"])\n",
    "plt.xlabel(\"epochs\")\n",
    "plt.ylabel(\"Loss\")\n",
    "plt.title(\"Dense NN: Train vs Val loss\")\n",
    "plt.legend([\"train loss\",\"val loss\"])\n",
    "\n",
    "plt.show()"
   ]
  },
  {
   "cell_type": "markdown",
   "id": "34d4a81c",
   "metadata": {},
   "source": [
    "#### confusion Matrix on val"
   ]
  },
  {
   "cell_type": "code",
   "execution_count": 27,
   "id": "94756b16",
   "metadata": {},
   "outputs": [],
   "source": [
    "import seaborn as sb"
   ]
  },
  {
   "cell_type": "code",
   "execution_count": 21,
   "id": "0b0aba75",
   "metadata": {},
   "outputs": [],
   "source": [
    "def plot_cf(Y_true, Y_pred):\n",
    "    cf = confusion_matrix(Y_true, Y_pred)\n",
    "    plt.figure(figsize=(8,8))\n",
    "    sb.heatmap(cf, annot=True, fmt=\"d\", cmap='Blues')\n",
    "    return None"
   ]
  },
  {
   "cell_type": "code",
   "execution_count": 31,
   "id": "2e3501ab",
   "metadata": {
    "scrolled": true
   },
   "outputs": [
    {
     "name": "stdout",
     "output_type": "stream",
     "text": [
      "6503/6503 [==============================] - 6s 996us/step\n"
     ]
    }
   ],
   "source": [
    "y_pred = nn_model.predict(x_val)"
   ]
  },
  {
   "cell_type": "code",
   "execution_count": 25,
   "id": "f07d21e8",
   "metadata": {},
   "outputs": [],
   "source": [
    "y_pred = np.argmax(y_pred, axis=1)"
   ]
  },
  {
   "cell_type": "code",
   "execution_count": 30,
   "id": "9cbb6bbb",
   "metadata": {},
   "outputs": [
    {
     "data": {
      "text/plain": [
       "Text(0.5, 1.0, 'Confusion Matrix for Fully connected Neural Network')"
      ]
     },
     "execution_count": 30,
     "metadata": {},
     "output_type": "execute_result"
    },
    {
     "data": {
      "image/png": "[encoded data removed]",
      "text/plain": [
       "<Figure size 800x800 with 2 Axes>"
      ]
     },
     "metadata": {},
     "output_type": "display_data"
    }
   ],
   "source": [
    "plot_cf(y_val, y_pred)\n",
    "plt.title(\"Confusion Matrix for Fully connected Neural Network\")"
   ]
  },
  {
   "cell_type": "markdown",
   "id": "57329f0f-557c-498c-91e0-7acc22797d44",
   "metadata": {},
   "source": [
    "## Test"
   ]
  },
  {
   "cell_type": "code",
   "execution_count": 27,
   "id": "3d13944a-9054-41c5-b0a7-ac512e745edd",
   "metadata": {},
   "outputs": [
    {
     "name": "stdout",
     "output_type": "stream",
     "text": [
      "17506/17506 [==============================] - 18s 1ms/step\n"
     ]
    }
   ],
   "source": [
    "y_pred_test = nn_model.predict(x_test)\n",
    "y_pred_classes = np.argmax(y_pred_test, axis=1)"
   ]
  },
  {
   "cell_type": "code",
   "execution_count": 28,
   "id": "e2287389-4331-483d-875a-ffcf973a24d8",
   "metadata": {},
   "outputs": [],
   "source": [
    "predictions_df = pd.DataFrame(y_pred_classes, columns=['target'])\n",
    "predictions_df.index.name = 'id'"
   ]
  },
  {
   "cell_type": "code",
   "execution_count": 29,
   "id": "0c2869e6-1729-4e71-a611-72f4f695e62b",
   "metadata": {},
   "outputs": [
    {
     "data": {
      "text/html": [
       "<div>\n",
       "<style scoped>\n",
       "    .dataframe tbody tr th:only-of-type {\n",
       "        vertical-align: middle;\n",
       "    }\n",
       "\n",
       "    .dataframe tbody tr th {\n",
       "        vertical-align: top;\n",
       "    }\n",
       "\n",
       "    .dataframe thead th {\n",
       "        text-align: right;\n",
       "    }\n",
       "</style>\n",
       "<table border=\"1\" class=\"dataframe\">\n",
       "  <thead>\n",
       "    <tr style=\"text-align: right;\">\n",
       "      <th></th>\n",
       "      <th>target</th>\n",
       "    </tr>\n",
       "    <tr>\n",
       "      <th>id</th>\n",
       "      <th></th>\n",
       "    </tr>\n",
       "  </thead>\n",
       "  <tbody>\n",
       "    <tr>\n",
       "      <th>0</th>\n",
       "      <td>0</td>\n",
       "    </tr>\n",
       "    <tr>\n",
       "      <th>1</th>\n",
       "      <td>2</td>\n",
       "    </tr>\n",
       "    <tr>\n",
       "      <th>2</th>\n",
       "      <td>2</td>\n",
       "    </tr>\n",
       "    <tr>\n",
       "      <th>3</th>\n",
       "      <td>0</td>\n",
       "    </tr>\n",
       "    <tr>\n",
       "      <th>4</th>\n",
       "      <td>0</td>\n",
       "    </tr>\n",
       "    <tr>\n",
       "      <th>...</th>\n",
       "      <td>...</td>\n",
       "    </tr>\n",
       "    <tr>\n",
       "      <th>560170</th>\n",
       "      <td>0</td>\n",
       "    </tr>\n",
       "    <tr>\n",
       "      <th>560171</th>\n",
       "      <td>2</td>\n",
       "    </tr>\n",
       "    <tr>\n",
       "      <th>560172</th>\n",
       "      <td>0</td>\n",
       "    </tr>\n",
       "    <tr>\n",
       "      <th>560173</th>\n",
       "      <td>2</td>\n",
       "    </tr>\n",
       "    <tr>\n",
       "      <th>560174</th>\n",
       "      <td>2</td>\n",
       "    </tr>\n",
       "  </tbody>\n",
       "</table>\n",
       "<p>560175 rows × 1 columns</p>\n",
       "</div>"
      ],
      "text/plain": [
       "        target\n",
       "id            \n",
       "0            0\n",
       "1            2\n",
       "2            2\n",
       "3            0\n",
       "4            0\n",
       "...        ...\n",
       "560170       0\n",
       "560171       2\n",
       "560172       0\n",
       "560173       2\n",
       "560174       2\n",
       "\n",
       "[560175 rows x 1 columns]"
      ]
     },
     "execution_count": 29,
     "metadata": {},
     "output_type": "execute_result"
    }
   ],
   "source": [
    "predictions_df"
   ]
  },
  {
   "cell_type": "code",
   "execution_count": 30,
   "id": "b25c1bcf-c39a-4d02-91a5-7c5e16464c27",
   "metadata": {},
   "outputs": [],
   "source": [
    "path_output = os.path.abspath(os.path.join(os.getcwd(), os.pardir))+'\\\\Test_output\\\\test_results_NN.csv'"
   ]
  },
  {
   "cell_type": "code",
   "execution_count": 31,
   "id": "24029902-33ce-409a-98cc-dc7c0397549c",
   "metadata": {},
   "outputs": [],
   "source": [
    "predictions_df.to_csv(path_output, index=True, index_label='id')"
   ]
  },
  {
   "cell_type": "markdown",
   "id": "fb96e8cb-a256-41d2-8321-71b1f3d01e55",
   "metadata": {},
   "source": [
    "### References"
   ]
  },
  {
   "cell_type": "markdown",
   "id": "36018211-bb61-448b-b5b3-40a565f3faa9",
   "metadata": {},
   "source": [
    "- https://arxiv.org/pdf/1310.4546.pdf\n",
    "- https://stackoverflow.com/questions/34721984/stopword-removing-when-using-the-word2vec\n",
    "- https://radimrehurek.com/gensim/models/word2vec.html"
   ]
  }
 ],
 "metadata": {
  "kernelspec": {
   "display_name": "Python 3 (ipykernel)",
   "language": "python",
   "name": "python3"
  },
  "language_info": {
   "codemirror_mode": {
    "name": "ipython",
    "version": 3
   },
   "file_extension": ".py",
   "mimetype": "text/x-python",
   "name": "python",
   "nbconvert_exporter": "python",
   "pygments_lexer": "ipython3",
   "version": "3.10.6"
  }
 },
 "nbformat": 4,
 "nbformat_minor": 5
}
