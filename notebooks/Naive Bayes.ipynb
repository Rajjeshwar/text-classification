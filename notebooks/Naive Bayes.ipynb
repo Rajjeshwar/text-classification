{
 "cells": [
  {
   "cell_type": "code",
   "execution_count": 2,
   "id": "287a4fde-4151-49f9-b7dc-6cb1ea032d8d",
   "metadata": {},
   "outputs": [],
   "source": [
    "import numpy as np\n",
    "import pandas as pd\n",
    "import matplotlib.pyplot as plt \n",
    "import os\n",
    "import nltk\n",
    "import pickle\n",
    "\n",
    "from sklearn.model_selection import train_test_split\n",
    "from sklearn.feature_extraction.text import TfidfVectorizer, CountVectorizer, TfidfTransformer\n",
    "from sklearn.naive_bayes import GaussianNB, MultinomialNB\n",
    "from sklearn.decomposition import TruncatedSVD\n",
    "from sklearn.metrics import accuracy_score, classification_report, confusion_matrix\n",
    "from sklearn.preprocessing import LabelEncoder\n",
    "\n",
    "from gensim.utils import tokenize\n",
    "\n",
    "from nltk.corpus import wordnet\n",
    "from nltk.stem import WordNetLemmatizer\n",
    "from nltk.corpus import stopwords\n",
    "\n",
    "import swifter"
   ]
  },
  {
   "cell_type": "code",
   "execution_count": 5,
   "id": "228ecffe",
   "metadata": {},
   "outputs": [],
   "source": [
    "import seaborn as sb"
   ]
  },
  {
   "cell_type": "code",
   "execution_count": 3,
   "id": "c3a1ade5-cbe0-4560-8863-a750bd1a6693",
   "metadata": {},
   "outputs": [
    {
     "name": "stderr",
     "output_type": "stream",
     "text": [
      "[nltk_data] Downloading package stopwords to\n",
      "[nltk_data]     C:\\Users\\gangu\\AppData\\Roaming\\nltk_data...\n",
      "[nltk_data]   Package stopwords is already up-to-date!\n",
      "[nltk_data] Downloading package wordnet to\n",
      "[nltk_data]     C:\\Users\\gangu\\AppData\\Roaming\\nltk_data...\n",
      "[nltk_data]   Package wordnet is already up-to-date!\n",
      "[nltk_data] Downloading package omw-1.4 to\n",
      "[nltk_data]     C:\\Users\\gangu\\AppData\\Roaming\\nltk_data...\n",
      "[nltk_data]   Package omw-1.4 is already up-to-date!\n",
      "[nltk_data] Downloading package averaged_perceptron_tagger to\n",
      "[nltk_data]     C:\\Users\\gangu\\AppData\\Roaming\\nltk_data...\n",
      "[nltk_data]   Package averaged_perceptron_tagger is already up-to-\n",
      "[nltk_data]       date!\n"
     ]
    },
    {
     "data": {
      "text/plain": [
       "True"
      ]
     },
     "execution_count": 3,
     "metadata": {},
     "output_type": "execute_result"
    }
   ],
   "source": [
    "nltk.download('stopwords')\n",
    "nltk.download('wordnet')\n",
    "nltk.download('omw-1.4')\n",
    "nltk.download('averaged_perceptron_tagger')"
   ]
  },
  {
   "cell_type": "markdown",
   "id": "b847f990-6a16-40a4-a8fc-623d1a185f87",
   "metadata": {},
   "source": [
    "### Load Data"
   ]
  },
  {
   "cell_type": "code",
   "execution_count": 4,
   "id": "d02c943c-7303-4a2b-8828-69801e1b0444",
   "metadata": {},
   "outputs": [],
   "source": [
    "path_data = os.path.abspath(os.path.join(os.getcwd(), os.pardir))+'\\\\DATA\\\\train_data.csv'\n",
    "path_labels = os.path.abspath(os.path.join(os.getcwd(), os.pardir))+'\\\\DATA\\\\train_results.csv'\n",
    "path_test_data = os.path.abspath(os.path.join(os.getcwd(), os.pardir))+'\\\\DATA\\\\test_data.csv'\n"
   ]
  },
  {
   "cell_type": "code",
   "execution_count": 5,
   "id": "16b14325-620d-47bd-9ab0-7a392cc43727",
   "metadata": {},
   "outputs": [],
   "source": [
    "data_df = pd.read_csv(path_data)\n",
    "label_df = pd.read_csv(path_labels)\n",
    "test_df = pd.read_csv(path_test_data)"
   ]
  },
  {
   "cell_type": "code",
   "execution_count": 6,
   "id": "88c5c4d1-4340-4233-abb1-b9e1ef85b740",
   "metadata": {},
   "outputs": [],
   "source": [
    "df = pd.merge(data_df, label_df, on='id')"
   ]
  },
  {
   "cell_type": "markdown",
   "id": "f568f79d-8f04-49d6-92f0-825b3193f89f",
   "metadata": {},
   "source": [
    "### Pre-Process data"
   ]
  },
  {
   "cell_type": "code",
   "execution_count": 7,
   "id": "03df77d4-806a-42f3-95c2-1ac54844f8e4",
   "metadata": {},
   "outputs": [],
   "source": [
    "class PreProc():\n",
    "    def __init__(self):\n",
    "        pass\n",
    "        \n",
    "    def remove_more_stop_words(self,words_arr):\n",
    "        if (len(words_arr) > 0):\n",
    "            remove = np.vectorize(lambda word: self.word_counts[word] >50)\n",
    "            return words_arr[remove(words_arr)]\n",
    "        else:\n",
    "            return ['empty']\n",
    "\n",
    "    #return low frequency words + words that don't appear in train\n",
    "    def remove_more_stop_words_test(self,words_arr):\n",
    "        if (len(words_arr) > 0):\n",
    "            remove = np.vectorize(lambda word: False if not word in self.word_counts else (True if self.word_counts[word] >50 else False))\n",
    "            return words_arr[remove(words_arr)]\n",
    "        else:\n",
    "            return ['empty']\n",
    "\n",
    "    #find the correct wordnet tag for nltk pos_tag equivalent  \n",
    "    def get_wordnet_pos(self,treebank_tag):\n",
    "        if treebank_tag.startswith('J'):\n",
    "            return wordnet.ADJ\n",
    "        elif treebank_tag.startswith('V'):\n",
    "            return wordnet.VERB\n",
    "        elif treebank_tag.startswith('N'):\n",
    "            return wordnet.NOUN\n",
    "        elif treebank_tag.startswith('R'):\n",
    "            return wordnet.ADV\n",
    "        else:\n",
    "            return wordnet.NOUN\n",
    "\n",
    "    #lemmatize \n",
    "    def lemmatize(self,word_list):\n",
    "        pos_tag = nltk.pos_tag(list(word_list))\n",
    "        words = [self.lemmatizer.lemmatize(i[0], self.get_wordnet_pos(i[1])) for i in pos_tag]\n",
    "        return words\n",
    "        \n",
    "    def preproc(self,df, is_test=False):\n",
    "    \n",
    "        feature_df = df.copy()\n",
    "        #convert lower case\n",
    "        feature_df['text'] = feature_df['text'].str.lower()\n",
    "        #remove URLS\n",
    "        feature_df['text'] = feature_df['text'].str.replace(r'(http|ftp|https):\\/\\/([\\w_-]+(?:(?:\\.[\\w_-]+)+))([\\w.,@?^=%&:\\/~+#-]*[\\w@?^=%&\\/~+#-])', '', regex=True)\n",
    "        #remove mentions\n",
    "        feature_df['text'] = feature_df['text'].str.replace(r'@([a-zA-Z0-9_]{1,50})', '', regex=True)\n",
    "        #remove hashtags\n",
    "        feature_df['text'] = feature_df['text'].str.replace(r'#([a-zA-Z0-9_]{1,50})', '', regex=True)\n",
    "        #remove punctuations\n",
    "        feature_df['text'] = feature_df['text'].str.replace(r'[^\\w\\s]', '', regex=True)\n",
    "        #tokenize\n",
    "        feature_df['text'] = feature_df['text'].apply(lambda x : np.asarray(list(tokenize(x))))\n",
    "\n",
    "        if not is_test:\n",
    "            #encode target labels \n",
    "            label_encoder = LabelEncoder()\n",
    "            label_encoder.fit(feature_df['target'])\n",
    "            feature_df['target'] = label_encoder.transform(feature_df['target'])\n",
    "            #check word counts\n",
    "            self.word_counts = feature_df.explode('text')['text'].value_counts().to_dict()\n",
    "            #remove low frequency words\n",
    "            feature_df['text'] = feature_df['text'].apply(self.remove_more_stop_words)\n",
    "\n",
    "        elif is_test:\n",
    "            feature_df['text'] = feature_df['text'].apply(self.remove_more_stop_words_test)\n",
    "\n",
    "        #lemmatize\n",
    "        self.lemmatizer = WordNetLemmatizer()\n",
    "        feature_df['text'] = feature_df['text'].apply(self.lemmatize)\n",
    "\n",
    "        if not is_test:\n",
    "            #vocab\n",
    "            vocabulary = feature_df.explode('text')['text'].value_counts().to_dict()\n",
    "            #vocab length\n",
    "            vocab_length = len(vocabulary)\n",
    "            return feature_df, self.word_counts, vocabulary, vocab_length\n",
    "\n",
    "        elif is_test:\n",
    "            return feature_df\n",
    "            \n",
    "    "
   ]
  },
  {
   "cell_type": "code",
   "execution_count": null,
   "id": "34076695-3eaa-4d67-bc4d-f6014b66af37",
   "metadata": {},
   "outputs": [],
   "source": [
    "preprocess = PreProc()\n",
    "feature_df, word_counts, vocabulary, vocab_length = preprocess.preproc(df, is_test=False)\n",
    "feature_df_test = preprocess.preproc(test_df, is_test=True)"
   ]
  },
  {
   "cell_type": "code",
   "execution_count": 3,
   "id": "7a0732d1-b59a-43c4-b91c-d2e76a59d6a2",
   "metadata": {},
   "outputs": [],
   "source": [
    "path_df_NB_train = os.path.abspath(os.path.join(os.getcwd(), os.pardir))+'\\\\Dataframe\\\\lemmatized_feature_df_NB.pkl'\n",
    "path_df_NB_test = os.path.abspath(os.path.join(os.getcwd(), os.pardir))+'\\\\Dataframe\\\\lemmatized_feature_df_test_NB.pkl'"
   ]
  },
  {
   "cell_type": "code",
   "execution_count": null,
   "id": "e4a4959f-529a-4774-a3ab-b47e42b934bf",
   "metadata": {},
   "outputs": [],
   "source": [
    "feature_df.to_pickle(path_df_NB_train)\n",
    "feature_df_test.to_pickle(path_df_NB_test)"
   ]
  },
  {
   "cell_type": "code",
   "execution_count": 4,
   "id": "2ed37c2c-ff21-42b7-8fa2-31b46fdae501",
   "metadata": {},
   "outputs": [],
   "source": [
    "#Uncomment and load dataframe if already pro-processed and saved\n",
    "feature_df = pd.read_pickle(path_df_NB_train)\n",
    "feature_df_test = pd.read_pickle(path_df_NB_test)"
   ]
  },
  {
   "cell_type": "markdown",
   "id": "9875ec8c-5246-4f5c-9650-fc30e955fbe7",
   "metadata": {},
   "source": [
    "### Create bag of words"
   ]
  },
  {
   "cell_type": "code",
   "execution_count": 6,
   "id": "7c0b0723-0456-4ab6-87ec-cfdc4aebf3df",
   "metadata": {},
   "outputs": [],
   "source": [
    "def bag_of_words(train_df, test_df):\n",
    "    feature_df = train_df.copy()\n",
    "    feature_df['text'] = feature_df['text'].str.join(' ')\n",
    "    v_c = CountVectorizer(max_features=5000)\n",
    "    count_transformer = v_c.fit(feature_df['text'])\n",
    "    x_c = count_transformer.transform(feature_df['text'])\n",
    "    x_c = x_c.astype('int8')\n",
    "    x_c = x_c.toarray().astype('int8')\n",
    "    y = np.asarray(feature_df['target'].tolist())\n",
    "    \n",
    "    \n",
    "    test_df['text'] = test_df['text'].str.join(' ')\n",
    "    x_c_test = count_transformer.transform(test_df['text'])\n",
    "    x_c_test = x_c_test.astype('int8')\n",
    "    x_c_test = x_c_test.todense().astype('int8')\n",
    "    return x_c, y, x_c_test"
   ]
  },
  {
   "cell_type": "code",
   "execution_count": 7,
   "id": "a0fabd3f-6f8a-4774-b7ad-480dfe7b9e60",
   "metadata": {},
   "outputs": [
    {
     "ename": "KeyboardInterrupt",
     "evalue": "",
     "output_type": "error",
     "traceback": [
      "\u001b[1;31m---------------------------------------------------------------------------\u001b[0m",
      "\u001b[1;31mKeyError\u001b[0m                                  Traceback (most recent call last)",
      "File \u001b[1;32m~\\.conda\\envs\\kaggle_2\\lib\\site-packages\\sklearn\\feature_extraction\\text.py:1203\u001b[0m, in \u001b[0;36mCountVectorizer._count_vocab\u001b[1;34m(self, raw_documents, fixed_vocab)\u001b[0m\n\u001b[0;32m   1202\u001b[0m \u001b[38;5;28;01mtry\u001b[39;00m:\n\u001b[1;32m-> 1203\u001b[0m     feature_idx \u001b[38;5;241m=\u001b[39m \u001b[43mvocabulary\u001b[49m\u001b[43m[\u001b[49m\u001b[43mfeature\u001b[49m\u001b[43m]\u001b[49m\n\u001b[0;32m   1204\u001b[0m     \u001b[38;5;28;01mif\u001b[39;00m feature_idx \u001b[38;5;129;01mnot\u001b[39;00m \u001b[38;5;129;01min\u001b[39;00m feature_counter:\n",
      "\u001b[1;31mKeyError\u001b[0m: 'traveling'",
      "\nDuring handling of the above exception, another exception occurred:\n",
      "\u001b[1;31mKeyboardInterrupt\u001b[0m                         Traceback (most recent call last)",
      "Input \u001b[1;32mIn [7]\u001b[0m, in \u001b[0;36m<cell line: 1>\u001b[1;34m()\u001b[0m\n\u001b[1;32m----> 1\u001b[0m x_c, y, x_c_test \u001b[38;5;241m=\u001b[39m \u001b[43mbag_of_words\u001b[49m\u001b[43m(\u001b[49m\u001b[43mfeature_df\u001b[49m\u001b[43m,\u001b[49m\u001b[43m \u001b[49m\u001b[43mfeature_df_test\u001b[49m\u001b[43m)\u001b[49m\n",
      "Input \u001b[1;32mIn [6]\u001b[0m, in \u001b[0;36mbag_of_words\u001b[1;34m(train_df, test_df)\u001b[0m\n\u001b[0;32m      4\u001b[0m v_c \u001b[38;5;241m=\u001b[39m CountVectorizer(max_features\u001b[38;5;241m=\u001b[39m\u001b[38;5;241m5000\u001b[39m)\n\u001b[0;32m      5\u001b[0m count_transformer \u001b[38;5;241m=\u001b[39m v_c\u001b[38;5;241m.\u001b[39mfit(feature_df[\u001b[38;5;124m'\u001b[39m\u001b[38;5;124mtext\u001b[39m\u001b[38;5;124m'\u001b[39m])\n\u001b[1;32m----> 6\u001b[0m x_c \u001b[38;5;241m=\u001b[39m \u001b[43mcount_transformer\u001b[49m\u001b[38;5;241;43m.\u001b[39;49m\u001b[43mtransform\u001b[49m\u001b[43m(\u001b[49m\u001b[43mfeature_df\u001b[49m\u001b[43m[\u001b[49m\u001b[38;5;124;43m'\u001b[39;49m\u001b[38;5;124;43mtext\u001b[39;49m\u001b[38;5;124;43m'\u001b[39;49m\u001b[43m]\u001b[49m\u001b[43m)\u001b[49m\n\u001b[0;32m      7\u001b[0m x_c \u001b[38;5;241m=\u001b[39m x_c\u001b[38;5;241m.\u001b[39mastype(\u001b[38;5;124m'\u001b[39m\u001b[38;5;124mint8\u001b[39m\u001b[38;5;124m'\u001b[39m)\n\u001b[0;32m      8\u001b[0m x_c \u001b[38;5;241m=\u001b[39m x_c\u001b[38;5;241m.\u001b[39mtoarray()\u001b[38;5;241m.\u001b[39mastype(\u001b[38;5;124m'\u001b[39m\u001b[38;5;124mint8\u001b[39m\u001b[38;5;124m'\u001b[39m)\n",
      "File \u001b[1;32m~\\.conda\\envs\\kaggle_2\\lib\\site-packages\\sklearn\\feature_extraction\\text.py:1379\u001b[0m, in \u001b[0;36mCountVectorizer.transform\u001b[1;34m(self, raw_documents)\u001b[0m\n\u001b[0;32m   1376\u001b[0m \u001b[38;5;28mself\u001b[39m\u001b[38;5;241m.\u001b[39m_check_vocabulary()\n\u001b[0;32m   1378\u001b[0m \u001b[38;5;66;03m# use the same matrix-building strategy as fit_transform\u001b[39;00m\n\u001b[1;32m-> 1379\u001b[0m _, X \u001b[38;5;241m=\u001b[39m \u001b[38;5;28;43mself\u001b[39;49m\u001b[38;5;241;43m.\u001b[39;49m\u001b[43m_count_vocab\u001b[49m\u001b[43m(\u001b[49m\u001b[43mraw_documents\u001b[49m\u001b[43m,\u001b[49m\u001b[43m \u001b[49m\u001b[43mfixed_vocab\u001b[49m\u001b[38;5;241;43m=\u001b[39;49m\u001b[38;5;28;43;01mTrue\u001b[39;49;00m\u001b[43m)\u001b[49m\n\u001b[0;32m   1380\u001b[0m \u001b[38;5;28;01mif\u001b[39;00m \u001b[38;5;28mself\u001b[39m\u001b[38;5;241m.\u001b[39mbinary:\n\u001b[0;32m   1381\u001b[0m     X\u001b[38;5;241m.\u001b[39mdata\u001b[38;5;241m.\u001b[39mfill(\u001b[38;5;241m1\u001b[39m)\n",
      "File \u001b[1;32m~\\.conda\\envs\\kaggle_2\\lib\\site-packages\\sklearn\\feature_extraction\\text.py:1203\u001b[0m, in \u001b[0;36mCountVectorizer._count_vocab\u001b[1;34m(self, raw_documents, fixed_vocab)\u001b[0m\n\u001b[0;32m   1201\u001b[0m \u001b[38;5;28;01mfor\u001b[39;00m feature \u001b[38;5;129;01min\u001b[39;00m analyze(doc):\n\u001b[0;32m   1202\u001b[0m     \u001b[38;5;28;01mtry\u001b[39;00m:\n\u001b[1;32m-> 1203\u001b[0m         feature_idx \u001b[38;5;241m=\u001b[39m \u001b[43mvocabulary\u001b[49m\u001b[43m[\u001b[49m\u001b[43mfeature\u001b[49m\u001b[43m]\u001b[49m\n\u001b[0;32m   1204\u001b[0m         \u001b[38;5;28;01mif\u001b[39;00m feature_idx \u001b[38;5;129;01mnot\u001b[39;00m \u001b[38;5;129;01min\u001b[39;00m feature_counter:\n\u001b[0;32m   1205\u001b[0m             feature_counter[feature_idx] \u001b[38;5;241m=\u001b[39m \u001b[38;5;241m1\u001b[39m\n",
      "\u001b[1;31mKeyboardInterrupt\u001b[0m: "
     ]
    }
   ],
   "source": [
    "x_c, y, x_c_test = bag_of_words(feature_df, feature_df_test)"
   ]
  },
  {
   "cell_type": "markdown",
   "id": "bc087e6b-a47d-46d3-8037-430507686d71",
   "metadata": {},
   "source": [
    "### Create train and val for Bag of Words"
   ]
  },
  {
   "cell_type": "code",
   "execution_count": null,
   "id": "8714eafe-6575-4064-a84e-d144f901db77",
   "metadata": {},
   "outputs": [],
   "source": [
    "x_train_c, x_val_c, y_train_c, y_val_c = train_test_split(x_c, y, test_size=0.20, random_state=40, stratify=y)"
   ]
  },
  {
   "cell_type": "markdown",
   "id": "a9c05d4b-2b44-4d2b-a5af-d1ee5f194da3",
   "metadata": {},
   "source": [
    "### Naive Bayes "
   ]
  },
  {
   "cell_type": "code",
   "execution_count": 13,
   "id": "d5720c86-76f6-41d2-a3a3-7238e2e3883e",
   "metadata": {},
   "outputs": [],
   "source": [
    "def train_NB(x, y):\n",
    "    NB_classifier_M = MultinomialNB()\n",
    "    model_NB_M = NB_classifier_M.fit(x, y)\n",
    "    path_models_NB = os.path.abspath(os.path.join(os.getcwd(), os.pardir))+'\\\\Models\\\\MNB_classifier.pkl'\n",
    "    with open(path_models_NB, 'wb') as f:\n",
    "        pickle.dump(model_NB_M, f)\n",
    "    return model_NB_M"
   ]
  },
  {
   "cell_type": "code",
   "execution_count": 14,
   "id": "6a09288b-8a4c-47c7-a649-e650bda1bca0",
   "metadata": {},
   "outputs": [],
   "source": [
    "model_NB_M = train_NB(x_train_c, y_train_c)"
   ]
  },
  {
   "cell_type": "markdown",
   "id": "b164fc89-c4e2-4d17-8e8f-827c6803a6b9",
   "metadata": {},
   "source": [
    "### Predict on val and metrics"
   ]
  },
  {
   "cell_type": "code",
   "execution_count": 15,
   "id": "64536c58-4add-4579-afc8-dfc772407f33",
   "metadata": {},
   "outputs": [],
   "source": [
    "y_pred = model_NB_M.predict(x_val_c)"
   ]
  },
  {
   "cell_type": "code",
   "execution_count": 16,
   "id": "5c2fbdee-cb42-4ced-aad3-1e5adeedd9ba",
   "metadata": {},
   "outputs": [],
   "source": [
    "acc = accuracy_score(y_val_c, y_pred)"
   ]
  },
  {
   "cell_type": "code",
   "execution_count": 17,
   "id": "556ab096-bd45-4c0f-9fc7-c1b3af1df6cd",
   "metadata": {},
   "outputs": [
    {
     "name": "stdout",
     "output_type": "stream",
     "text": [
      "              precision    recall  f1-score   support\n",
      "\n",
      "           0       0.77      0.78      0.77    103961\n",
      "           1       0.00      0.00      0.00        17\n",
      "           2       0.78      0.76      0.77    104087\n",
      "\n",
      "    accuracy                           0.77    208065\n",
      "   macro avg       0.51      0.51      0.51    208065\n",
      "weighted avg       0.77      0.77      0.77    208065\n",
      "\n"
     ]
    }
   ],
   "source": [
    "cr = classification_report(y_val_c, y_pred)\n",
    "print(cr)"
   ]
  },
  {
   "cell_type": "code",
   "execution_count": 18,
   "id": "c3eac9d5-0dd1-4faa-bf4f-1d483ef99c85",
   "metadata": {},
   "outputs": [
    {
     "name": "stdout",
     "output_type": "stream",
     "text": [
      "[[81225    20 22716]\n",
      " [    6     0    11]\n",
      " [24935    28 79124]]\n"
     ]
    }
   ],
   "source": [
    "cm = confusion_matrix(y_val_c, y_pred)\n",
    "print(cm)"
   ]
  },
  {
   "cell_type": "code",
   "execution_count": 9,
   "id": "a276a050",
   "metadata": {},
   "outputs": [],
   "source": [
    "cm = np.array([[81225,    20, 22716],\n",
    " [    6,     0 ,   11],\n",
    " [24935,    28, 79124]])"
   ]
  },
  {
   "cell_type": "code",
   "execution_count": 15,
   "id": "407fbe70",
   "metadata": {},
   "outputs": [
    {
     "data": {
      "text/plain": [
       "Text(0.5, 1.0, 'Confusion Matrix for Naive Bayes Classifier')"
      ]
     },
     "execution_count": 15,
     "metadata": {},
     "output_type": "execute_result"
    },
    {
     "data": {
      "image/png": "[encoded data removed]",
      "text/plain": [
       "<Figure size 800x800 with 2 Axes>"
      ]
     },
     "metadata": {},
     "output_type": "display_data"
    }
   ],
   "source": [
    " plt.figure(figsize=(8,8))\n",
    "sb.heatmap(cm, annot=True, fmt=\"d\", cmap='Blues')\n",
    "plt.title(\"Confusion Matrix for Naive Bayes Classifier\")"
   ]
  },
  {
   "cell_type": "markdown",
   "id": "57f2a3c2-d3f9-42db-9d76-8b48fa995721",
   "metadata": {},
   "source": [
    "### Predict on test"
   ]
  },
  {
   "cell_type": "code",
   "execution_count": 19,
   "id": "640325ec-e5ce-4f4d-a895-b242e7cf16c3",
   "metadata": {},
   "outputs": [],
   "source": [
    "y_pred_test = model_NB_M.predict(x_c_test)"
   ]
  },
  {
   "cell_type": "code",
   "execution_count": 20,
   "id": "2b9c82e9-e99e-4cb6-bbc8-46120dec2991",
   "metadata": {},
   "outputs": [
    {
     "data": {
      "text/plain": [
       "array([0, 2, 0, ..., 0, 2, 2])"
      ]
     },
     "execution_count": 20,
     "metadata": {},
     "output_type": "execute_result"
    }
   ],
   "source": [
    "y_pred_test"
   ]
  },
  {
   "cell_type": "code",
   "execution_count": 21,
   "id": "19fe9420-9f90-4c55-b2e4-82666f216810",
   "metadata": {},
   "outputs": [],
   "source": [
    "predictions_df = pd.DataFrame(y_pred_test, columns=['target'])\n",
    "predictions_df.index.name = 'id'"
   ]
  },
  {
   "cell_type": "code",
   "execution_count": 22,
   "id": "a76d7c16-507b-447c-b900-3e7a8b83eefc",
   "metadata": {},
   "outputs": [
    {
     "data": {
      "text/html": [
       "<div>\n",
       "<style scoped>\n",
       "    .dataframe tbody tr th:only-of-type {\n",
       "        vertical-align: middle;\n",
       "    }\n",
       "\n",
       "    .dataframe tbody tr th {\n",
       "        vertical-align: top;\n",
       "    }\n",
       "\n",
       "    .dataframe thead th {\n",
       "        text-align: right;\n",
       "    }\n",
       "</style>\n",
       "<table border=\"1\" class=\"dataframe\">\n",
       "  <thead>\n",
       "    <tr style=\"text-align: right;\">\n",
       "      <th></th>\n",
       "      <th>target</th>\n",
       "    </tr>\n",
       "    <tr>\n",
       "      <th>id</th>\n",
       "      <th></th>\n",
       "    </tr>\n",
       "  </thead>\n",
       "  <tbody>\n",
       "    <tr>\n",
       "      <th>0</th>\n",
       "      <td>0</td>\n",
       "    </tr>\n",
       "    <tr>\n",
       "      <th>1</th>\n",
       "      <td>2</td>\n",
       "    </tr>\n",
       "    <tr>\n",
       "      <th>2</th>\n",
       "      <td>0</td>\n",
       "    </tr>\n",
       "    <tr>\n",
       "      <th>3</th>\n",
       "      <td>0</td>\n",
       "    </tr>\n",
       "    <tr>\n",
       "      <th>4</th>\n",
       "      <td>0</td>\n",
       "    </tr>\n",
       "    <tr>\n",
       "      <th>...</th>\n",
       "      <td>...</td>\n",
       "    </tr>\n",
       "    <tr>\n",
       "      <th>560170</th>\n",
       "      <td>0</td>\n",
       "    </tr>\n",
       "    <tr>\n",
       "      <th>560171</th>\n",
       "      <td>0</td>\n",
       "    </tr>\n",
       "    <tr>\n",
       "      <th>560172</th>\n",
       "      <td>0</td>\n",
       "    </tr>\n",
       "    <tr>\n",
       "      <th>560173</th>\n",
       "      <td>2</td>\n",
       "    </tr>\n",
       "    <tr>\n",
       "      <th>560174</th>\n",
       "      <td>2</td>\n",
       "    </tr>\n",
       "  </tbody>\n",
       "</table>\n",
       "<p>560175 rows × 1 columns</p>\n",
       "</div>"
      ],
      "text/plain": [
       "        target\n",
       "id            \n",
       "0            0\n",
       "1            2\n",
       "2            0\n",
       "3            0\n",
       "4            0\n",
       "...        ...\n",
       "560170       0\n",
       "560171       0\n",
       "560172       0\n",
       "560173       2\n",
       "560174       2\n",
       "\n",
       "[560175 rows x 1 columns]"
      ]
     },
     "execution_count": 22,
     "metadata": {},
     "output_type": "execute_result"
    }
   ],
   "source": [
    "predictions_df"
   ]
  },
  {
   "cell_type": "code",
   "execution_count": 23,
   "id": "0f9f611e-ee34-4534-9978-27be1376e130",
   "metadata": {},
   "outputs": [],
   "source": [
    "path_output = os.path.abspath(os.path.join(os.getcwd(), os.pardir))+'\\\\Test_output\\\\test_results_MNB.csv'"
   ]
  },
  {
   "cell_type": "code",
   "execution_count": 24,
   "id": "e85675be-fb44-4f54-afa1-422d3d807632",
   "metadata": {},
   "outputs": [],
   "source": [
    "predictions_df.to_csv(path_output, index=True, index_label='id')"
   ]
  },
  {
   "cell_type": "markdown",
   "id": "a673001d-1101-4ee0-b560-390b4a5ab8c7",
   "metadata": {},
   "source": [
    "## References"
   ]
  },
  {
   "cell_type": "markdown",
   "id": "cdf0b9d1-88ca-452d-873c-391423849caa",
   "metadata": {},
   "source": [
    "- https://nlp.stanford.edu/IR-book/html/htmledition/stemming-and-lemmatization-1.html\n",
    "- https://www.machinelearningplus.com/nlp/lemmatization-examples-python/"
   ]
  },
  {
   "cell_type": "code",
   "execution_count": null,
   "id": "bf72b109-08f9-4bc4-81a2-27e25687f9ed",
   "metadata": {},
   "outputs": [],
   "source": []
  }
 ],
 "metadata": {
  "kernelspec": {
   "display_name": "Python 3 (ipykernel)",
   "language": "python",
   "name": "python3"
  },
  "language_info": {
   "codemirror_mode": {
    "name": "ipython",
    "version": 3
   },
   "file_extension": ".py",
   "mimetype": "text/x-python",
   "name": "python",
   "nbconvert_exporter": "python",
   "pygments_lexer": "ipython3",
   "version": "3.10.6"
  }
 },
 "nbformat": 4,
 "nbformat_minor": 5
}
