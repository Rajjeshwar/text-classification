{
 "cells": [
  {
   "cell_type": "code",
   "execution_count": 2,
   "id": "18c42207-e4d6-4956-83c3-e0707e6ae454",
   "metadata": {},
   "outputs": [
    {
     "name": "stderr",
     "output_type": "stream",
     "text": [
      "[nltk_data] Downloading package stopwords to\n",
      "[nltk_data]     C:\\Users\\gangu\\AppData\\Roaming\\nltk_data...\n",
      "[nltk_data]   Package stopwords is already up-to-date!\n",
      "[nltk_data] Downloading package wordnet to\n",
      "[nltk_data]     C:\\Users\\gangu\\AppData\\Roaming\\nltk_data...\n",
      "[nltk_data]   Package wordnet is already up-to-date!\n",
      "[nltk_data] Downloading package omw-1.4 to\n",
      "[nltk_data]     C:\\Users\\gangu\\AppData\\Roaming\\nltk_data...\n",
      "[nltk_data]   Package omw-1.4 is already up-to-date!\n",
      "[nltk_data] Downloading package averaged_perceptron_tagger to\n",
      "[nltk_data]     C:\\Users\\gangu\\AppData\\Roaming\\nltk_data...\n",
      "[nltk_data]   Package averaged_perceptron_tagger is already up-to-\n",
      "[nltk_data]       date!\n"
     ]
    },
    {
     "data": {
      "text/plain": [
       "True"
      ]
     },
     "execution_count": 2,
     "metadata": {},
     "output_type": "execute_result"
    }
   ],
   "source": [
    "#download necessary packages\n",
    "nltk.download('stopwords')\n",
    "nltk.download('wordnet')\n",
    "nltk.download('omw-1.4')\n",
    "nltk.download('averaged_perceptron_tagger')"
   ]
  },
  {
   "cell_type": "code",
   "execution_count": null,
   "id": "b0ca891c-bc0e-46ff-9382-cdd77664df42",
   "metadata": {
    "tags": []
   },
   "outputs": [],
   "source": [
    "import numpy as np\n",
    "import pandas as pd\n",
    "import matplotlib.pyplot as plt \n",
    "import os\n",
    "import nltk\n",
    "import pickle\n",
    "\n",
    "\n",
    "from sklearn.model_selection import train_test_split\n",
    "from sklearn.feature_extraction.text import TfidfVectorizer, CountVectorizer, TfidfTransformer\n",
    "from sklearn.naive_bayes import GaussianNB, MultinomialNB\n",
    "from sklearn.decomposition import TruncatedSVD\n",
    "from sklearn.metrics import accuracy_score, classification_report, confusion_matrix\n",
    "from sklearn.preprocessing import LabelEncoder\n",
    "\n",
    "from nltk.corpus import wordnet\n",
    "from nltk.stem import WordNetLemmatizer\n",
    "from nltk.corpus import stopwords\n",
    "\n",
    "from gensim.utils import tokenize\n",
    "from gensim.models import Phrases, Word2Vec\n",
    "\n",
    "from tensorflow.keras.models import Sequential\n",
    "from tensorflow.keras.layers import Input, Embedding, Dense, Flatten, Dropout, BatchNormalization, LSTM, SpatialDropout1D, GRU, Bidirectional, Conv1D\n",
    "from tensorflow.keras.optimizers import Adam, RMSprop\n",
    "from tensorflow.keras.preprocessing.text import Tokenizer, text_to_word_sequence\n",
    "from tensorflow.keras.preprocessing.sequence import pad_sequences\n",
    "from tensorflow.keras.optimizers import Adam"
   ]
  },
  {
   "cell_type": "code",
   "execution_count": null,
   "id": "35225516-0c76-42e9-9254-0cba0f56f50b",
   "metadata": {},
   "outputs": [],
   "source": []
  },
  {
   "cell_type": "code",
   "execution_count": 3,
   "id": "93512bcc-68aa-4cc7-8a88-6d7d5ec84026",
   "metadata": {},
   "outputs": [],
   "source": [
    "path_data = os.path.abspath(os.path.join(os.getcwd(), os.pardir))+'\\\\DATA\\\\train_data.csv'\n",
    "path_labels = os.path.abspath(os.path.join(os.getcwd(), os.pardir))+'\\\\DATA\\\\train_results.csv'\n",
    "path_test_data = os.path.abspath(os.path.join(os.getcwd(), os.pardir))+'\\\\DATA\\\\test_data.csv'"
   ]
  },
  {
   "cell_type": "code",
   "execution_count": 27,
   "id": "dccc771d-0fe9-4ab7-a1b7-6d380dd6a5de",
   "metadata": {},
   "outputs": [],
   "source": [
    "data_df = pd.read_csv(path_data)\n",
    "label_df = pd.read_csv(path_labels)\n",
    "test_df = pd.read_csv(path_test_data)"
   ]
  },
  {
   "cell_type": "code",
   "execution_count": 28,
   "id": "b7beccc5-ceb5-4e2f-8142-1dec770ea889",
   "metadata": {},
   "outputs": [],
   "source": [
    "df = pd.merge(data_df, label_df, on='id')"
   ]
  },
  {
   "cell_type": "code",
   "execution_count": 29,
   "id": "56923f40-69ed-48a4-b76e-f9421e5f05df",
   "metadata": {},
   "outputs": [
    {
     "data": {
      "text/html": [
       "<div>\n",
       "<style scoped>\n",
       "    .dataframe tbody tr th:only-of-type {\n",
       "        vertical-align: middle;\n",
       "    }\n",
       "\n",
       "    .dataframe tbody tr th {\n",
       "        vertical-align: top;\n",
       "    }\n",
       "\n",
       "    .dataframe thead th {\n",
       "        text-align: right;\n",
       "    }\n",
       "</style>\n",
       "<table border=\"1\" class=\"dataframe\">\n",
       "  <thead>\n",
       "    <tr style=\"text-align: right;\">\n",
       "      <th></th>\n",
       "      <th>id</th>\n",
       "      <th>text</th>\n",
       "      <th>target</th>\n",
       "    </tr>\n",
       "  </thead>\n",
       "  <tbody>\n",
       "    <tr>\n",
       "      <th>0</th>\n",
       "      <td>0</td>\n",
       "      <td>Anyway Im getting of for a while</td>\n",
       "      <td>positive</td>\n",
       "    </tr>\n",
       "    <tr>\n",
       "      <th>1</th>\n",
       "      <td>1</td>\n",
       "      <td>My red, Apache isn't feelin too well this morn...</td>\n",
       "      <td>negative</td>\n",
       "    </tr>\n",
       "    <tr>\n",
       "      <th>2</th>\n",
       "      <td>2</td>\n",
       "      <td>@danyelljoy you should be  its great. friday w...</td>\n",
       "      <td>positive</td>\n",
       "    </tr>\n",
       "    <tr>\n",
       "      <th>3</th>\n",
       "      <td>3</td>\n",
       "      <td>its 11:30pm and i dont wanna sleep; so i debat...</td>\n",
       "      <td>positive</td>\n",
       "    </tr>\n",
       "    <tr>\n",
       "      <th>4</th>\n",
       "      <td>4</td>\n",
       "      <td>Why does twitter eat my DM's?  Not happy</td>\n",
       "      <td>negative</td>\n",
       "    </tr>\n",
       "    <tr>\n",
       "      <th>...</th>\n",
       "      <td>...</td>\n",
       "      <td>...</td>\n",
       "      <td>...</td>\n",
       "    </tr>\n",
       "    <tr>\n",
       "      <th>1040318</th>\n",
       "      <td>1040318</td>\n",
       "      <td>getting ready 2 watch mental</td>\n",
       "      <td>positive</td>\n",
       "    </tr>\n",
       "    <tr>\n",
       "      <th>1040319</th>\n",
       "      <td>1040319</td>\n",
       "      <td>Wristcutters and Half Nelson are on Sundance F...</td>\n",
       "      <td>negative</td>\n",
       "    </tr>\n",
       "    <tr>\n",
       "      <th>1040320</th>\n",
       "      <td>1040320</td>\n",
       "      <td>@t_isfortammy Going out in Northbridge makes m...</td>\n",
       "      <td>negative</td>\n",
       "    </tr>\n",
       "    <tr>\n",
       "      <th>1040321</th>\n",
       "      <td>1040321</td>\n",
       "      <td>@iModel_ lol.... Gorgeous...lol! U look sooo m...</td>\n",
       "      <td>positive</td>\n",
       "    </tr>\n",
       "    <tr>\n",
       "      <th>1040322</th>\n",
       "      <td>1040322</td>\n",
       "      <td>@iamjonathancook why?</td>\n",
       "      <td>negative</td>\n",
       "    </tr>\n",
       "  </tbody>\n",
       "</table>\n",
       "<p>1040323 rows × 3 columns</p>\n",
       "</div>"
      ],
      "text/plain": [
       "              id                                               text    target\n",
       "0              0                  Anyway Im getting of for a while   positive\n",
       "1              1  My red, Apache isn't feelin too well this morn...  negative\n",
       "2              2  @danyelljoy you should be  its great. friday w...  positive\n",
       "3              3  its 11:30pm and i dont wanna sleep; so i debat...  positive\n",
       "4              4          Why does twitter eat my DM's?  Not happy   negative\n",
       "...          ...                                                ...       ...\n",
       "1040318  1040318                      getting ready 2 watch mental   positive\n",
       "1040319  1040319  Wristcutters and Half Nelson are on Sundance F...  negative\n",
       "1040320  1040320  @t_isfortammy Going out in Northbridge makes m...  negative\n",
       "1040321  1040321  @iModel_ lol.... Gorgeous...lol! U look sooo m...  positive\n",
       "1040322  1040322                             @iamjonathancook why?   negative\n",
       "\n",
       "[1040323 rows x 3 columns]"
      ]
     },
     "execution_count": 29,
     "metadata": {},
     "output_type": "execute_result"
    }
   ],
   "source": [
    "df"
   ]
  },
  {
   "cell_type": "code",
   "execution_count": 48,
   "id": "5f43343f-ced8-499d-ac4a-ce1b622ac651",
   "metadata": {},
   "outputs": [
    {
     "data": {
      "image/png": "[encoded data removed]",
      "text/plain": [
       "<Figure size 640x480 with 1 Axes>"
      ]
     },
     "metadata": {},
     "output_type": "display_data"
    }
   ],
   "source": [
    "counts = df[\"target\"].value_counts()\n",
    "ax = counts.plot(kind='bar')\n",
    "plt.xlabel(\"Sentiment type\")\n",
    "plt.xticks(rotation=360)\n",
    "plt.ylabel(\"Number of samples\")\n",
    "for p in ax.patches:\n",
    "    ax.annotate(str(p.get_height()), (p.get_x() * 1.005, p.get_height() * 1.005))"
   ]
  },
  {
   "cell_type": "markdown",
   "id": "4bc97cec-8133-4641-92b6-a23972af4b3f",
   "metadata": {},
   "source": [
    "## Pre-Process Train"
   ]
  },
  {
   "cell_type": "markdown",
   "id": "c45df033-f84c-4224-950c-087f5d5176ec",
   "metadata": {},
   "source": [
    "#### Helper functions"
   ]
  },
  {
   "cell_type": "code",
   "execution_count": 7,
   "id": "a7a9c390-29f2-4e2f-a6d1-39e10453767d",
   "metadata": {},
   "outputs": [],
   "source": [
    "class PreProc():\n",
    "    def __init__(self):\n",
    "        pass\n",
    "        \n",
    "    def remove_more_stop_words(self,words_arr):\n",
    "        if (len(words_arr) > 0):\n",
    "            remove = np.vectorize(lambda word: self.word_counts[word] >50)\n",
    "            return words_arr[remove(words_arr)]\n",
    "        else:\n",
    "            return ['empty']\n",
    "\n",
    "    #return low frequency words + words that don't appear in train\n",
    "    def remove_more_stop_words_test(self,words_arr):\n",
    "        if (len(words_arr) > 0):\n",
    "            remove = np.vectorize(lambda word: False if not word in self.word_counts else (True if self.word_counts[word] >50 else False))\n",
    "            return words_arr[remove(words_arr)]\n",
    "        else:\n",
    "            return ['empty']\n",
    "\n",
    "    #find the correct wordnet tag for nltk pos_tag equivalent  \n",
    "    def get_wordnet_pos(self,treebank_tag):\n",
    "        if treebank_tag.startswith('J'):\n",
    "            return wordnet.ADJ\n",
    "        elif treebank_tag.startswith('V'):\n",
    "            return wordnet.VERB\n",
    "        elif treebank_tag.startswith('N'):\n",
    "            return wordnet.NOUN\n",
    "        elif treebank_tag.startswith('R'):\n",
    "            return wordnet.ADV\n",
    "        else:\n",
    "            return wordnet.NOUN\n",
    "\n",
    "    #lemmatize \n",
    "    def lemmatize(self,word_list):\n",
    "        pos_tag = nltk.pos_tag(list(word_list))\n",
    "        words = [self.lemmatizer.lemmatize(i[0], self.get_wordnet_pos(i[1])) for i in pos_tag]\n",
    "        return words    \n",
    "        \n",
    "    def preproc(self,df, is_test=False):\n",
    "    \n",
    "        feature_df = df.copy()\n",
    "        #convert lower case\n",
    "        feature_df['text'] = feature_df['text'].str.lower()\n",
    "        #remove URLS\n",
    "        feature_df['text'] = feature_df['text'].str.replace(r'(http|ftp|https):\\/\\/([\\w_-]+(?:(?:\\.[\\w_-]+)+))([\\w.,@?^=%&:\\/~+#-]*[\\w@?^=%&\\/~+#-])', '', regex=True)\n",
    "        #remove mentions\n",
    "        feature_df['text'] = feature_df['text'].str.replace(r'@([a-zA-Z0-9_]{1,50})', '', regex=True)\n",
    "        #remove hashtags\n",
    "        feature_df['text'] = feature_df['text'].str.replace(r'#([a-zA-Z0-9_]{1,50})', '', regex=True)\n",
    "        #remove punctuations\n",
    "        feature_df['text'] = feature_df['text'].str.replace(r'[^\\w\\s]', '', regex=True)\n",
    "        #tokenize\n",
    "        feature_df['text'] = feature_df['text'].apply(lambda x : np.asarray(list(tokenize(x))))\n",
    "\n",
    "        if not is_test:\n",
    "            #encode target labels \n",
    "            label_encoder = LabelEncoder()\n",
    "            label_encoder.fit(feature_df['target'])\n",
    "            feature_df['target'] = label_encoder.transform(feature_df['target'])\n",
    "            #check word counts\n",
    "            self.word_counts = feature_df.explode('text')['text'].value_counts().to_dict()\n",
    "            #remove low frequency words\n",
    "            feature_df['text'] = feature_df['text'].apply(self.remove_more_stop_words)\n",
    "\n",
    "        elif is_test:\n",
    "            feature_df['text'] = feature_df['text'].apply(self.remove_more_stop_words_test)\n",
    "\n",
    "        #lemmatize\n",
    "        self.lemmatizer = WordNetLemmatizer()\n",
    "        feature_df['text'] = feature_df['text'].apply(self.lemmatize)\n",
    "\n",
    "        if not is_test:\n",
    "            #vocab\n",
    "            vocabulary = feature_df.explode('text')['text'].value_counts().to_dict()\n",
    "            #vocab length\n",
    "            vocab_length = len(vocabulary)\n",
    "            return feature_df, self.word_counts, vocabulary, vocab_length\n",
    "\n",
    "        elif is_test:\n",
    "            return feature_df\n",
    "            \n",
    "    "
   ]
  },
  {
   "cell_type": "code",
   "execution_count": 2,
   "id": "3dbed1aa-3d4f-4d02-9832-5435a6dad09a",
   "metadata": {},
   "outputs": [],
   "source": [
    "#word2vec train and fit function\n",
    "def create_embedding(df):\n",
    "    sentence_list = [row for row in feature_df['text']]\n",
    "    w2v = Word2Vec(sample=3e-5, min_count=1, sg=0)\n",
    "    w2v.build_vocab(corpus_iterable=sentence_list)\n",
    "    w2v.train(corpus_iterable=sentence_list, total_examples=w2v.corpus_count, epochs=100, report_delay=1)\n",
    "    key_index = w2v.wv.key_to_index\n",
    "    # MAKE A DICT\n",
    "    word_dict = {word:w2v.wv[word] for word in key_index}\n",
    "    \n",
    "    embedding_weights = w2v.wv.vectors\n",
    "    #add zeros vector to align indices of keras and gensim tokenizer\n",
    "    row_zero = np.zeros((100))\n",
    "    embedding_weights = np.insert(embedding_weights, 0, row_zero, axis=0)\n",
    "    return word_dict, embedding_weights"
   ]
  },
  {
   "cell_type": "code",
   "execution_count": 11,
   "id": "22bcf9df-ed44-41d1-91bc-d6fd4ca6892f",
   "metadata": {},
   "outputs": [],
   "source": [
    "def to_sequences(train_df, test_df):\n",
    "\n",
    "    #list of input sentences\n",
    "    X = train_df['text'].values\n",
    "\n",
    "    #array of 0,1 and 2 labels\n",
    "    Y = train_df['target'].to_numpy()\n",
    "    input_tokenizer = Tokenizer()\n",
    "    input_tokenizer.fit_on_texts(X)\n",
    "    encoded_X = input_tokenizer.texts_to_sequences(X)\n",
    "    \n",
    "    # right pad for equal length \n",
    "    X_train = pad_sequences(encoded_X, maxlen=50, padding='post')\n",
    "    \n",
    "    #generate train-val set\n",
    "    x_train, x_val, y_train, y_val = train_test_split(X_train, Y, stratify=Y, test_size=0.2, random_state=40)\n",
    "    \n",
    "    #test sequences\n",
    "    X_test = test_df['text'].values\n",
    "    x_test_sequences = input_tokenizer.texts_to_sequences(X_test)\n",
    "    x_test = pad_sequences(x_test_sequences, maxlen=50, padding='post')\n",
    "    return x_train, x_val, x_test, y_train, y_val"
   ]
  },
  {
   "cell_type": "code",
   "execution_count": 12,
   "id": "d58bb829-a92d-4437-b08e-d876dcf89cc0",
   "metadata": {},
   "outputs": [],
   "source": [
    "def get_predictions(x, model, checkpoint_path):\n",
    "    model.load_weights(checkpoint_path)\n",
    "    predictions = model.predict(x)\n",
    "    return predictions"
   ]
  },
  {
   "cell_type": "code",
   "execution_count": 13,
   "id": "3fd4b98a-f2da-45e7-8482-ed44c6431264",
   "metadata": {},
   "outputs": [],
   "source": [
    "def plot_cf(Y_true, Y_pred):\n",
    "    cf = confusion_matrix(Y_true, Y_pred)\n",
    "    plt.figure(figsize=(8,8))\n",
    "    sb.heatmap(cf, annot=True, fmt=\"d\", cmap='Blues')\n",
    "    return None"
   ]
  },
  {
   "cell_type": "markdown",
   "id": "468b0d0c-1639-4861-8b96-28542c8ff96e",
   "metadata": {},
   "source": [
    "## Pre-Process data and save dataframe"
   ]
  },
  {
   "cell_type": "code",
   "execution_count": null,
   "id": "5ff97f27-b1cd-4373-aab3-034ed4aaa065",
   "metadata": {},
   "outputs": [],
   "source": [
    "preprocess = PreProc()\n",
    "feature_df, word_counts, vocabulary, vocab_length = preprocess.preproc(df, is_test=False)\n",
    "feature_df_test = preprocess.preproc(test_df, is_test=True)"
   ]
  },
  {
   "cell_type": "code",
   "execution_count": 4,
   "id": "5bac5d8a-43ff-4647-9af4-9aea1dc8ee4e",
   "metadata": {},
   "outputs": [],
   "source": [
    "path_df_LSTM_train = os.path.abspath(os.path.join(os.getcwd(), os.pardir))+'\\\\Dataframe\\\\lemmatized_feature_df_LSTM.pkl'\n",
    "path_df_LSTM_test = os.path.abspath(os.path.join(os.getcwd(), os.pardir))+'\\\\Dataframe\\\\lemmatized_feature_df_test_LSTM.pkl'"
   ]
  },
  {
   "cell_type": "code",
   "execution_count": 5,
   "id": "00e8c1fa-1f3e-4128-8a6e-2ac49aa65c70",
   "metadata": {},
   "outputs": [],
   "source": [
    "#feature_df.to_pickle(path_df_LSTM_train)\n",
    "#feature_df_test.to_pickle(path_df_LSTM_test)"
   ]
  },
  {
   "cell_type": "code",
   "execution_count": 6,
   "id": "899945fb-5047-4f22-9b8b-e403dbf1a6c1",
   "metadata": {},
   "outputs": [],
   "source": [
    "#Uncomment and load dataframe if already pro-processed and saved\n",
    "feature_df = pd.read_pickle(path_df_LSTM_train)\n",
    "feature_df_test = pd.read_pickle(path_df_LSTM_test)"
   ]
  },
  {
   "cell_type": "code",
   "execution_count": 58,
   "id": "66e0a238",
   "metadata": {},
   "outputs": [
    {
     "data": {
      "text/html": [
       "<div>\n",
       "<style scoped>\n",
       "    .dataframe tbody tr th:only-of-type {\n",
       "        vertical-align: middle;\n",
       "    }\n",
       "\n",
       "    .dataframe tbody tr th {\n",
       "        vertical-align: top;\n",
       "    }\n",
       "\n",
       "    .dataframe thead th {\n",
       "        text-align: right;\n",
       "    }\n",
       "</style>\n",
       "<table border=\"1\" class=\"dataframe\">\n",
       "  <thead>\n",
       "    <tr style=\"text-align: right;\">\n",
       "      <th></th>\n",
       "      <th>id</th>\n",
       "      <th>text</th>\n",
       "      <th>target</th>\n",
       "    </tr>\n",
       "  </thead>\n",
       "  <tbody>\n",
       "    <tr>\n",
       "      <th>0</th>\n",
       "      <td>0</td>\n",
       "      <td>[anyway, im, get, of, for, a, while]</td>\n",
       "      <td>2</td>\n",
       "    </tr>\n",
       "    <tr>\n",
       "      <th>1</th>\n",
       "      <td>1</td>\n",
       "      <td>[my, red, isnt, feelin, too, well, this, morning]</td>\n",
       "      <td>0</td>\n",
       "    </tr>\n",
       "    <tr>\n",
       "      <th>2</th>\n",
       "      <td>2</td>\n",
       "      <td>[you, should, be, it, great, friday, will, be,...</td>\n",
       "      <td>2</td>\n",
       "    </tr>\n",
       "    <tr>\n",
       "      <th>3</th>\n",
       "      <td>3</td>\n",
       "      <td>[it, pm, and, i, dont, wanna, sleep, so, i, wi...</td>\n",
       "      <td>2</td>\n",
       "    </tr>\n",
       "    <tr>\n",
       "      <th>4</th>\n",
       "      <td>4</td>\n",
       "      <td>[why, do, twitter, eat, my, dm, not, happy]</td>\n",
       "      <td>0</td>\n",
       "    </tr>\n",
       "    <tr>\n",
       "      <th>...</th>\n",
       "      <td>...</td>\n",
       "      <td>...</td>\n",
       "      <td>...</td>\n",
       "    </tr>\n",
       "    <tr>\n",
       "      <th>1040318</th>\n",
       "      <td>1040318</td>\n",
       "      <td>[get, ready, watch, mental]</td>\n",
       "      <td>2</td>\n",
       "    </tr>\n",
       "    <tr>\n",
       "      <th>1040319</th>\n",
       "      <td>1040319</td>\n",
       "      <td>[and, half, be, on, free, movie, on, demand, t...</td>\n",
       "      <td>0</td>\n",
       "    </tr>\n",
       "    <tr>\n",
       "      <th>1040320</th>\n",
       "      <td>1040320</td>\n",
       "      <td>[go, out, in, make, me, jealous, of, you, im, ...</td>\n",
       "      <td>0</td>\n",
       "    </tr>\n",
       "    <tr>\n",
       "      <th>1040321</th>\n",
       "      <td>1040321</td>\n",
       "      <td>[lol, u, look, sooo, much, like, that, vampire...</td>\n",
       "      <td>2</td>\n",
       "    </tr>\n",
       "    <tr>\n",
       "      <th>1040322</th>\n",
       "      <td>1040322</td>\n",
       "      <td>[why]</td>\n",
       "      <td>0</td>\n",
       "    </tr>\n",
       "  </tbody>\n",
       "</table>\n",
       "<p>1040323 rows × 3 columns</p>\n",
       "</div>"
      ],
      "text/plain": [
       "              id                                               text  target\n",
       "0              0               [anyway, im, get, of, for, a, while]       2\n",
       "1              1  [my, red, isnt, feelin, too, well, this, morning]       0\n",
       "2              2  [you, should, be, it, great, friday, will, be,...       2\n",
       "3              3  [it, pm, and, i, dont, wanna, sleep, so, i, wi...       2\n",
       "4              4        [why, do, twitter, eat, my, dm, not, happy]       0\n",
       "...          ...                                                ...     ...\n",
       "1040318  1040318                        [get, ready, watch, mental]       2\n",
       "1040319  1040319  [and, half, be, on, free, movie, on, demand, t...       0\n",
       "1040320  1040320  [go, out, in, make, me, jealous, of, you, im, ...       0\n",
       "1040321  1040321  [lol, u, look, sooo, much, like, that, vampire...       2\n",
       "1040322  1040322                                              [why]       0\n",
       "\n",
       "[1040323 rows x 3 columns]"
      ]
     },
     "execution_count": 58,
     "metadata": {},
     "output_type": "execute_result"
    }
   ],
   "source": [
    "feature_df"
   ]
  },
  {
   "cell_type": "markdown",
   "id": "8517430b-8273-40d1-bf32-680e30d974c4",
   "metadata": {},
   "source": [
    "## Create Word2Vec Embedding"
   ]
  },
  {
   "cell_type": "code",
   "execution_count": null,
   "id": "b5b15921-6252-4f94-85c0-d1e75c71a47b",
   "metadata": {
    "tags": []
   },
   "outputs": [],
   "source": [
    "word_dict, embedding_weights = create_embedding(feature_df)"
   ]
  },
  {
   "cell_type": "code",
   "execution_count": null,
   "id": "cbdbbac0-8921-4b3c-bb00-ece7666d1468",
   "metadata": {
    "tags": []
   },
   "outputs": [],
   "source": [
    "embedding_weights.shape"
   ]
  },
  {
   "cell_type": "code",
   "execution_count": 7,
   "id": "c56dd7af-efdb-4949-8885-80bd277ed8e2",
   "metadata": {},
   "outputs": [],
   "source": [
    "path_word_dict = os.path.abspath(os.path.join(os.getcwd(), os.pardir))+'\\\\Models\\\\word_dict.pkl'\n",
    "path_embedding_weights = os.path.abspath(os.path.join(os.getcwd(), os.pardir))+'\\\\Models\\\\Word2Vec_weights.pkl'"
   ]
  },
  {
   "cell_type": "code",
   "execution_count": 18,
   "id": "ecc9d709-cf33-4f6c-bd7e-d095d7efec59",
   "metadata": {},
   "outputs": [],
   "source": [
    "with open(path_word_dict, 'wb') as f:\n",
    "        pickle.dump(word_dict, f)\n",
    "with open(path_embedding_weights, 'wb') as f:\n",
    "        pickle.dump(embedding_weights, f)"
   ]
  },
  {
   "cell_type": "code",
   "execution_count": 8,
   "id": "ca0fe3f3",
   "metadata": {},
   "outputs": [],
   "source": [
    "word_dict = pickle.load( open(path_word_dict, 'rb'))\n",
    "embedding_weights =pickle.load(open(path_embedding_weights, 'rb'))"
   ]
  },
  {
   "cell_type": "markdown",
   "id": "d38920f1-52fd-4300-a7de-2acc5c6aebaa",
   "metadata": {},
   "source": [
    "## Create train-val and test sets"
   ]
  },
  {
   "cell_type": "code",
   "execution_count": 14,
   "id": "dd2dc53f-146b-4fa8-b691-d719bc116688",
   "metadata": {},
   "outputs": [],
   "source": [
    "x_train, x_val, x_test, y_train, y_val = to_sequences(feature_df, feature_df_test)"
   ]
  },
  {
   "cell_type": "markdown",
   "id": "b27373cf-d542-4893-aa34-7d3976421fcb",
   "metadata": {},
   "source": [
    "## Model LSTM"
   ]
  },
  {
   "cell_type": "code",
   "execution_count": 15,
   "id": "5a28bf8e-a00c-43d7-a9a5-1e63b71d1ef2",
   "metadata": {},
   "outputs": [],
   "source": [
    "def create_model_1():\n",
    "    model = Sequential()\n",
    "    model.add(Embedding(input_dim=embedding_weights.shape[0], output_dim=embedding_weights.shape[1], weights=[embedding_weights], trainable=False, input_length=50))\n",
    "    model.add(Conv1D(128, kernel_size=1, padding='valid', activation='relu'))\n",
    "    model.add(SpatialDropout1D(0.3))\n",
    "    model.add(LSTM(128, dropout=0.2, return_sequences=True))\n",
    "    model.add(LSTM(128, dropout=0.2, return_sequences=True))\n",
    "    model.add(LSTM(64, dropout=0.2))\n",
    "    model.add(Dense(3,activation='softmax'))\n",
    "    return model\n",
    "\n",
    "lstm_model_1 = create_model_1()"
   ]
  },
  {
   "cell_type": "code",
   "execution_count": 16,
   "id": "5beb2f64-3528-4f74-890c-234caff786b7",
   "metadata": {},
   "outputs": [],
   "source": [
    "checkpoint_filepath_model_1_LSTM = 'Models/checkpoint_model_1_1_LSTM/cp.ckpt'\n",
    "model_checkpoint_callback_model_1_LSTM = tf.keras.callbacks.ModelCheckpoint(\n",
    "    filepath=checkpoint_filepath_model_1_LSTM,\n",
    "    save_weights_only=True,\n",
    "    monitor='val_accuracy',\n",
    "    mode='max',\n",
    "    save_best_only=True)"
   ]
  },
  {
   "cell_type": "code",
   "execution_count": 34,
   "id": "3fb73286-3533-477d-b3b2-48de92bb3d38",
   "metadata": {},
   "outputs": [
    {
     "name": "stdout",
     "output_type": "stream",
     "text": [
      "Model: \"sequential\"\n",
      "_________________________________________________________________\n",
      " Layer (type)                Output Shape              Param #   \n",
      "=================================================================\n",
      " embedding (Embedding)       (None, 50, 100)           905600    \n",
      "                                                                 \n",
      " conv1d (Conv1D)             (None, 50, 128)           12928     \n",
      "                                                                 \n",
      " spatial_dropout1d (SpatialD  (None, 50, 128)          0         \n",
      " ropout1D)                                                       \n",
      "                                                                 \n",
      " lstm (LSTM)                 (None, 50, 128)           131584    \n",
      "                                                                 \n",
      " lstm_1 (LSTM)               (None, 50, 128)           131584    \n",
      "                                                                 \n",
      " lstm_2 (LSTM)               (None, 64)                49408     \n",
      "                                                                 \n",
      " dense (Dense)               (None, 3)                 195       \n",
      "                                                                 \n",
      "=================================================================\n",
      "Total params: 1,231,299\n",
      "Trainable params: 325,699\n",
      "Non-trainable params: 905,600\n",
      "_________________________________________________________________\n"
     ]
    }
   ],
   "source": [
    "lstm_model_1.summary()"
   ]
  },
  {
   "cell_type": "code",
   "execution_count": 16,
   "id": "b96be303-32ec-44a3-a9fd-26a83b49c2f8",
   "metadata": {},
   "outputs": [],
   "source": [
    "def create_model_2():\n",
    "    model = Sequential()\n",
    "    model.add(Embedding(input_dim=embedding_weights.shape[0], output_dim=embedding_weights.shape[1], weights=[embedding_weights], trainable=False, input_length=50))\n",
    "    model.add(Conv1D(128, kernel_size=2, padding='valid', activation='relu'))\n",
    "    model.add(SpatialDropout1D(0.3))\n",
    "    model.add(LSTM(128, dropout=0.2, return_sequences=True))\n",
    "    model.add(LSTM(128, dropout=0.2, return_sequences=True))\n",
    "    model.add(LSTM(64, dropout=0.2))\n",
    "    model.add(Dense(3,activation='softmax'))\n",
    "    return model\n",
    "\n",
    "lstm_model_2 = create_model_2()"
   ]
  },
  {
   "cell_type": "code",
   "execution_count": 17,
   "id": "b0e9f44c-5170-45d3-8c66-2e6fd6ae974f",
   "metadata": {},
   "outputs": [],
   "source": [
    "checkpoint_filepath_model_2_BiLSTM = 'Models/checkpoint_model_2_1_BiLSTM/cp.ckpt'\n",
    "model_checkpoint_callback_model_2_BiLSTM = tf.keras.callbacks.ModelCheckpoint(\n",
    "    filepath=checkpoint_filepath_model_2_BiLSTM,\n",
    "    save_weights_only=True,\n",
    "    monitor='val_accuracy',\n",
    "    mode='max',\n",
    "    save_best_only=True)"
   ]
  },
  {
   "cell_type": "code",
   "execution_count": 26,
   "id": "dd498cc7-5df8-4533-9d6d-c60304c472ed",
   "metadata": {},
   "outputs": [
    {
     "name": "stdout",
     "output_type": "stream",
     "text": [
      "Model: \"sequential_1\"\n",
      "_________________________________________________________________\n",
      " Layer (type)                Output Shape              Param #   \n",
      "=================================================================\n",
      " embedding_1 (Embedding)     (None, 50, 100)           905600    \n",
      "                                                                 \n",
      " conv1d_1 (Conv1D)           (None, 49, 128)           25728     \n",
      "                                                                 \n",
      " spatial_dropout1d_1 (Spatia  (None, 49, 128)          0         \n",
      " lDropout1D)                                                     \n",
      "                                                                 \n",
      " lstm_3 (LSTM)               (None, 49, 128)           131584    \n",
      "                                                                 \n",
      " lstm_4 (LSTM)               (None, 49, 128)           131584    \n",
      "                                                                 \n",
      " lstm_5 (LSTM)               (None, 64)                49408     \n",
      "                                                                 \n",
      " dense_1 (Dense)             (None, 3)                 195       \n",
      "                                                                 \n",
      "=================================================================\n",
      "Total params: 1,244,099\n",
      "Trainable params: 338,499\n",
      "Non-trainable params: 905,600\n",
      "_________________________________________________________________\n"
     ]
    }
   ],
   "source": [
    "lstm_model_2.summary()"
   ]
  },
  {
   "cell_type": "code",
   "execution_count": 18,
   "id": "b9e69878-1ae3-4f8c-9514-ca6d48f4a0a1",
   "metadata": {},
   "outputs": [],
   "source": [
    "def create_model_3():\n",
    "    model = Sequential()\n",
    "    model.add(Embedding(input_dim=embedding_weights.shape[0], output_dim=embedding_weights.shape[1], weights=[embedding_weights], trainable=False, input_length=50))\n",
    "    model.add(Conv1D(128, kernel_size=3, padding='valid', activation='relu'))\n",
    "    model.add(SpatialDropout1D(0.3))\n",
    "    model.add(LSTM(128, dropout=0.2, return_sequences=True))\n",
    "    model.add(LSTM(128, dropout=0.2, return_sequences=True))\n",
    "    model.add(LSTM(64, dropout=0.2))\n",
    "    model.add(Dense(3,activation='softmax'))\n",
    "    return model\n",
    "\n",
    "lstm_model_3 = create_model_3()"
   ]
  },
  {
   "cell_type": "code",
   "execution_count": 19,
   "id": "3f8296a9-9181-4658-b1bc-f377b4649031",
   "metadata": {},
   "outputs": [],
   "source": [
    "checkpoint_filepath_model_3_C_LSTM = 'Models/checkpoint_model_3_1_C_LSTM/cp.ckpt'\n",
    "model_checkpoint_callback_model_3_C_LSTM = tf.keras.callbacks.ModelCheckpoint(\n",
    "    filepath=checkpoint_filepath_model_3_C_LSTM,\n",
    "    save_weights_only=True,\n",
    "    monitor='val_accuracy',\n",
    "    mode='max',\n",
    "    save_best_only=True)"
   ]
  },
  {
   "cell_type": "code",
   "execution_count": 29,
   "id": "e80cffa9-0d1a-451e-923e-41a485a74f7d",
   "metadata": {},
   "outputs": [
    {
     "name": "stdout",
     "output_type": "stream",
     "text": [
      "Model: \"sequential_2\"\n",
      "_________________________________________________________________\n",
      " Layer (type)                Output Shape              Param #   \n",
      "=================================================================\n",
      " embedding_2 (Embedding)     (None, 50, 100)           905600    \n",
      "                                                                 \n",
      " conv1d_2 (Conv1D)           (None, 48, 128)           38528     \n",
      "                                                                 \n",
      " spatial_dropout1d_2 (Spatia  (None, 48, 128)          0         \n",
      " lDropout1D)                                                     \n",
      "                                                                 \n",
      " lstm_6 (LSTM)               (None, 48, 128)           131584    \n",
      "                                                                 \n",
      " lstm_7 (LSTM)               (None, 48, 128)           131584    \n",
      "                                                                 \n",
      " lstm_8 (LSTM)               (None, 64)                49408     \n",
      "                                                                 \n",
      " dense_2 (Dense)             (None, 3)                 195       \n",
      "                                                                 \n",
      "=================================================================\n",
      "Total params: 1,256,899\n",
      "Trainable params: 351,299\n",
      "Non-trainable params: 905,600\n",
      "_________________________________________________________________\n"
     ]
    }
   ],
   "source": [
    "lstm_model_3.summary()"
   ]
  },
  {
   "cell_type": "code",
   "execution_count": 20,
   "id": "05957279-1739-434c-8bd4-008c855c9a22",
   "metadata": {},
   "outputs": [],
   "source": [
    "def create_model_4():\n",
    "    model = Sequential()\n",
    "    model.add(Embedding(input_dim=embedding_weights.shape[0], output_dim=embedding_weights.shape[1], weights=[embedding_weights], trainable=False, input_length=50))\n",
    "    model.add(Conv1D(128, kernel_size=4, padding='valid', activation='relu'))\n",
    "    model.add(SpatialDropout1D(0.3))\n",
    "    model.add(LSTM(128, dropout=0.2, return_sequences=True))\n",
    "    model.add(LSTM(128, dropout=0.2, return_sequences=True))\n",
    "    model.add(LSTM(64, dropout=0.2))\n",
    "    model.add(Dense(3,activation='softmax'))\n",
    "    return model\n",
    "\n",
    "lstm_model_4 = create_model_4()"
   ]
  },
  {
   "cell_type": "code",
   "execution_count": 21,
   "id": "f7c43cca-2d10-4a7a-a3ee-2d72cc8a1a0b",
   "metadata": {},
   "outputs": [],
   "source": [
    "checkpoint_filepath_model_4_C_LSTM = 'Models/checkpoint_model_4_1_C_LSTM/cp.ckpt'\n",
    "model_checkpoint_callback_model_4_C_LSTM = tf.keras.callbacks.ModelCheckpoint(\n",
    "    filepath=checkpoint_filepath_model_4_C_LSTM,\n",
    "    save_weights_only=True,\n",
    "    monitor='val_accuracy',\n",
    "    mode='max',\n",
    "    save_best_only=True)"
   ]
  },
  {
   "cell_type": "code",
   "execution_count": 18,
   "id": "4a098ef1-6269-4078-9733-b4f824b7be73",
   "metadata": {},
   "outputs": [],
   "source": [
    "def train(x, y, model, optimizer, loss, checkpoint, metrics, batch_size, epochs, validation_data):\n",
    "    model.compile(loss=loss, optimizer=optimizer, metrics=metrics)\n",
    "    history = model.fit(\n",
    "        x,\n",
    "        y,\n",
    "        batch_size=batch_size,\n",
    "        epochs=epochs,\n",
    "        validation_data=validation_data,\n",
    "        shuffle=True,\n",
    "        callbacks=[checkpoint]\n",
    "    )\n",
    "    return history"
   ]
  },
  {
   "cell_type": "code",
   "execution_count": 19,
   "id": "3d2a1963",
   "metadata": {},
   "outputs": [
    {
     "name": "stdout",
     "output_type": "stream",
     "text": [
      "Epoch 1/50\n",
      "813/813 [==============================] - 25s 26ms/step - loss: 0.5281 - accuracy: 0.7308 - val_loss: 0.4746 - val_accuracy: 0.7712\n",
      "Epoch 2/50\n",
      "813/813 [==============================] - 20s 25ms/step - loss: 0.4787 - accuracy: 0.7693 - val_loss: 0.4574 - val_accuracy: 0.7821\n",
      "Epoch 3/50\n",
      "813/813 [==============================] - 20s 25ms/step - loss: 0.4637 - accuracy: 0.7793 - val_loss: 0.4448 - val_accuracy: 0.7909\n",
      "Epoch 4/50\n",
      "813/813 [==============================] - 21s 26ms/step - loss: 0.4534 - accuracy: 0.7857 - val_loss: 0.4382 - val_accuracy: 0.7943\n",
      "Epoch 5/50\n",
      "813/813 [==============================] - 21s 26ms/step - loss: 0.4468 - accuracy: 0.7897 - val_loss: 0.4314 - val_accuracy: 0.7986\n",
      "Epoch 6/50\n",
      "813/813 [==============================] - 21s 26ms/step - loss: 0.4419 - accuracy: 0.7927 - val_loss: 0.4287 - val_accuracy: 0.7999\n",
      "Epoch 7/50\n",
      "813/813 [==============================] - 21s 26ms/step - loss: 0.4371 - accuracy: 0.7955 - val_loss: 0.4238 - val_accuracy: 0.8023\n",
      "Epoch 8/50\n",
      "813/813 [==============================] - 21s 26ms/step - loss: 0.4331 - accuracy: 0.7977 - val_loss: 0.4202 - val_accuracy: 0.8053\n",
      "Epoch 9/50\n",
      "813/813 [==============================] - 21s 26ms/step - loss: 0.4294 - accuracy: 0.8000 - val_loss: 0.4160 - val_accuracy: 0.8074\n",
      "Epoch 10/50\n",
      "813/813 [==============================] - 20s 25ms/step - loss: 0.4263 - accuracy: 0.8017 - val_loss: 0.4152 - val_accuracy: 0.8081\n",
      "Epoch 11/50\n",
      "813/813 [==============================] - 20s 25ms/step - loss: 0.4240 - accuracy: 0.8028 - val_loss: 0.4151 - val_accuracy: 0.8087\n",
      "Epoch 12/50\n",
      "813/813 [==============================] - 20s 25ms/step - loss: 0.4213 - accuracy: 0.8047 - val_loss: 0.4107 - val_accuracy: 0.8105\n",
      "Epoch 13/50\n",
      "813/813 [==============================] - 21s 25ms/step - loss: 0.4188 - accuracy: 0.8057 - val_loss: 0.4087 - val_accuracy: 0.8117\n",
      "Epoch 14/50\n",
      "813/813 [==============================] - 21s 25ms/step - loss: 0.4166 - accuracy: 0.8075 - val_loss: 0.4065 - val_accuracy: 0.8136\n",
      "Epoch 15/50\n",
      "813/813 [==============================] - 21s 25ms/step - loss: 0.4150 - accuracy: 0.8082 - val_loss: 0.4098 - val_accuracy: 0.8108\n",
      "Epoch 16/50\n",
      "813/813 [==============================] - 20s 25ms/step - loss: 0.4131 - accuracy: 0.8093 - val_loss: 0.4046 - val_accuracy: 0.8146\n",
      "Epoch 17/50\n",
      "813/813 [==============================] - 20s 25ms/step - loss: 0.4111 - accuracy: 0.8104 - val_loss: 0.4075 - val_accuracy: 0.8133\n",
      "Epoch 18/50\n",
      "813/813 [==============================] - 21s 26ms/step - loss: 0.4095 - accuracy: 0.8113 - val_loss: 0.4044 - val_accuracy: 0.8155\n",
      "Epoch 19/50\n",
      "813/813 [==============================] - 20s 25ms/step - loss: 0.4082 - accuracy: 0.8120 - val_loss: 0.4040 - val_accuracy: 0.8155\n",
      "Epoch 20/50\n",
      "813/813 [==============================] - 21s 25ms/step - loss: 0.4068 - accuracy: 0.8130 - val_loss: 0.4032 - val_accuracy: 0.8156\n",
      "Epoch 21/50\n",
      "813/813 [==============================] - 22s 27ms/step - loss: 0.4051 - accuracy: 0.8138 - val_loss: 0.4006 - val_accuracy: 0.8167\n",
      "Epoch 22/50\n",
      "813/813 [==============================] - 21s 25ms/step - loss: 0.4043 - accuracy: 0.8146 - val_loss: 0.3996 - val_accuracy: 0.8173\n",
      "Epoch 23/50\n",
      "813/813 [==============================] - 20s 25ms/step - loss: 0.4032 - accuracy: 0.8148 - val_loss: 0.4009 - val_accuracy: 0.8173\n",
      "Epoch 24/50\n",
      "813/813 [==============================] - 21s 25ms/step - loss: 0.4021 - accuracy: 0.8155 - val_loss: 0.3986 - val_accuracy: 0.8181\n",
      "Epoch 25/50\n",
      "813/813 [==============================] - 21s 26ms/step - loss: 0.4008 - accuracy: 0.8162 - val_loss: 0.3993 - val_accuracy: 0.8172\n",
      "Epoch 26/50\n",
      "813/813 [==============================] - 21s 25ms/step - loss: 0.3998 - accuracy: 0.8165 - val_loss: 0.3995 - val_accuracy: 0.8186\n",
      "Epoch 27/50\n",
      "813/813 [==============================] - 21s 25ms/step - loss: 0.3981 - accuracy: 0.8174 - val_loss: 0.3980 - val_accuracy: 0.8188\n",
      "Epoch 28/50\n",
      "813/813 [==============================] - 21s 26ms/step - loss: 0.3978 - accuracy: 0.8178 - val_loss: 0.3983 - val_accuracy: 0.8182\n",
      "Epoch 29/50\n",
      "813/813 [==============================] - 20s 25ms/step - loss: 0.3967 - accuracy: 0.8182 - val_loss: 0.3966 - val_accuracy: 0.8183\n",
      "Epoch 30/50\n",
      "813/813 [==============================] - 21s 25ms/step - loss: 0.3958 - accuracy: 0.8187 - val_loss: 0.3994 - val_accuracy: 0.8174\n",
      "Epoch 31/50\n",
      "813/813 [==============================] - 21s 26ms/step - loss: 0.3951 - accuracy: 0.8194 - val_loss: 0.3989 - val_accuracy: 0.8187\n",
      "Epoch 32/50\n",
      "813/813 [==============================] - 21s 25ms/step - loss: 0.3939 - accuracy: 0.8198 - val_loss: 0.3969 - val_accuracy: 0.8194\n",
      "Epoch 33/50\n",
      "813/813 [==============================] - 20s 25ms/step - loss: 0.3930 - accuracy: 0.8206 - val_loss: 0.3982 - val_accuracy: 0.8177\n",
      "Epoch 34/50\n",
      "813/813 [==============================] - 21s 26ms/step - loss: 0.3925 - accuracy: 0.8210 - val_loss: 0.3970 - val_accuracy: 0.8196\n",
      "Epoch 35/50\n",
      "813/813 [==============================] - 21s 25ms/step - loss: 0.3910 - accuracy: 0.8217 - val_loss: 0.3972 - val_accuracy: 0.8196\n",
      "Epoch 36/50\n",
      "813/813 [==============================] - 20s 25ms/step - loss: 0.3905 - accuracy: 0.8219 - val_loss: 0.3969 - val_accuracy: 0.8190\n",
      "Epoch 37/50\n",
      "813/813 [==============================] - 21s 25ms/step - loss: 0.3899 - accuracy: 0.8225 - val_loss: 0.3964 - val_accuracy: 0.8200\n",
      "Epoch 38/50\n",
      "813/813 [==============================] - 21s 25ms/step - loss: 0.3888 - accuracy: 0.8229 - val_loss: 0.3966 - val_accuracy: 0.8188\n",
      "Epoch 39/50\n",
      "813/813 [==============================] - 21s 25ms/step - loss: 0.3883 - accuracy: 0.8231 - val_loss: 0.3978 - val_accuracy: 0.8196\n",
      "Epoch 40/50\n",
      "813/813 [==============================] - 22s 27ms/step - loss: 0.3880 - accuracy: 0.8232 - val_loss: 0.3987 - val_accuracy: 0.8194\n",
      "Epoch 41/50\n",
      "813/813 [==============================] - 21s 26ms/step - loss: 0.3867 - accuracy: 0.8239 - val_loss: 0.3976 - val_accuracy: 0.8195\n",
      "Epoch 42/50\n",
      "813/813 [==============================] - 20s 25ms/step - loss: 0.3860 - accuracy: 0.8240 - val_loss: 0.3967 - val_accuracy: 0.8199\n",
      "Epoch 43/50\n",
      "813/813 [==============================] - 21s 25ms/step - loss: 0.3851 - accuracy: 0.8246 - val_loss: 0.3971 - val_accuracy: 0.8203\n",
      "Epoch 44/50\n",
      "813/813 [==============================] - 21s 25ms/step - loss: 0.3848 - accuracy: 0.8244 - val_loss: 0.3979 - val_accuracy: 0.8195\n",
      "Epoch 45/50\n",
      "813/813 [==============================] - 21s 25ms/step - loss: 0.3840 - accuracy: 0.8254 - val_loss: 0.3987 - val_accuracy: 0.8201\n",
      "Epoch 46/50\n",
      "813/813 [==============================] - 21s 25ms/step - loss: 0.3837 - accuracy: 0.8254 - val_loss: 0.3981 - val_accuracy: 0.8193\n",
      "Epoch 47/50\n",
      "813/813 [==============================] - 21s 26ms/step - loss: 0.3825 - accuracy: 0.8263 - val_loss: 0.3989 - val_accuracy: 0.8197\n",
      "Epoch 48/50\n",
      "813/813 [==============================] - 21s 25ms/step - loss: 0.3820 - accuracy: 0.8265 - val_loss: 0.3984 - val_accuracy: 0.8193\n",
      "Epoch 49/50\n",
      "813/813 [==============================] - 20s 25ms/step - loss: 0.3816 - accuracy: 0.8270 - val_loss: 0.4007 - val_accuracy: 0.8191\n",
      "Epoch 50/50\n",
      "813/813 [==============================] - 20s 25ms/step - loss: 0.3804 - accuracy: 0.8270 - val_loss: 0.4013 - val_accuracy: 0.8187\n"
     ]
    }
   ],
   "source": [
    "model_metrics_1 = train(x_train, y_train, model=lstm_model_1,optimizer='adam', loss='sparse_categorical_crossentropy', checkpoint=model_checkpoint_callback_model_1_LSTM ,metrics=['accuracy'], batch_size=1024, epochs=50, validation_data=(x_val,y_val))"
   ]
  },
  {
   "cell_type": "code",
   "execution_count": 30,
   "id": "29333587",
   "metadata": {
    "scrolled": true
   },
   "outputs": [
    {
     "name": "stdout",
     "output_type": "stream",
     "text": [
      "Epoch 1/50\n",
      "813/813 [==============================] - 26s 26ms/step - loss: 0.5388 - accuracy: 0.7164 - val_loss: 0.4732 - val_accuracy: 0.7728\n",
      "Epoch 2/50\n",
      "813/813 [==============================] - 20s 25ms/step - loss: 0.4744 - accuracy: 0.7719 - val_loss: 0.4535 - val_accuracy: 0.7847\n",
      "Epoch 3/50\n",
      "813/813 [==============================] - 20s 25ms/step - loss: 0.4603 - accuracy: 0.7814 - val_loss: 0.4434 - val_accuracy: 0.7906\n",
      "Epoch 4/50\n",
      "813/813 [==============================] - 21s 26ms/step - loss: 0.4513 - accuracy: 0.7871 - val_loss: 0.4346 - val_accuracy: 0.7970\n",
      "Epoch 5/50\n",
      "813/813 [==============================] - 21s 25ms/step - loss: 0.4444 - accuracy: 0.7915 - val_loss: 0.4332 - val_accuracy: 0.7974\n",
      "Epoch 6/50\n",
      "813/813 [==============================] - 21s 25ms/step - loss: 0.4398 - accuracy: 0.7938 - val_loss: 0.4254 - val_accuracy: 0.8019\n",
      "Epoch 7/50\n",
      "813/813 [==============================] - 21s 25ms/step - loss: 0.4352 - accuracy: 0.7963 - val_loss: 0.4230 - val_accuracy: 0.8040\n",
      "Epoch 8/50\n",
      "813/813 [==============================] - 20s 25ms/step - loss: 0.4314 - accuracy: 0.7987 - val_loss: 0.4201 - val_accuracy: 0.8046\n",
      "Epoch 9/50\n",
      "813/813 [==============================] - 20s 25ms/step - loss: 0.4287 - accuracy: 0.8009 - val_loss: 0.4175 - val_accuracy: 0.8070\n",
      "Epoch 10/50\n",
      "813/813 [==============================] - 20s 25ms/step - loss: 0.4257 - accuracy: 0.8024 - val_loss: 0.4172 - val_accuracy: 0.8079\n",
      "Epoch 11/50\n",
      "813/813 [==============================] - 20s 25ms/step - loss: 0.4230 - accuracy: 0.8042 - val_loss: 0.4139 - val_accuracy: 0.8090\n",
      "Epoch 12/50\n",
      "813/813 [==============================] - 20s 25ms/step - loss: 0.4210 - accuracy: 0.8052 - val_loss: 0.4152 - val_accuracy: 0.8082\n",
      "Epoch 13/50\n",
      "813/813 [==============================] - 21s 26ms/step - loss: 0.4189 - accuracy: 0.8065 - val_loss: 0.4109 - val_accuracy: 0.8108\n",
      "Epoch 14/50\n",
      "813/813 [==============================] - 20s 25ms/step - loss: 0.4173 - accuracy: 0.8071 - val_loss: 0.4094 - val_accuracy: 0.8113\n",
      "Epoch 15/50\n",
      "813/813 [==============================] - 21s 25ms/step - loss: 0.4156 - accuracy: 0.8083 - val_loss: 0.4087 - val_accuracy: 0.8128\n",
      "Epoch 16/50\n",
      "813/813 [==============================] - 20s 25ms/step - loss: 0.4143 - accuracy: 0.8090 - val_loss: 0.4082 - val_accuracy: 0.8132\n",
      "Epoch 17/50\n",
      "813/813 [==============================] - 21s 26ms/step - loss: 0.4130 - accuracy: 0.8096 - val_loss: 0.4083 - val_accuracy: 0.8137\n",
      "Epoch 18/50\n",
      "813/813 [==============================] - 21s 25ms/step - loss: 0.4113 - accuracy: 0.8109 - val_loss: 0.4059 - val_accuracy: 0.8144\n",
      "Epoch 19/50\n",
      "813/813 [==============================] - 21s 26ms/step - loss: 0.4100 - accuracy: 0.8115 - val_loss: 0.4046 - val_accuracy: 0.8148\n",
      "Epoch 20/50\n",
      "813/813 [==============================] - 21s 26ms/step - loss: 0.4091 - accuracy: 0.8122 - val_loss: 0.4042 - val_accuracy: 0.8157\n",
      "Epoch 21/50\n",
      "813/813 [==============================] - 20s 25ms/step - loss: 0.4081 - accuracy: 0.8127 - val_loss: 0.4042 - val_accuracy: 0.8156\n",
      "Epoch 22/50\n",
      "813/813 [==============================] - 22s 26ms/step - loss: 0.4067 - accuracy: 0.8136 - val_loss: 0.4039 - val_accuracy: 0.8152\n",
      "Epoch 23/50\n",
      "813/813 [==============================] - 21s 25ms/step - loss: 0.4063 - accuracy: 0.8132 - val_loss: 0.4024 - val_accuracy: 0.8158\n",
      "Epoch 24/50\n",
      "813/813 [==============================] - 21s 26ms/step - loss: 0.4056 - accuracy: 0.8138 - val_loss: 0.4019 - val_accuracy: 0.8163\n",
      "Epoch 25/50\n",
      "813/813 [==============================] - 21s 26ms/step - loss: 0.4043 - accuracy: 0.8145 - val_loss: 0.4014 - val_accuracy: 0.8163\n",
      "Epoch 26/50\n",
      "813/813 [==============================] - 21s 25ms/step - loss: 0.4035 - accuracy: 0.8150 - val_loss: 0.4029 - val_accuracy: 0.8159\n",
      "Epoch 27/50\n",
      "813/813 [==============================] - 20s 25ms/step - loss: 0.4028 - accuracy: 0.8159 - val_loss: 0.4013 - val_accuracy: 0.8166\n",
      "Epoch 28/50\n",
      "813/813 [==============================] - 21s 26ms/step - loss: 0.4016 - accuracy: 0.8164 - val_loss: 0.4004 - val_accuracy: 0.8170\n",
      "Epoch 29/50\n",
      "813/813 [==============================] - 20s 25ms/step - loss: 0.4014 - accuracy: 0.8159 - val_loss: 0.4030 - val_accuracy: 0.8169\n",
      "Epoch 30/50\n",
      "813/813 [==============================] - 21s 25ms/step - loss: 0.4004 - accuracy: 0.8169 - val_loss: 0.3990 - val_accuracy: 0.8180\n",
      "Epoch 31/50\n",
      "813/813 [==============================] - 21s 25ms/step - loss: 0.3998 - accuracy: 0.8172 - val_loss: 0.4003 - val_accuracy: 0.8184\n",
      "Epoch 32/50\n",
      "813/813 [==============================] - 20s 25ms/step - loss: 0.3988 - accuracy: 0.8178 - val_loss: 0.4004 - val_accuracy: 0.8173\n",
      "Epoch 33/50\n",
      "813/813 [==============================] - 20s 25ms/step - loss: 0.3979 - accuracy: 0.8182 - val_loss: 0.4002 - val_accuracy: 0.8172\n",
      "Epoch 34/50\n",
      "813/813 [==============================] - 20s 25ms/step - loss: 0.3976 - accuracy: 0.8183 - val_loss: 0.4006 - val_accuracy: 0.8178\n",
      "Epoch 35/50\n",
      "813/813 [==============================] - 20s 25ms/step - loss: 0.3965 - accuracy: 0.8191 - val_loss: 0.3993 - val_accuracy: 0.8184\n",
      "Epoch 36/50\n",
      "813/813 [==============================] - 20s 25ms/step - loss: 0.3964 - accuracy: 0.8190 - val_loss: 0.3996 - val_accuracy: 0.8174\n",
      "Epoch 37/50\n",
      "813/813 [==============================] - 20s 25ms/step - loss: 0.3954 - accuracy: 0.8195 - val_loss: 0.4002 - val_accuracy: 0.8171\n",
      "Epoch 38/50\n",
      "813/813 [==============================] - 20s 25ms/step - loss: 0.3951 - accuracy: 0.8193 - val_loss: 0.3993 - val_accuracy: 0.8181\n",
      "Epoch 39/50\n",
      "813/813 [==============================] - 20s 24ms/step - loss: 0.3943 - accuracy: 0.8201 - val_loss: 0.3999 - val_accuracy: 0.8177\n",
      "Epoch 40/50\n",
      "813/813 [==============================] - 20s 25ms/step - loss: 0.3943 - accuracy: 0.8199 - val_loss: 0.3992 - val_accuracy: 0.8173\n",
      "Epoch 41/50\n",
      "813/813 [==============================] - 20s 25ms/step - loss: 0.3936 - accuracy: 0.8204 - val_loss: 0.3983 - val_accuracy: 0.8184\n",
      "Epoch 42/50\n",
      "813/813 [==============================] - 20s 25ms/step - loss: 0.3930 - accuracy: 0.8207 - val_loss: 0.4017 - val_accuracy: 0.8151\n",
      "Epoch 43/50\n",
      "813/813 [==============================] - 20s 25ms/step - loss: 0.3927 - accuracy: 0.8205 - val_loss: 0.3987 - val_accuracy: 0.8175\n",
      "Epoch 44/50\n",
      "813/813 [==============================] - 20s 24ms/step - loss: 0.3923 - accuracy: 0.8208 - val_loss: 0.3981 - val_accuracy: 0.8179\n",
      "Epoch 45/50\n",
      "813/813 [==============================] - 20s 25ms/step - loss: 0.3918 - accuracy: 0.8217 - val_loss: 0.3987 - val_accuracy: 0.8177\n",
      "Epoch 46/50\n",
      "813/813 [==============================] - 20s 25ms/step - loss: 0.3910 - accuracy: 0.8217 - val_loss: 0.3996 - val_accuracy: 0.8183\n",
      "Epoch 47/50\n",
      "813/813 [==============================] - 20s 25ms/step - loss: 0.3906 - accuracy: 0.8219 - val_loss: 0.3991 - val_accuracy: 0.8177\n",
      "Epoch 48/50\n",
      "813/813 [==============================] - 20s 25ms/step - loss: 0.3899 - accuracy: 0.8223 - val_loss: 0.4005 - val_accuracy: 0.8172\n",
      "Epoch 49/50\n",
      "813/813 [==============================] - 20s 25ms/step - loss: 0.3896 - accuracy: 0.8224 - val_loss: 0.3984 - val_accuracy: 0.8181\n",
      "Epoch 50/50\n",
      "813/813 [==============================] - 20s 25ms/step - loss: 0.3893 - accuracy: 0.8223 - val_loss: 0.3993 - val_accuracy: 0.8188\n"
     ]
    }
   ],
   "source": [
    "model_metrics_2 = train(x_train, y_train, model=lstm_model_2,optimizer='adam', loss='sparse_categorical_crossentropy', checkpoint= model_checkpoint_callback_model_2_BiLSTM, metrics=['accuracy'], batch_size=1024, epochs=50, validation_data=(x_val,y_val))"
   ]
  },
  {
   "cell_type": "code",
   "execution_count": 31,
   "id": "12af74e4",
   "metadata": {},
   "outputs": [
    {
     "name": "stdout",
     "output_type": "stream",
     "text": [
      "Epoch 1/50\n",
      "813/813 [==============================] - 23s 26ms/step - loss: 0.5374 - accuracy: 0.7199 - val_loss: 0.4751 - val_accuracy: 0.7691\n",
      "Epoch 2/50\n",
      "813/813 [==============================] - 21s 26ms/step - loss: 0.4740 - accuracy: 0.7722 - val_loss: 0.4542 - val_accuracy: 0.7857\n",
      "Epoch 3/50\n",
      "813/813 [==============================] - 21s 25ms/step - loss: 0.4588 - accuracy: 0.7820 - val_loss: 0.4470 - val_accuracy: 0.7879\n",
      "Epoch 4/50\n",
      "813/813 [==============================] - 21s 25ms/step - loss: 0.4494 - accuracy: 0.7878 - val_loss: 0.4393 - val_accuracy: 0.7948\n",
      "Epoch 5/50\n",
      "813/813 [==============================] - 21s 25ms/step - loss: 0.4434 - accuracy: 0.7914 - val_loss: 0.4373 - val_accuracy: 0.7965\n",
      "Epoch 6/50\n",
      "813/813 [==============================] - 21s 25ms/step - loss: 0.4379 - accuracy: 0.7951 - val_loss: 0.4264 - val_accuracy: 0.8010\n",
      "Epoch 7/50\n",
      "813/813 [==============================] - 20s 25ms/step - loss: 0.4337 - accuracy: 0.7976 - val_loss: 0.4231 - val_accuracy: 0.8034\n",
      "Epoch 8/50\n",
      "813/813 [==============================] - 21s 25ms/step - loss: 0.4298 - accuracy: 0.7997 - val_loss: 0.4196 - val_accuracy: 0.8052\n",
      "Epoch 9/50\n",
      "813/813 [==============================] - 20s 25ms/step - loss: 0.4267 - accuracy: 0.8018 - val_loss: 0.4177 - val_accuracy: 0.8058\n",
      "Epoch 10/50\n",
      "813/813 [==============================] - 21s 25ms/step - loss: 0.4242 - accuracy: 0.8031 - val_loss: 0.4160 - val_accuracy: 0.8081\n",
      "Epoch 11/50\n",
      "813/813 [==============================] - 21s 26ms/step - loss: 0.4221 - accuracy: 0.8043 - val_loss: 0.4149 - val_accuracy: 0.8080\n",
      "Epoch 12/50\n",
      "813/813 [==============================] - 21s 26ms/step - loss: 0.4197 - accuracy: 0.8059 - val_loss: 0.4128 - val_accuracy: 0.8100\n",
      "Epoch 13/50\n",
      "813/813 [==============================] - 20s 25ms/step - loss: 0.4181 - accuracy: 0.8066 - val_loss: 0.4121 - val_accuracy: 0.8102\n",
      "Epoch 14/50\n",
      "813/813 [==============================] - 21s 25ms/step - loss: 0.4170 - accuracy: 0.8072 - val_loss: 0.4144 - val_accuracy: 0.8080\n",
      "Epoch 15/50\n",
      "813/813 [==============================] - 20s 25ms/step - loss: 0.4141 - accuracy: 0.8087 - val_loss: 0.4103 - val_accuracy: 0.8108\n",
      "Epoch 16/50\n",
      "813/813 [==============================] - 21s 25ms/step - loss: 0.4131 - accuracy: 0.8093 - val_loss: 0.4107 - val_accuracy: 0.8116\n",
      "Epoch 17/50\n",
      "813/813 [==============================] - 21s 26ms/step - loss: 0.4120 - accuracy: 0.8100 - val_loss: 0.4071 - val_accuracy: 0.8130\n",
      "Epoch 18/50\n",
      "813/813 [==============================] - 21s 26ms/step - loss: 0.4103 - accuracy: 0.8109 - val_loss: 0.4087 - val_accuracy: 0.8115\n",
      "Epoch 19/50\n",
      "813/813 [==============================] - 21s 25ms/step - loss: 0.4094 - accuracy: 0.8113 - val_loss: 0.4070 - val_accuracy: 0.8132\n",
      "Epoch 20/50\n",
      "813/813 [==============================] - 21s 26ms/step - loss: 0.4081 - accuracy: 0.8126 - val_loss: 0.4061 - val_accuracy: 0.8136\n",
      "Epoch 21/50\n",
      "813/813 [==============================] - 21s 25ms/step - loss: 0.4070 - accuracy: 0.8127 - val_loss: 0.4055 - val_accuracy: 0.8143\n",
      "Epoch 22/50\n",
      "813/813 [==============================] - 20s 25ms/step - loss: 0.4058 - accuracy: 0.8138 - val_loss: 0.4075 - val_accuracy: 0.8123\n",
      "Epoch 23/50\n",
      "813/813 [==============================] - 21s 25ms/step - loss: 0.4051 - accuracy: 0.8141 - val_loss: 0.4059 - val_accuracy: 0.8129\n",
      "Epoch 24/50\n",
      "813/813 [==============================] - 21s 25ms/step - loss: 0.4041 - accuracy: 0.8143 - val_loss: 0.4043 - val_accuracy: 0.8147\n",
      "Epoch 25/50\n",
      "813/813 [==============================] - 21s 25ms/step - loss: 0.4039 - accuracy: 0.8144 - val_loss: 0.4062 - val_accuracy: 0.8131\n",
      "Epoch 26/50\n",
      "813/813 [==============================] - 21s 25ms/step - loss: 0.4025 - accuracy: 0.8154 - val_loss: 0.4042 - val_accuracy: 0.8147\n",
      "Epoch 27/50\n",
      "813/813 [==============================] - 21s 25ms/step - loss: 0.4015 - accuracy: 0.8160 - val_loss: 0.4049 - val_accuracy: 0.8140\n",
      "Epoch 28/50\n",
      "813/813 [==============================] - 21s 25ms/step - loss: 0.4012 - accuracy: 0.8162 - val_loss: 0.4041 - val_accuracy: 0.8155\n",
      "Epoch 29/50\n",
      "813/813 [==============================] - 21s 25ms/step - loss: 0.4004 - accuracy: 0.8162 - val_loss: 0.4035 - val_accuracy: 0.8151\n",
      "Epoch 30/50\n",
      "813/813 [==============================] - 21s 25ms/step - loss: 0.3994 - accuracy: 0.8173 - val_loss: 0.4057 - val_accuracy: 0.8138\n",
      "Epoch 31/50\n",
      "813/813 [==============================] - 21s 25ms/step - loss: 0.3988 - accuracy: 0.8174 - val_loss: 0.4030 - val_accuracy: 0.8157\n",
      "Epoch 32/50\n",
      "813/813 [==============================] - 21s 25ms/step - loss: 0.3980 - accuracy: 0.8178 - val_loss: 0.4030 - val_accuracy: 0.8155\n",
      "Epoch 33/50\n",
      "813/813 [==============================] - 21s 25ms/step - loss: 0.3975 - accuracy: 0.8178 - val_loss: 0.4042 - val_accuracy: 0.8149\n",
      "Epoch 34/50\n",
      "813/813 [==============================] - 21s 25ms/step - loss: 0.3969 - accuracy: 0.8186 - val_loss: 0.4039 - val_accuracy: 0.8156\n",
      "Epoch 35/50\n",
      "813/813 [==============================] - 21s 26ms/step - loss: 0.3964 - accuracy: 0.8184 - val_loss: 0.4025 - val_accuracy: 0.8162\n",
      "Epoch 36/50\n",
      "813/813 [==============================] - 21s 26ms/step - loss: 0.3959 - accuracy: 0.8188 - val_loss: 0.4023 - val_accuracy: 0.8161\n",
      "Epoch 37/50\n",
      "813/813 [==============================] - 21s 25ms/step - loss: 0.3950 - accuracy: 0.8193 - val_loss: 0.4016 - val_accuracy: 0.8162\n",
      "Epoch 38/50\n",
      "813/813 [==============================] - 20s 25ms/step - loss: 0.3948 - accuracy: 0.8195 - val_loss: 0.4013 - val_accuracy: 0.8167\n",
      "Epoch 39/50\n",
      "813/813 [==============================] - 20s 25ms/step - loss: 0.3943 - accuracy: 0.8196 - val_loss: 0.4019 - val_accuracy: 0.8167\n",
      "Epoch 40/50\n",
      "813/813 [==============================] - 20s 25ms/step - loss: 0.3938 - accuracy: 0.8202 - val_loss: 0.4018 - val_accuracy: 0.8166\n",
      "Epoch 41/50\n",
      "813/813 [==============================] - 21s 26ms/step - loss: 0.3935 - accuracy: 0.8204 - val_loss: 0.4042 - val_accuracy: 0.8146\n",
      "Epoch 42/50\n",
      "813/813 [==============================] - 20s 25ms/step - loss: 0.3928 - accuracy: 0.8204 - val_loss: 0.4037 - val_accuracy: 0.8153\n",
      "Epoch 43/50\n",
      "813/813 [==============================] - 21s 26ms/step - loss: 0.3923 - accuracy: 0.8212 - val_loss: 0.4013 - val_accuracy: 0.8164\n",
      "Epoch 44/50\n",
      "813/813 [==============================] - 21s 25ms/step - loss: 0.3917 - accuracy: 0.8212 - val_loss: 0.4020 - val_accuracy: 0.8163\n",
      "Epoch 45/50\n",
      "813/813 [==============================] - 21s 26ms/step - loss: 0.3924 - accuracy: 0.8208 - val_loss: 0.4029 - val_accuracy: 0.8163\n",
      "Epoch 46/50\n",
      "813/813 [==============================] - 21s 26ms/step - loss: 0.3909 - accuracy: 0.8219 - val_loss: 0.4020 - val_accuracy: 0.8171\n",
      "Epoch 47/50\n",
      "813/813 [==============================] - 21s 26ms/step - loss: 0.3902 - accuracy: 0.8219 - val_loss: 0.4027 - val_accuracy: 0.8166\n",
      "Epoch 48/50\n",
      "813/813 [==============================] - 20s 25ms/step - loss: 0.3903 - accuracy: 0.8222 - val_loss: 0.4014 - val_accuracy: 0.8171\n",
      "Epoch 49/50\n",
      "813/813 [==============================] - 21s 25ms/step - loss: 0.3897 - accuracy: 0.8219 - val_loss: 0.4029 - val_accuracy: 0.8148\n",
      "Epoch 50/50\n",
      "813/813 [==============================] - 21s 26ms/step - loss: 0.3897 - accuracy: 0.8225 - val_loss: 0.4061 - val_accuracy: 0.8132\n"
     ]
    }
   ],
   "source": [
    "model_metrics_3 = train(x_train, y_train, model=lstm_model_3,optimizer='adam', loss='sparse_categorical_crossentropy', checkpoint= model_checkpoint_callback_model_3_C_LSTM, metrics=['accuracy'], batch_size=1024, epochs=50, validation_data=(x_val,y_val))"
   ]
  },
  {
   "cell_type": "code",
   "execution_count": 32,
   "id": "b8788578",
   "metadata": {},
   "outputs": [
    {
     "name": "stdout",
     "output_type": "stream",
     "text": [
      "Epoch 1/50\n",
      "813/813 [==============================] - 24s 27ms/step - loss: 0.5309 - accuracy: 0.7289 - val_loss: 0.4816 - val_accuracy: 0.7684\n",
      "Epoch 2/50\n",
      "813/813 [==============================] - 20s 25ms/step - loss: 0.4774 - accuracy: 0.7702 - val_loss: 0.4565 - val_accuracy: 0.7826\n",
      "Epoch 3/50\n",
      "813/813 [==============================] - 21s 26ms/step - loss: 0.4624 - accuracy: 0.7797 - val_loss: 0.4466 - val_accuracy: 0.7886\n",
      "Epoch 4/50\n",
      "813/813 [==============================] - 20s 25ms/step - loss: 0.4531 - accuracy: 0.7858 - val_loss: 0.4413 - val_accuracy: 0.7906\n",
      "Epoch 5/50\n",
      "813/813 [==============================] - 20s 25ms/step - loss: 0.4464 - accuracy: 0.7897 - val_loss: 0.4343 - val_accuracy: 0.7964\n",
      "Epoch 6/50\n",
      "813/813 [==============================] - 20s 25ms/step - loss: 0.4409 - accuracy: 0.7928 - val_loss: 0.4324 - val_accuracy: 0.7986\n",
      "Epoch 7/50\n",
      "813/813 [==============================] - 20s 25ms/step - loss: 0.4368 - accuracy: 0.7956 - val_loss: 0.4277 - val_accuracy: 0.8008\n",
      "Epoch 8/50\n",
      "813/813 [==============================] - 21s 25ms/step - loss: 0.4331 - accuracy: 0.7976 - val_loss: 0.4246 - val_accuracy: 0.8021\n",
      "Epoch 9/50\n",
      "813/813 [==============================] - 20s 25ms/step - loss: 0.4304 - accuracy: 0.7995 - val_loss: 0.4225 - val_accuracy: 0.8038\n",
      "Epoch 10/50\n",
      "813/813 [==============================] - 20s 25ms/step - loss: 0.4271 - accuracy: 0.8012 - val_loss: 0.4231 - val_accuracy: 0.8036\n",
      "Epoch 11/50\n",
      "813/813 [==============================] - 20s 25ms/step - loss: 0.4248 - accuracy: 0.8024 - val_loss: 0.4206 - val_accuracy: 0.8046\n",
      "Epoch 12/50\n",
      "813/813 [==============================] - 20s 25ms/step - loss: 0.4222 - accuracy: 0.8047 - val_loss: 0.4226 - val_accuracy: 0.8037\n",
      "Epoch 13/50\n",
      "813/813 [==============================] - 20s 25ms/step - loss: 0.4208 - accuracy: 0.8045 - val_loss: 0.4173 - val_accuracy: 0.8069\n",
      "Epoch 14/50\n",
      "813/813 [==============================] - 20s 25ms/step - loss: 0.4188 - accuracy: 0.8061 - val_loss: 0.4139 - val_accuracy: 0.8085\n",
      "Epoch 15/50\n",
      "813/813 [==============================] - 20s 25ms/step - loss: 0.4173 - accuracy: 0.8070 - val_loss: 0.4173 - val_accuracy: 0.8055\n",
      "Epoch 16/50\n",
      "813/813 [==============================] - 21s 26ms/step - loss: 0.4152 - accuracy: 0.8083 - val_loss: 0.4134 - val_accuracy: 0.8087\n",
      "Epoch 17/50\n",
      "813/813 [==============================] - 21s 26ms/step - loss: 0.4140 - accuracy: 0.8088 - val_loss: 0.4207 - val_accuracy: 0.8063\n",
      "Epoch 18/50\n",
      "813/813 [==============================] - 21s 25ms/step - loss: 0.4129 - accuracy: 0.8097 - val_loss: 0.4136 - val_accuracy: 0.8087\n",
      "Epoch 19/50\n",
      "813/813 [==============================] - 21s 25ms/step - loss: 0.4108 - accuracy: 0.8106 - val_loss: 0.4108 - val_accuracy: 0.8108\n",
      "Epoch 20/50\n",
      "813/813 [==============================] - 20s 25ms/step - loss: 0.4101 - accuracy: 0.8110 - val_loss: 0.4108 - val_accuracy: 0.8111\n",
      "Epoch 21/50\n",
      "813/813 [==============================] - 20s 25ms/step - loss: 0.4088 - accuracy: 0.8123 - val_loss: 0.4098 - val_accuracy: 0.8114\n",
      "Epoch 22/50\n",
      "813/813 [==============================] - 20s 25ms/step - loss: 0.4077 - accuracy: 0.8121 - val_loss: 0.4100 - val_accuracy: 0.8110\n",
      "Epoch 23/50\n",
      "813/813 [==============================] - 20s 25ms/step - loss: 0.4068 - accuracy: 0.8127 - val_loss: 0.4097 - val_accuracy: 0.8112\n",
      "Epoch 24/50\n",
      "813/813 [==============================] - 20s 25ms/step - loss: 0.4060 - accuracy: 0.8131 - val_loss: 0.4084 - val_accuracy: 0.8117\n",
      "Epoch 25/50\n",
      "813/813 [==============================] - 21s 25ms/step - loss: 0.4044 - accuracy: 0.8142 - val_loss: 0.4100 - val_accuracy: 0.8116\n",
      "Epoch 26/50\n",
      "813/813 [==============================] - 21s 26ms/step - loss: 0.4040 - accuracy: 0.8147 - val_loss: 0.4090 - val_accuracy: 0.8117\n",
      "Epoch 27/50\n",
      "813/813 [==============================] - 20s 25ms/step - loss: 0.4034 - accuracy: 0.8147 - val_loss: 0.4087 - val_accuracy: 0.8121\n",
      "Epoch 28/50\n",
      "813/813 [==============================] - 21s 25ms/step - loss: 0.4023 - accuracy: 0.8153 - val_loss: 0.4087 - val_accuracy: 0.8118\n",
      "Epoch 29/50\n",
      "813/813 [==============================] - 20s 25ms/step - loss: 0.4016 - accuracy: 0.8162 - val_loss: 0.4078 - val_accuracy: 0.8123\n",
      "Epoch 30/50\n",
      "813/813 [==============================] - 21s 25ms/step - loss: 0.4006 - accuracy: 0.8166 - val_loss: 0.4087 - val_accuracy: 0.8118\n",
      "Epoch 31/50\n",
      "813/813 [==============================] - 20s 25ms/step - loss: 0.4003 - accuracy: 0.8163 - val_loss: 0.4097 - val_accuracy: 0.8125\n",
      "Epoch 32/50\n",
      "813/813 [==============================] - 20s 25ms/step - loss: 0.3994 - accuracy: 0.8171 - val_loss: 0.4072 - val_accuracy: 0.8125\n",
      "Epoch 33/50\n",
      "813/813 [==============================] - 20s 25ms/step - loss: 0.3993 - accuracy: 0.8168 - val_loss: 0.4076 - val_accuracy: 0.8135\n",
      "Epoch 34/50\n",
      "813/813 [==============================] - 20s 25ms/step - loss: 0.3982 - accuracy: 0.8175 - val_loss: 0.4070 - val_accuracy: 0.8132\n",
      "Epoch 35/50\n",
      "813/813 [==============================] - 21s 25ms/step - loss: 0.3977 - accuracy: 0.8178 - val_loss: 0.4073 - val_accuracy: 0.8131\n",
      "Epoch 36/50\n",
      "813/813 [==============================] - 21s 25ms/step - loss: 0.3968 - accuracy: 0.8187 - val_loss: 0.4071 - val_accuracy: 0.8140\n",
      "Epoch 37/50\n",
      "813/813 [==============================] - 21s 25ms/step - loss: 0.3958 - accuracy: 0.8188 - val_loss: 0.4063 - val_accuracy: 0.8136\n",
      "Epoch 38/50\n",
      "813/813 [==============================] - 21s 25ms/step - loss: 0.3958 - accuracy: 0.8194 - val_loss: 0.4098 - val_accuracy: 0.8118\n",
      "Epoch 39/50\n",
      "813/813 [==============================] - 20s 25ms/step - loss: 0.3953 - accuracy: 0.8193 - val_loss: 0.4066 - val_accuracy: 0.8136\n",
      "Epoch 40/50\n",
      "813/813 [==============================] - 21s 26ms/step - loss: 0.3950 - accuracy: 0.8191 - val_loss: 0.4067 - val_accuracy: 0.8135\n",
      "Epoch 41/50\n",
      "813/813 [==============================] - 21s 25ms/step - loss: 0.3945 - accuracy: 0.8193 - val_loss: 0.4070 - val_accuracy: 0.8138\n",
      "Epoch 42/50\n",
      "813/813 [==============================] - 20s 25ms/step - loss: 0.3940 - accuracy: 0.8198 - val_loss: 0.4067 - val_accuracy: 0.8130\n",
      "Epoch 43/50\n",
      "813/813 [==============================] - 20s 25ms/step - loss: 0.3931 - accuracy: 0.8201 - val_loss: 0.4067 - val_accuracy: 0.8139\n",
      "Epoch 44/50\n",
      "813/813 [==============================] - 21s 25ms/step - loss: 0.3927 - accuracy: 0.8205 - val_loss: 0.4064 - val_accuracy: 0.8139\n",
      "Epoch 45/50\n",
      "813/813 [==============================] - 20s 25ms/step - loss: 0.3920 - accuracy: 0.8209 - val_loss: 0.4056 - val_accuracy: 0.8146\n",
      "Epoch 46/50\n",
      "813/813 [==============================] - 20s 25ms/step - loss: 0.3917 - accuracy: 0.8214 - val_loss: 0.4048 - val_accuracy: 0.8145\n",
      "Epoch 47/50\n",
      "813/813 [==============================] - 20s 25ms/step - loss: 0.3913 - accuracy: 0.8213 - val_loss: 0.4052 - val_accuracy: 0.8136\n",
      "Epoch 48/50\n",
      "813/813 [==============================] - 21s 25ms/step - loss: 0.3913 - accuracy: 0.8214 - val_loss: 0.4054 - val_accuracy: 0.8140\n",
      "Epoch 49/50\n",
      "813/813 [==============================] - 20s 25ms/step - loss: 0.3903 - accuracy: 0.8222 - val_loss: 0.4056 - val_accuracy: 0.8144\n",
      "Epoch 50/50\n",
      "813/813 [==============================] - 21s 25ms/step - loss: 0.3904 - accuracy: 0.8215 - val_loss: 0.4051 - val_accuracy: 0.8144\n"
     ]
    }
   ],
   "source": [
    "model_metrics_4 = train(x_train, y_train, model=lstm_model_4,optimizer='adam', loss='sparse_categorical_crossentropy', checkpoint=model_checkpoint_callback_model_4_C_LSTM ,metrics=['accuracy'], batch_size=1024, epochs=50, validation_data=(x_val,y_val))"
   ]
  },
  {
   "cell_type": "markdown",
   "id": "b05f189b",
   "metadata": {},
   "source": [
    "#### Results"
   ]
  },
  {
   "cell_type": "code",
   "execution_count": 47,
   "id": "452f5b97",
   "metadata": {},
   "outputs": [
    {
     "data": {
      "image/png": "[encoded data removed]",
      "text/plain": [
       "<Figure size 1800x400 with 4 Axes>"
      ]
     },
     "metadata": {},
     "output_type": "display_data"
    }
   ],
   "source": [
    "plt.figure(figsize=(18, 4))\n",
    "\n",
    "plt.subplot(1, 4, 1)\n",
    "plt.plot(model_metrics_1.history[\"accuracy\"])\n",
    "plt.plot(model_metrics_1.history[\"val_accuracy\"])\n",
    "plt.xlabel(\"epochs\")\n",
    "plt.ylabel(\"accuracy\")\n",
    "plt.title(\"LSTM 1: Train vs Val accuracy\")\n",
    "plt.legend([\"train accuracy\",\"val accuracy\"])\n",
    "plt.grid()\n",
    "\n",
    "\n",
    "plt.subplot(1, 4, 2)\n",
    "plt.plot(model_metrics_2.history[\"accuracy\"])\n",
    "plt.plot(model_metrics_2.history[\"val_accuracy\"])\n",
    "plt.xlabel(\"epochs\")\n",
    "plt.ylabel(\"accuracy\")\n",
    "plt.title(\"LSTM 2: Train vs Val accuracy\")\n",
    "plt.legend([\"train accuracy\",\"val accuracy\"])\n",
    "plt.grid()\n",
    "\n",
    "plt.subplot(1, 4, 3)\n",
    "plt.plot(model_metrics_3.history[\"accuracy\"])\n",
    "plt.plot(model_metrics_3.history[\"val_accuracy\"])\n",
    "plt.xlabel(\"epochs\")\n",
    "plt.ylabel(\"accuracy\")\n",
    "plt.title(\"LSTM 3: Train vs Val accuracy\")\n",
    "plt.legend([\"train accuracy\",\"val accuracy\"])\n",
    "plt.grid()\n",
    "\n",
    "plt.subplot(1, 4, 4)\n",
    "plt.plot(model_metrics_4.history[\"accuracy\"])\n",
    "plt.plot(model_metrics_4.history[\"val_accuracy\"])\n",
    "plt.xlabel(\"epochs\")\n",
    "plt.ylabel(\"accuracy\")\n",
    "plt.title(\"LSTM 4: Train vs Val accuracy\")\n",
    "plt.legend([\"train accuracy\",\"val accuracy\"])\n",
    "plt.grid()\n",
    "\n",
    "plt.show()"
   ]
  },
  {
   "cell_type": "code",
   "execution_count": 48,
   "id": "594fa192",
   "metadata": {},
   "outputs": [
    {
     "data": {
      "image/png": "[encoded data removed]",
      "text/plain": [
       "<Figure size 1800x400 with 4 Axes>"
      ]
     },
     "metadata": {},
     "output_type": "display_data"
    }
   ],
   "source": [
    "plt.figure(figsize=(18, 4))\n",
    "\n",
    "plt.subplot(1, 4, 1)\n",
    "plt.plot(model_metrics_1.history[\"loss\"])\n",
    "plt.plot(model_metrics_1.history[\"val_loss\"])\n",
    "plt.xlabel(\"epochs\")\n",
    "plt.ylabel(\"loss\")\n",
    "plt.title(\"LSTM 1: Train vs Val loss\")\n",
    "plt.legend([\"train loss\",\"val loss\"])\n",
    "plt.grid()\n",
    "\n",
    "\n",
    "plt.subplot(1, 4, 2)\n",
    "plt.plot(model_metrics_2.history[\"loss\"])\n",
    "plt.plot(model_metrics_2.history[\"val_loss\"])\n",
    "plt.xlabel(\"epochs\")\n",
    "plt.ylabel(\"loss\")\n",
    "plt.title(\"LSTM 2: Train vs Val loss\")\n",
    "plt.legend([\"train loss\",\"val loss\"])\n",
    "plt.grid()\n",
    "\n",
    "plt.subplot(1, 4, 3)\n",
    "plt.plot(model_metrics_3.history[\"loss\"])\n",
    "plt.plot(model_metrics_3.history[\"val_loss\"])\n",
    "plt.xlabel(\"epochs\")\n",
    "plt.ylabel(\"loss\")\n",
    "plt.title(\"LSTM 3: Train vs Val loss\")\n",
    "plt.legend([\"train loss\",\"val loss\"])\n",
    "plt.grid()\n",
    "\n",
    "plt.subplot(1, 4, 4)\n",
    "plt.plot(model_metrics_4.history[\"loss\"])\n",
    "plt.plot(model_metrics_4.history[\"val_loss\"])\n",
    "plt.xlabel(\"epochs\")\n",
    "plt.ylabel(\"loss\")\n",
    "plt.title(\"LSTM 4: Train vs Val accuracy\")\n",
    "plt.legend([\"train loss\",\"val loss\"])\n",
    "plt.grid()\n",
    "\n",
    "plt.show()"
   ]
  },
  {
   "cell_type": "markdown",
   "id": "da38b440",
   "metadata": {},
   "source": [
    "#### BiLSTM"
   ]
  },
  {
   "cell_type": "code",
   "execution_count": 20,
   "id": "6bc13d45",
   "metadata": {},
   "outputs": [],
   "source": [
    "def create_model_5():\n",
    "    model = Sequential()\n",
    "    model.add(Embedding(input_dim=embedding_weights.shape[0], output_dim=embedding_weights.shape[1], weights=[embedding_weights], trainable=False, input_length=50))\n",
    "    \n",
    "    model.add(Bidirectional(LSTM(128, dropout=0.2, return_sequences=False)))\n",
    "    \n",
    "    model.add(Dense(3,activation='softmax'))\n",
    "    return model\n",
    "\n",
    "lstm_model_5 = create_model_5()"
   ]
  },
  {
   "cell_type": "code",
   "execution_count": 21,
   "id": "a63c81d3-2eec-4b25-bc89-bfd2a9fe5aae",
   "metadata": {},
   "outputs": [],
   "source": [
    "checkpoint_filepath_model_5_C_LSTM = 'Models/checkpoint_model_5_1_C_LSTM/cp.ckpt'\n",
    "model_checkpoint_callback_model_5_C_LSTM = tf.keras.callbacks.ModelCheckpoint(\n",
    "    filepath=checkpoint_filepath_model_5_C_LSTM,\n",
    "    save_weights_only=True,\n",
    "    monitor='val_accuracy',\n",
    "    mode='max',\n",
    "    save_best_only=True)"
   ]
  },
  {
   "cell_type": "code",
   "execution_count": 22,
   "id": "8fa49248",
   "metadata": {},
   "outputs": [
    {
     "name": "stdout",
     "output_type": "stream",
     "text": [
      "Epoch 1/50\n",
      "813/813 [==============================] - 14s 16ms/step - loss: 0.5131 - accuracy: 0.7462 - val_loss: 0.4684 - val_accuracy: 0.7756\n",
      "Epoch 2/50\n",
      "813/813 [==============================] - 12s 15ms/step - loss: 0.4679 - accuracy: 0.7755 - val_loss: 0.4454 - val_accuracy: 0.7894\n",
      "Epoch 3/50\n",
      "813/813 [==============================] - 12s 15ms/step - loss: 0.4504 - accuracy: 0.7867 - val_loss: 0.4340 - val_accuracy: 0.7969\n",
      "Epoch 4/50\n",
      "813/813 [==============================] - 12s 15ms/step - loss: 0.4398 - accuracy: 0.7929 - val_loss: 0.4319 - val_accuracy: 0.7997\n",
      "Epoch 5/50\n",
      "813/813 [==============================] - 12s 15ms/step - loss: 0.4321 - accuracy: 0.7982 - val_loss: 0.4242 - val_accuracy: 0.8031\n",
      "Epoch 6/50\n",
      "813/813 [==============================] - 12s 15ms/step - loss: 0.4258 - accuracy: 0.8016 - val_loss: 0.4209 - val_accuracy: 0.8060\n",
      "Epoch 7/50\n",
      "813/813 [==============================] - 12s 15ms/step - loss: 0.4210 - accuracy: 0.8044 - val_loss: 0.4186 - val_accuracy: 0.8079\n",
      "Epoch 8/50\n",
      "813/813 [==============================] - 12s 15ms/step - loss: 0.4168 - accuracy: 0.8070 - val_loss: 0.4162 - val_accuracy: 0.8089\n",
      "Epoch 9/50\n",
      "813/813 [==============================] - 12s 15ms/step - loss: 0.4135 - accuracy: 0.8091 - val_loss: 0.4120 - val_accuracy: 0.8110\n",
      "Epoch 10/50\n",
      "813/813 [==============================] - 12s 15ms/step - loss: 0.4109 - accuracy: 0.8102 - val_loss: 0.4120 - val_accuracy: 0.8117\n",
      "Epoch 11/50\n",
      "813/813 [==============================] - 12s 15ms/step - loss: 0.4080 - accuracy: 0.8121 - val_loss: 0.4117 - val_accuracy: 0.8119\n",
      "Epoch 12/50\n",
      "813/813 [==============================] - 12s 15ms/step - loss: 0.4055 - accuracy: 0.8135 - val_loss: 0.4125 - val_accuracy: 0.8125\n",
      "Epoch 13/50\n",
      "813/813 [==============================] - 12s 15ms/step - loss: 0.4038 - accuracy: 0.8142 - val_loss: 0.4107 - val_accuracy: 0.8123\n",
      "Epoch 14/50\n",
      "813/813 [==============================] - 12s 14ms/step - loss: 0.4012 - accuracy: 0.8157 - val_loss: 0.4112 - val_accuracy: 0.8129\n",
      "Epoch 15/50\n",
      "813/813 [==============================] - 12s 15ms/step - loss: 0.3998 - accuracy: 0.8168 - val_loss: 0.4087 - val_accuracy: 0.8146\n",
      "Epoch 16/50\n",
      "813/813 [==============================] - 12s 15ms/step - loss: 0.3982 - accuracy: 0.8175 - val_loss: 0.4086 - val_accuracy: 0.8137\n",
      "Epoch 17/50\n",
      "813/813 [==============================] - 12s 15ms/step - loss: 0.3967 - accuracy: 0.8185 - val_loss: 0.4063 - val_accuracy: 0.8153\n",
      "Epoch 18/50\n",
      "813/813 [==============================] - 12s 15ms/step - loss: 0.3954 - accuracy: 0.8193 - val_loss: 0.4076 - val_accuracy: 0.8152\n",
      "Epoch 19/50\n",
      "813/813 [==============================] - 12s 15ms/step - loss: 0.3944 - accuracy: 0.8200 - val_loss: 0.4080 - val_accuracy: 0.8146\n",
      "Epoch 20/50\n",
      "813/813 [==============================] - 12s 14ms/step - loss: 0.3929 - accuracy: 0.8206 - val_loss: 0.4072 - val_accuracy: 0.8142\n",
      "Epoch 21/50\n",
      "813/813 [==============================] - 12s 15ms/step - loss: 0.3917 - accuracy: 0.8212 - val_loss: 0.4077 - val_accuracy: 0.8152\n",
      "Epoch 22/50\n",
      "813/813 [==============================] - 12s 14ms/step - loss: 0.3911 - accuracy: 0.8213 - val_loss: 0.4086 - val_accuracy: 0.8146\n",
      "Epoch 23/50\n",
      "813/813 [==============================] - 12s 15ms/step - loss: 0.3901 - accuracy: 0.8221 - val_loss: 0.4068 - val_accuracy: 0.8140\n",
      "Epoch 24/50\n",
      "813/813 [==============================] - 12s 15ms/step - loss: 0.3890 - accuracy: 0.8226 - val_loss: 0.4068 - val_accuracy: 0.8150\n",
      "Epoch 25/50\n",
      "813/813 [==============================] - 12s 15ms/step - loss: 0.3886 - accuracy: 0.8232 - val_loss: 0.4070 - val_accuracy: 0.8155\n",
      "Epoch 26/50\n",
      "813/813 [==============================] - 12s 15ms/step - loss: 0.3876 - accuracy: 0.8229 - val_loss: 0.4091 - val_accuracy: 0.8151\n",
      "Epoch 27/50\n",
      "813/813 [==============================] - 12s 15ms/step - loss: 0.3868 - accuracy: 0.8242 - val_loss: 0.4084 - val_accuracy: 0.8154\n",
      "Epoch 28/50\n",
      "813/813 [==============================] - 12s 14ms/step - loss: 0.3859 - accuracy: 0.8245 - val_loss: 0.4070 - val_accuracy: 0.8159\n",
      "Epoch 29/50\n",
      "813/813 [==============================] - 12s 14ms/step - loss: 0.3852 - accuracy: 0.8247 - val_loss: 0.4078 - val_accuracy: 0.8154\n",
      "Epoch 30/50\n",
      "813/813 [==============================] - 12s 15ms/step - loss: 0.3847 - accuracy: 0.8252 - val_loss: 0.4083 - val_accuracy: 0.8155\n",
      "Epoch 31/50\n",
      "813/813 [==============================] - 12s 15ms/step - loss: 0.3839 - accuracy: 0.8252 - val_loss: 0.4085 - val_accuracy: 0.8142\n",
      "Epoch 32/50\n",
      "813/813 [==============================] - 12s 15ms/step - loss: 0.3834 - accuracy: 0.8255 - val_loss: 0.4086 - val_accuracy: 0.8153\n",
      "Epoch 33/50\n",
      "813/813 [==============================] - 12s 15ms/step - loss: 0.3825 - accuracy: 0.8266 - val_loss: 0.4094 - val_accuracy: 0.8156\n",
      "Epoch 34/50\n",
      "813/813 [==============================] - 12s 15ms/step - loss: 0.3821 - accuracy: 0.8263 - val_loss: 0.4069 - val_accuracy: 0.8151\n",
      "Epoch 35/50\n",
      "813/813 [==============================] - 12s 15ms/step - loss: 0.3819 - accuracy: 0.8266 - val_loss: 0.4093 - val_accuracy: 0.8149\n",
      "Epoch 36/50\n",
      "813/813 [==============================] - 12s 15ms/step - loss: 0.3816 - accuracy: 0.8268 - val_loss: 0.4095 - val_accuracy: 0.8156\n",
      "Epoch 37/50\n",
      "813/813 [==============================] - 12s 15ms/step - loss: 0.3810 - accuracy: 0.8272 - val_loss: 0.4085 - val_accuracy: 0.8152\n",
      "Epoch 38/50\n",
      "813/813 [==============================] - 12s 15ms/step - loss: 0.3798 - accuracy: 0.8276 - val_loss: 0.4086 - val_accuracy: 0.8161\n",
      "Epoch 39/50\n",
      "813/813 [==============================] - 12s 15ms/step - loss: 0.3803 - accuracy: 0.8274 - val_loss: 0.4093 - val_accuracy: 0.8150\n",
      "Epoch 40/50\n",
      "813/813 [==============================] - 12s 15ms/step - loss: 0.3795 - accuracy: 0.8277 - val_loss: 0.4085 - val_accuracy: 0.8157\n",
      "Epoch 41/50\n",
      "813/813 [==============================] - 12s 15ms/step - loss: 0.3787 - accuracy: 0.8283 - val_loss: 0.4089 - val_accuracy: 0.8155\n",
      "Epoch 42/50\n",
      "813/813 [==============================] - 12s 15ms/step - loss: 0.3789 - accuracy: 0.8282 - val_loss: 0.4081 - val_accuracy: 0.8162\n",
      "Epoch 43/50\n",
      "813/813 [==============================] - 12s 15ms/step - loss: 0.3784 - accuracy: 0.8285 - val_loss: 0.4083 - val_accuracy: 0.8151\n",
      "Epoch 44/50\n",
      "813/813 [==============================] - 12s 14ms/step - loss: 0.3776 - accuracy: 0.8289 - val_loss: 0.4124 - val_accuracy: 0.8136\n",
      "Epoch 45/50\n",
      "813/813 [==============================] - 12s 14ms/step - loss: 0.3772 - accuracy: 0.8291 - val_loss: 0.4092 - val_accuracy: 0.8155\n",
      "Epoch 46/50\n",
      "813/813 [==============================] - 12s 15ms/step - loss: 0.3769 - accuracy: 0.8297 - val_loss: 0.4101 - val_accuracy: 0.8148\n",
      "Epoch 47/50\n",
      "813/813 [==============================] - 13s 15ms/step - loss: 0.3766 - accuracy: 0.8294 - val_loss: 0.4115 - val_accuracy: 0.8151\n",
      "Epoch 48/50\n",
      "813/813 [==============================] - 12s 15ms/step - loss: 0.3763 - accuracy: 0.8296 - val_loss: 0.4125 - val_accuracy: 0.8146\n",
      "Epoch 49/50\n",
      "813/813 [==============================] - 12s 15ms/step - loss: 0.3764 - accuracy: 0.8295 - val_loss: 0.4115 - val_accuracy: 0.8147\n",
      "Epoch 50/50\n",
      "813/813 [==============================] - 12s 15ms/step - loss: 0.3761 - accuracy: 0.8293 - val_loss: 0.4116 - val_accuracy: 0.8150\n"
     ]
    }
   ],
   "source": [
    "model_metrics_5 = train(x_train, y_train, model=lstm_model_5,optimizer='adam',checkpoint=model_checkpoint_callback_model_5_C_LSTM, loss='sparse_categorical_crossentropy' ,metrics=['accuracy'], batch_size=1024, epochs=50, validation_data=(x_val,y_val))"
   ]
  },
  {
   "cell_type": "code",
   "execution_count": 23,
   "id": "11dabc39-9dc1-4b71-bdd5-a853ff189498",
   "metadata": {},
   "outputs": [],
   "source": [
    "def create_model_6():\n",
    "    model = Sequential()\n",
    "    model.add(Embedding(input_dim=embedding_weights.shape[0], output_dim=embedding_weights.shape[1], weights=[embedding_weights], trainable=False, input_length=50))\n",
    "    \n",
    "    model.add(LSTM(128, dropout=0.2, return_sequences=False))\n",
    "    \n",
    "    model.add(Dense(3,activation='softmax'))\n",
    "    return model\n",
    "\n",
    "lstm_model_6 = create_model_6()"
   ]
  },
  {
   "cell_type": "code",
   "execution_count": 24,
   "id": "b640ef6e",
   "metadata": {},
   "outputs": [],
   "source": [
    "checkpoint_filepath_model_6_C_LSTM = 'Models/checkpoint_model_6_1_C_LSTM/cp.ckpt'\n",
    "model_checkpoint_callback_model_6_C_LSTM = tf.keras.callbacks.ModelCheckpoint(\n",
    "    filepath=checkpoint_filepath_model_6_C_LSTM,\n",
    "    save_weights_only=True,\n",
    "    monitor='val_accuracy',\n",
    "    mode='max',\n",
    "    save_best_only=True)"
   ]
  },
  {
   "cell_type": "code",
   "execution_count": 25,
   "id": "650e0f86",
   "metadata": {},
   "outputs": [
    {
     "name": "stdout",
     "output_type": "stream",
     "text": [
      "Epoch 1/50\n",
      "813/813 [==============================] - 8s 9ms/step - loss: 0.5237 - accuracy: 0.7355 - val_loss: 0.4723 - val_accuracy: 0.7740\n",
      "Epoch 2/50\n",
      "813/813 [==============================] - 7s 9ms/step - loss: 0.4714 - accuracy: 0.7738 - val_loss: 0.4493 - val_accuracy: 0.7873\n",
      "Epoch 3/50\n",
      "813/813 [==============================] - 7s 9ms/step - loss: 0.4560 - accuracy: 0.7832 - val_loss: 0.4440 - val_accuracy: 0.7908\n",
      "Epoch 4/50\n",
      "813/813 [==============================] - 7s 8ms/step - loss: 0.4452 - accuracy: 0.7901 - val_loss: 0.4356 - val_accuracy: 0.7949\n",
      "Epoch 5/50\n",
      "813/813 [==============================] - 7s 8ms/step - loss: 0.4376 - accuracy: 0.7948 - val_loss: 0.4265 - val_accuracy: 0.8020\n",
      "Epoch 6/50\n",
      "813/813 [==============================] - 7s 9ms/step - loss: 0.4318 - accuracy: 0.7979 - val_loss: 0.4228 - val_accuracy: 0.8047\n",
      "Epoch 7/50\n",
      "813/813 [==============================] - 7s 9ms/step - loss: 0.4265 - accuracy: 0.8011 - val_loss: 0.4189 - val_accuracy: 0.8071\n",
      "Epoch 8/50\n",
      "813/813 [==============================] - 7s 8ms/step - loss: 0.4225 - accuracy: 0.8033 - val_loss: 0.4221 - val_accuracy: 0.8029\n",
      "Epoch 9/50\n",
      "813/813 [==============================] - 7s 8ms/step - loss: 0.4181 - accuracy: 0.8061 - val_loss: 0.4238 - val_accuracy: 0.8077\n",
      "Epoch 10/50\n",
      "813/813 [==============================] - 7s 9ms/step - loss: 0.4154 - accuracy: 0.8075 - val_loss: 0.4127 - val_accuracy: 0.8113\n",
      "Epoch 11/50\n",
      "813/813 [==============================] - 7s 8ms/step - loss: 0.4124 - accuracy: 0.8093 - val_loss: 0.4131 - val_accuracy: 0.8114\n",
      "Epoch 12/50\n",
      "813/813 [==============================] - 7s 8ms/step - loss: 0.4100 - accuracy: 0.8110 - val_loss: 0.4098 - val_accuracy: 0.8121\n",
      "Epoch 13/50\n",
      "813/813 [==============================] - 7s 8ms/step - loss: 0.4075 - accuracy: 0.8120 - val_loss: 0.4104 - val_accuracy: 0.8121\n",
      "Epoch 14/50\n",
      "813/813 [==============================] - 7s 8ms/step - loss: 0.4055 - accuracy: 0.8133 - val_loss: 0.4054 - val_accuracy: 0.8146\n",
      "Epoch 15/50\n",
      "813/813 [==============================] - 7s 8ms/step - loss: 0.4033 - accuracy: 0.8146 - val_loss: 0.4046 - val_accuracy: 0.8145\n",
      "Epoch 16/50\n",
      "813/813 [==============================] - 7s 8ms/step - loss: 0.4016 - accuracy: 0.8156 - val_loss: 0.4061 - val_accuracy: 0.8154\n",
      "Epoch 17/50\n",
      "813/813 [==============================] - 7s 8ms/step - loss: 0.3996 - accuracy: 0.8169 - val_loss: 0.4069 - val_accuracy: 0.8144\n",
      "Epoch 18/50\n",
      "813/813 [==============================] - 7s 8ms/step - loss: 0.3987 - accuracy: 0.8175 - val_loss: 0.4075 - val_accuracy: 0.8160\n",
      "Epoch 19/50\n",
      "813/813 [==============================] - 7s 9ms/step - loss: 0.3968 - accuracy: 0.8181 - val_loss: 0.4055 - val_accuracy: 0.8155\n",
      "Epoch 20/50\n",
      "813/813 [==============================] - 7s 9ms/step - loss: 0.3955 - accuracy: 0.8190 - val_loss: 0.4054 - val_accuracy: 0.8158\n",
      "Epoch 21/50\n",
      "813/813 [==============================] - 7s 8ms/step - loss: 0.3942 - accuracy: 0.8196 - val_loss: 0.4041 - val_accuracy: 0.8165\n",
      "Epoch 22/50\n",
      "813/813 [==============================] - 7s 8ms/step - loss: 0.3932 - accuracy: 0.8202 - val_loss: 0.4041 - val_accuracy: 0.8167\n",
      "Epoch 23/50\n",
      "813/813 [==============================] - 7s 8ms/step - loss: 0.3920 - accuracy: 0.8209 - val_loss: 0.4032 - val_accuracy: 0.8170\n",
      "Epoch 24/50\n",
      "813/813 [==============================] - 7s 8ms/step - loss: 0.3911 - accuracy: 0.8215 - val_loss: 0.4033 - val_accuracy: 0.8159\n",
      "Epoch 25/50\n",
      "813/813 [==============================] - 7s 8ms/step - loss: 0.3904 - accuracy: 0.8219 - val_loss: 0.4057 - val_accuracy: 0.8176\n",
      "Epoch 26/50\n",
      "813/813 [==============================] - 7s 9ms/step - loss: 0.3891 - accuracy: 0.8225 - val_loss: 0.4023 - val_accuracy: 0.8180\n",
      "Epoch 27/50\n",
      "813/813 [==============================] - 7s 9ms/step - loss: 0.3882 - accuracy: 0.8234 - val_loss: 0.4014 - val_accuracy: 0.8174\n",
      "Epoch 28/50\n",
      "813/813 [==============================] - 7s 8ms/step - loss: 0.3875 - accuracy: 0.8232 - val_loss: 0.4031 - val_accuracy: 0.8158\n",
      "Epoch 29/50\n",
      "813/813 [==============================] - 7s 9ms/step - loss: 0.3860 - accuracy: 0.8239 - val_loss: 0.4006 - val_accuracy: 0.8179\n",
      "Epoch 30/50\n",
      "813/813 [==============================] - 7s 9ms/step - loss: 0.3857 - accuracy: 0.8242 - val_loss: 0.4038 - val_accuracy: 0.8167\n",
      "Epoch 31/50\n",
      "813/813 [==============================] - 7s 9ms/step - loss: 0.3852 - accuracy: 0.8245 - val_loss: 0.4061 - val_accuracy: 0.8174\n",
      "Epoch 32/50\n",
      "813/813 [==============================] - 7s 9ms/step - loss: 0.3842 - accuracy: 0.8254 - val_loss: 0.4040 - val_accuracy: 0.8185\n",
      "Epoch 33/50\n",
      "813/813 [==============================] - 7s 8ms/step - loss: 0.3836 - accuracy: 0.8257 - val_loss: 0.4010 - val_accuracy: 0.8183\n",
      "Epoch 34/50\n",
      "813/813 [==============================] - 7s 9ms/step - loss: 0.3831 - accuracy: 0.8256 - val_loss: 0.4022 - val_accuracy: 0.8177\n",
      "Epoch 35/50\n",
      "813/813 [==============================] - 7s 9ms/step - loss: 0.3826 - accuracy: 0.8261 - val_loss: 0.4023 - val_accuracy: 0.8174\n",
      "Epoch 36/50\n",
      "813/813 [==============================] - 7s 8ms/step - loss: 0.3814 - accuracy: 0.8269 - val_loss: 0.4030 - val_accuracy: 0.8178\n",
      "Epoch 37/50\n",
      "813/813 [==============================] - 7s 8ms/step - loss: 0.3810 - accuracy: 0.8270 - val_loss: 0.4013 - val_accuracy: 0.8184\n",
      "Epoch 38/50\n",
      "813/813 [==============================] - 7s 8ms/step - loss: 0.3813 - accuracy: 0.8265 - val_loss: 0.4027 - val_accuracy: 0.8191\n",
      "Epoch 39/50\n",
      "813/813 [==============================] - 7s 8ms/step - loss: 0.3800 - accuracy: 0.8271 - val_loss: 0.4051 - val_accuracy: 0.8180\n",
      "Epoch 40/50\n",
      "813/813 [==============================] - 7s 8ms/step - loss: 0.3795 - accuracy: 0.8278 - val_loss: 0.3995 - val_accuracy: 0.8190\n",
      "Epoch 41/50\n",
      "813/813 [==============================] - 7s 8ms/step - loss: 0.3794 - accuracy: 0.8278 - val_loss: 0.4023 - val_accuracy: 0.8178\n",
      "Epoch 42/50\n",
      "813/813 [==============================] - 7s 8ms/step - loss: 0.3791 - accuracy: 0.8278 - val_loss: 0.4016 - val_accuracy: 0.8183\n",
      "Epoch 43/50\n",
      "813/813 [==============================] - 7s 9ms/step - loss: 0.3778 - accuracy: 0.8286 - val_loss: 0.4037 - val_accuracy: 0.8181\n",
      "Epoch 44/50\n",
      "813/813 [==============================] - 7s 9ms/step - loss: 0.3776 - accuracy: 0.8283 - val_loss: 0.4025 - val_accuracy: 0.8182\n",
      "Epoch 45/50\n",
      "813/813 [==============================] - 7s 8ms/step - loss: 0.3769 - accuracy: 0.8287 - val_loss: 0.4018 - val_accuracy: 0.8187\n",
      "Epoch 46/50\n",
      "813/813 [==============================] - 7s 8ms/step - loss: 0.3769 - accuracy: 0.8291 - val_loss: 0.4043 - val_accuracy: 0.8182\n",
      "Epoch 47/50\n",
      "813/813 [==============================] - 7s 9ms/step - loss: 0.3761 - accuracy: 0.8297 - val_loss: 0.4053 - val_accuracy: 0.8181\n",
      "Epoch 48/50\n",
      "813/813 [==============================] - 7s 9ms/step - loss: 0.3758 - accuracy: 0.8296 - val_loss: 0.4031 - val_accuracy: 0.8186\n",
      "Epoch 49/50\n",
      "813/813 [==============================] - 7s 8ms/step - loss: 0.3760 - accuracy: 0.8295 - val_loss: 0.4042 - val_accuracy: 0.8184\n",
      "Epoch 50/50\n",
      "813/813 [==============================] - 7s 8ms/step - loss: 0.3754 - accuracy: 0.8298 - val_loss: 0.4042 - val_accuracy: 0.8183\n"
     ]
    }
   ],
   "source": [
    "model_metrics_6 = train(x_train, y_train, model=lstm_model_6,optimizer='adam',checkpoint=model_checkpoint_callback_model_6_C_LSTM, loss='sparse_categorical_crossentropy' ,metrics=['accuracy'], batch_size=1024, epochs=50, validation_data=(x_val,y_val))"
   ]
  },
  {
   "cell_type": "code",
   "execution_count": 26,
   "id": "ee1c3231",
   "metadata": {},
   "outputs": [
    {
     "data": {
      "image/png": "[encoded data removed]",
      "text/plain": [
       "<Figure size 640x480 with 1 Axes>"
      ]
     },
     "metadata": {},
     "output_type": "display_data"
    }
   ],
   "source": [
    "plt.plot(model_metrics_1.history[\"val_accuracy\"])\n",
    "plt.plot(model_metrics_5.history[\"val_accuracy\"])\n",
    "plt.plot(model_metrics_6.history[\"val_accuracy\"])\n",
    "plt.xlabel(\"epochs\")\n",
    "plt.ylabel(\"Val Accuracy\")\n",
    "plt.title(\"Hyperparamter tuning LSTM\")\n",
    "plt.legend([\"Conv-LSTM,\",\"Bi-directional LSTM\",\"vanilla LSTM\"])\n",
    "plt.grid()\n"
   ]
  },
  {
   "cell_type": "code",
   "execution_count": null,
   "id": "55199a8d",
   "metadata": {},
   "outputs": [],
   "source": []
  },
  {
   "cell_type": "markdown",
   "id": "a7ada004",
   "metadata": {},
   "source": [
    "### Final train on whole set"
   ]
  },
  {
   "cell_type": "code",
   "execution_count": 53,
   "id": "a5f5465d-968a-4b69-a0e7-af3299878e81",
   "metadata": {},
   "outputs": [],
   "source": [
    "new_x = np.concatenate((x_train,x_val),axis=0)\n",
    "new_y = np.concatenate((y_train,y_val),axis=0)"
   ]
  },
  {
   "cell_type": "code",
   "execution_count": 54,
   "id": "be32b838-dba8-4b7c-96cc-a73b2b7da0e2",
   "metadata": {},
   "outputs": [
    {
     "data": {
      "text/plain": [
       "(1040323, 50)"
      ]
     },
     "execution_count": 54,
     "metadata": {},
     "output_type": "execute_result"
    }
   ],
   "source": [
    "new_x.shape"
   ]
  },
  {
   "cell_type": "code",
   "execution_count": null,
   "id": "72326f7a-319f-49ac-af48-78a48106d3c0",
   "metadata": {},
   "outputs": [],
   "source": [
    "model_metrics_1 = train(new_x, new_y, model=lstm_model_1,optimizer='adam', loss='sparse_categorical_crossentropy', checkpoint=model_checkpoint_callback_model_1_LSTM ,metrics=['accuracy'], batch_size=1024, epochs=20, validation_data=(x_val,y_val))"
   ]
  },
  {
   "cell_type": "code",
   "execution_count": 56,
   "id": "a4c15c42-75d2-465f-ba37-435e364c5cd1",
   "metadata": {},
   "outputs": [
    {
     "name": "stdout",
     "output_type": "stream",
     "text": [
      "Epoch 1/20\n",
      "1016/1016 [==============================] - 29s 26ms/step - loss: 0.3967 - accuracy: 0.8182 - val_loss: 0.3911 - val_accuracy: 0.8222\n",
      "Epoch 2/20\n",
      "1016/1016 [==============================] - 25s 25ms/step - loss: 0.3955 - accuracy: 0.8194 - val_loss: 0.3880 - val_accuracy: 0.8240\n",
      "Epoch 3/20\n",
      "1016/1016 [==============================] - 25s 25ms/step - loss: 0.3945 - accuracy: 0.8197 - val_loss: 0.3848 - val_accuracy: 0.8258\n",
      "Epoch 4/20\n",
      "1016/1016 [==============================] - 25s 25ms/step - loss: 0.3946 - accuracy: 0.8196 - val_loss: 0.3825 - val_accuracy: 0.8269\n",
      "Epoch 5/20\n",
      "1016/1016 [==============================] - 25s 25ms/step - loss: 0.3939 - accuracy: 0.8200 - val_loss: 0.3812 - val_accuracy: 0.8274\n",
      "Epoch 6/20\n",
      "1016/1016 [==============================] - 25s 25ms/step - loss: 0.3932 - accuracy: 0.8202 - val_loss: 0.3800 - val_accuracy: 0.8276\n",
      "Epoch 7/20\n",
      "1016/1016 [==============================] - 25s 25ms/step - loss: 0.3928 - accuracy: 0.8207 - val_loss: 0.3777 - val_accuracy: 0.8295\n",
      "Epoch 8/20\n",
      "1016/1016 [==============================] - 25s 25ms/step - loss: 0.3921 - accuracy: 0.8207 - val_loss: 0.3767 - val_accuracy: 0.8290\n",
      "Epoch 9/20\n",
      "1016/1016 [==============================] - 25s 25ms/step - loss: 0.3920 - accuracy: 0.8211 - val_loss: 0.3752 - val_accuracy: 0.8310\n",
      "Epoch 10/20\n",
      "1016/1016 [==============================] - 25s 25ms/step - loss: 0.3912 - accuracy: 0.8216 - val_loss: 0.3732 - val_accuracy: 0.8318\n",
      "Epoch 11/20\n",
      "1016/1016 [==============================] - 25s 25ms/step - loss: 0.3909 - accuracy: 0.8217 - val_loss: 0.3723 - val_accuracy: 0.8317\n",
      "Epoch 12/20\n",
      "1016/1016 [==============================] - 25s 25ms/step - loss: 0.3907 - accuracy: 0.8217 - val_loss: 0.3712 - val_accuracy: 0.8323\n",
      "Epoch 13/20\n",
      "1016/1016 [==============================] - 25s 25ms/step - loss: 0.3906 - accuracy: 0.8218 - val_loss: 0.3706 - val_accuracy: 0.8329\n",
      "Epoch 14/20\n",
      "1016/1016 [==============================] - 25s 25ms/step - loss: 0.3897 - accuracy: 0.8225 - val_loss: 0.3698 - val_accuracy: 0.8337\n",
      "Epoch 15/20\n",
      "1016/1016 [==============================] - 26s 25ms/step - loss: 0.3895 - accuracy: 0.8222 - val_loss: 0.3675 - val_accuracy: 0.8344\n",
      "Epoch 16/20\n",
      "1016/1016 [==============================] - 26s 25ms/step - loss: 0.3889 - accuracy: 0.8231 - val_loss: 0.3676 - val_accuracy: 0.8343\n",
      "Epoch 17/20\n",
      "1016/1016 [==============================] - 26s 25ms/step - loss: 0.3888 - accuracy: 0.8229 - val_loss: 0.3661 - val_accuracy: 0.8352\n",
      "Epoch 18/20\n",
      "1016/1016 [==============================] - 25s 25ms/step - loss: 0.3886 - accuracy: 0.8231 - val_loss: 0.3650 - val_accuracy: 0.8358\n",
      "Epoch 19/20\n",
      "1016/1016 [==============================] - 26s 25ms/step - loss: 0.3881 - accuracy: 0.8231 - val_loss: 0.3645 - val_accuracy: 0.8363\n",
      "Epoch 20/20\n",
      "1016/1016 [==============================] - 26s 25ms/step - loss: 0.3877 - accuracy: 0.8233 - val_loss: 0.3636 - val_accuracy: 0.8365\n"
     ]
    }
   ],
   "source": [
    "model_metrics_2 = train(new_x, new_y, model=lstm_model_2,optimizer='adam', loss='sparse_categorical_crossentropy', checkpoint= model_checkpoint_callback_model_2_BiLSTM, metrics=['accuracy'], batch_size=1024, epochs=20, validation_data=(x_val,y_val))"
   ]
  },
  {
   "cell_type": "code",
   "execution_count": 57,
   "id": "a1e86da5-64a5-47e4-a67e-dc62983b1781",
   "metadata": {},
   "outputs": [
    {
     "name": "stdout",
     "output_type": "stream",
     "text": [
      "Epoch 1/20\n",
      "1016/1016 [==============================] - 29s 26ms/step - loss: 0.3988 - accuracy: 0.8177 - val_loss: 0.3941 - val_accuracy: 0.8203\n",
      "Epoch 2/20\n",
      "1016/1016 [==============================] - 25s 25ms/step - loss: 0.3978 - accuracy: 0.8180 - val_loss: 0.3898 - val_accuracy: 0.8233\n",
      "Epoch 3/20\n",
      "1016/1016 [==============================] - 25s 25ms/step - loss: 0.3974 - accuracy: 0.8181 - val_loss: 0.3871 - val_accuracy: 0.8238\n",
      "Epoch 4/20\n",
      "1016/1016 [==============================] - 25s 25ms/step - loss: 0.3965 - accuracy: 0.8183 - val_loss: 0.3851 - val_accuracy: 0.8248\n",
      "Epoch 5/20\n",
      "1016/1016 [==============================] - 25s 25ms/step - loss: 0.3960 - accuracy: 0.8189 - val_loss: 0.3830 - val_accuracy: 0.8262\n",
      "Epoch 6/20\n",
      "1016/1016 [==============================] - 25s 25ms/step - loss: 0.3958 - accuracy: 0.8190 - val_loss: 0.3828 - val_accuracy: 0.8264\n",
      "Epoch 7/20\n",
      "1016/1016 [==============================] - 25s 25ms/step - loss: 0.3951 - accuracy: 0.8195 - val_loss: 0.3803 - val_accuracy: 0.8277\n",
      "Epoch 8/20\n",
      "1016/1016 [==============================] - 25s 25ms/step - loss: 0.3949 - accuracy: 0.8197 - val_loss: 0.3782 - val_accuracy: 0.8287\n",
      "Epoch 9/20\n",
      "1016/1016 [==============================] - 26s 25ms/step - loss: 0.3940 - accuracy: 0.8202 - val_loss: 0.3773 - val_accuracy: 0.8297\n",
      "Epoch 10/20\n",
      "1016/1016 [==============================] - 25s 25ms/step - loss: 0.3938 - accuracy: 0.8203 - val_loss: 0.3759 - val_accuracy: 0.8301\n",
      "Epoch 11/20\n",
      "1016/1016 [==============================] - 26s 25ms/step - loss: 0.3939 - accuracy: 0.8205 - val_loss: 0.3754 - val_accuracy: 0.8302\n",
      "Epoch 12/20\n",
      "1016/1016 [==============================] - 26s 25ms/step - loss: 0.3927 - accuracy: 0.8205 - val_loss: 0.3733 - val_accuracy: 0.8321\n",
      "Epoch 13/20\n",
      "1016/1016 [==============================] - 26s 26ms/step - loss: 0.3927 - accuracy: 0.8209 - val_loss: 0.3714 - val_accuracy: 0.8331\n",
      "Epoch 14/20\n",
      "1016/1016 [==============================] - 26s 25ms/step - loss: 0.3923 - accuracy: 0.8209 - val_loss: 0.3712 - val_accuracy: 0.8324\n",
      "Epoch 15/20\n",
      "1016/1016 [==============================] - 26s 26ms/step - loss: 0.3917 - accuracy: 0.8214 - val_loss: 0.3698 - val_accuracy: 0.8333\n",
      "Epoch 16/20\n",
      "1016/1016 [==============================] - 26s 26ms/step - loss: 0.3917 - accuracy: 0.8215 - val_loss: 0.3697 - val_accuracy: 0.8334\n",
      "Epoch 17/20\n",
      "1016/1016 [==============================] - 26s 26ms/step - loss: 0.3909 - accuracy: 0.8216 - val_loss: 0.3678 - val_accuracy: 0.8349\n",
      "Epoch 18/20\n",
      "1016/1016 [==============================] - 26s 25ms/step - loss: 0.3910 - accuracy: 0.8215 - val_loss: 0.3671 - val_accuracy: 0.8352\n",
      "Epoch 19/20\n",
      "1016/1016 [==============================] - 26s 25ms/step - loss: 0.3907 - accuracy: 0.8217 - val_loss: 0.3661 - val_accuracy: 0.8352\n",
      "Epoch 20/20\n",
      "1016/1016 [==============================] - 26s 25ms/step - loss: 0.3901 - accuracy: 0.8220 - val_loss: 0.3658 - val_accuracy: 0.8352\n"
     ]
    }
   ],
   "source": [
    "model_metrics_3 = train(new_x, new_y, model=lstm_model_3,optimizer='adam', loss='sparse_categorical_crossentropy', checkpoint= model_checkpoint_callback_model_3_C_LSTM, metrics=['accuracy'], batch_size=1024, epochs=20, validation_data=(x_val,y_val))"
   ]
  },
  {
   "cell_type": "code",
   "execution_count": 58,
   "id": "55913dd7-5293-41fd-bcdf-acc22944899c",
   "metadata": {},
   "outputs": [
    {
     "name": "stdout",
     "output_type": "stream",
     "text": [
      "Epoch 1/20\n",
      "1016/1016 [==============================] - 34s 30ms/step - loss: 0.4001 - accuracy: 0.8168 - val_loss: 0.3966 - val_accuracy: 0.8193\n",
      "Epoch 2/20\n",
      "1016/1016 [==============================] - 30s 30ms/step - loss: 0.3994 - accuracy: 0.8169 - val_loss: 0.3932 - val_accuracy: 0.8207\n",
      "Epoch 3/20\n",
      "1016/1016 [==============================] - 30s 30ms/step - loss: 0.3982 - accuracy: 0.8179 - val_loss: 0.3879 - val_accuracy: 0.8236\n",
      "Epoch 4/20\n",
      "1016/1016 [==============================] - 30s 30ms/step - loss: 0.3977 - accuracy: 0.8178 - val_loss: 0.3853 - val_accuracy: 0.8250\n",
      "Epoch 5/20\n",
      "1016/1016 [==============================] - 30s 30ms/step - loss: 0.3974 - accuracy: 0.8180 - val_loss: 0.3826 - val_accuracy: 0.8259\n",
      "Epoch 6/20\n",
      "1016/1016 [==============================] - 30s 30ms/step - loss: 0.3965 - accuracy: 0.8186 - val_loss: 0.3816 - val_accuracy: 0.8269\n",
      "Epoch 7/20\n",
      "1016/1016 [==============================] - 30s 30ms/step - loss: 0.3960 - accuracy: 0.8190 - val_loss: 0.3786 - val_accuracy: 0.8291\n",
      "Epoch 8/20\n",
      "1016/1016 [==============================] - 30s 30ms/step - loss: 0.3955 - accuracy: 0.8188 - val_loss: 0.3792 - val_accuracy: 0.8288\n",
      "Epoch 9/20\n",
      "1016/1016 [==============================] - 30s 29ms/step - loss: 0.3950 - accuracy: 0.8194 - val_loss: 0.3761 - val_accuracy: 0.8294\n",
      "Epoch 10/20\n",
      "1016/1016 [==============================] - 30s 30ms/step - loss: 0.3946 - accuracy: 0.8196 - val_loss: 0.3751 - val_accuracy: 0.8303\n",
      "Epoch 11/20\n",
      "1016/1016 [==============================] - 30s 30ms/step - loss: 0.3941 - accuracy: 0.8199 - val_loss: 0.3734 - val_accuracy: 0.8309\n",
      "Epoch 12/20\n",
      "1016/1016 [==============================] - 30s 30ms/step - loss: 0.3937 - accuracy: 0.8201 - val_loss: 0.3718 - val_accuracy: 0.8319\n",
      "Epoch 13/20\n",
      "1016/1016 [==============================] - 30s 30ms/step - loss: 0.3932 - accuracy: 0.8202 - val_loss: 0.3725 - val_accuracy: 0.8320\n",
      "Epoch 14/20\n",
      "1016/1016 [==============================] - 30s 30ms/step - loss: 0.3929 - accuracy: 0.8203 - val_loss: 0.3703 - val_accuracy: 0.8333\n",
      "Epoch 15/20\n",
      "1016/1016 [==============================] - 30s 29ms/step - loss: 0.3928 - accuracy: 0.8210 - val_loss: 0.3711 - val_accuracy: 0.8321\n",
      "Epoch 16/20\n",
      "1016/1016 [==============================] - 30s 29ms/step - loss: 0.3923 - accuracy: 0.8207 - val_loss: 0.3676 - val_accuracy: 0.8343\n",
      "Epoch 17/20\n",
      "1016/1016 [==============================] - 30s 29ms/step - loss: 0.3917 - accuracy: 0.8214 - val_loss: 0.3664 - val_accuracy: 0.8349\n",
      "Epoch 18/20\n",
      "1016/1016 [==============================] - 30s 29ms/step - loss: 0.3912 - accuracy: 0.8214 - val_loss: 0.3680 - val_accuracy: 0.8335\n",
      "Epoch 19/20\n",
      "1016/1016 [==============================] - 30s 29ms/step - loss: 0.3911 - accuracy: 0.8212 - val_loss: 0.3646 - val_accuracy: 0.8360\n",
      "Epoch 20/20\n",
      "1016/1016 [==============================] - 30s 29ms/step - loss: 0.3906 - accuracy: 0.8216 - val_loss: 0.3652 - val_accuracy: 0.8359\n"
     ]
    }
   ],
   "source": [
    "model_metrics_4 = train(new_x, new_y, model=lstm_model_4,optimizer='nadam', loss='sparse_categorical_crossentropy', checkpoint=model_checkpoint_callback_model_4_C_LSTM ,metrics=['accuracy'], batch_size=1024, epochs=20, validation_data=(x_val,y_val))"
   ]
  },
  {
   "cell_type": "markdown",
   "id": "edd43799-6379-42a6-96c2-bbe8d4a9ed97",
   "metadata": {},
   "source": [
    "### Validation"
   ]
  },
  {
   "cell_type": "code",
   "execution_count": 50,
   "id": "e080da9c-25da-44fe-a235-7ef22a2c3054",
   "metadata": {},
   "outputs": [
    {
     "name": "stdout",
     "output_type": "stream",
     "text": [
      "6503/6503 [==============================] - 33s 5ms/step\n",
      "6503/6503 [==============================] - 110s 17ms/step\n",
      "6503/6503 [==============================] - 67s 10ms/step\n",
      "6503/6503 [==============================] - 75s 11ms/step\n"
     ]
    }
   ],
   "source": [
    "y_proba_val_1 = get_predictions(x_val, lstm_model_1, checkpoint_filepath_model_1_LSTM)\n",
    "y_proba_val_2 = get_predictions(x_val, lstm_model_2, checkpoint_filepath_model_2_BiLSTM)\n",
    "y_proba_val_3 = get_predictions(x_val, lstm_model_3, checkpoint_filepath_model_3_C_LSTM)\n",
    "y_proba_val_4 = get_predictions(x_val, lstm_model_4, checkpoint_filepath_model_4_C_LSTM)"
   ]
  },
  {
   "cell_type": "code",
   "execution_count": 51,
   "id": "f5bc7467-25c7-4a89-b21e-b7bb7c1ff113",
   "metadata": {},
   "outputs": [],
   "source": [
    "y_proba_val_ensemble = y_proba_val_1 + y_proba_val_2 + y_proba_val_3 + y_proba_val_4\n",
    "y_pred_classes_val = np.argmax(y_proba_val_ensemble, axis=1)"
   ]
  },
  {
   "cell_type": "code",
   "execution_count": 52,
   "id": "73f3e96c-d286-4571-88e7-003aa2dff036",
   "metadata": {},
   "outputs": [
    {
     "name": "stdout",
     "output_type": "stream",
     "text": [
      "0.825290173743782\n"
     ]
    }
   ],
   "source": [
    "print(accuracy_score(y_val, y_pred_classes_val))"
   ]
  },
  {
   "cell_type": "code",
   "execution_count": 53,
   "id": "d4da301d-1873-41c3-bf6e-6b4f095bc24e",
   "metadata": {},
   "outputs": [
    {
     "name": "stdout",
     "output_type": "stream",
     "text": [
      "              precision    recall  f1-score   support\n",
      "\n",
      "           0       0.83      0.82      0.82    103961\n",
      "           1       0.00      0.00      0.00        17\n",
      "           2       0.82      0.83      0.83    104087\n",
      "\n",
      "    accuracy                           0.83    208065\n",
      "   macro avg       0.55      0.55      0.55    208065\n",
      "weighted avg       0.83      0.83      0.83    208065\n",
      "\n"
     ]
    },
    {
     "name": "stderr",
     "output_type": "stream",
     "text": [
      "C:\\Users\\gangu\\.conda\\envs\\kaggle_2\\lib\\site-packages\\sklearn\\metrics\\_classification.py:1318: UndefinedMetricWarning: Precision and F-score are ill-defined and being set to 0.0 in labels with no predicted samples. Use `zero_division` parameter to control this behavior.\n",
      "  _warn_prf(average, modifier, msg_start, len(result))\n",
      "C:\\Users\\gangu\\.conda\\envs\\kaggle_2\\lib\\site-packages\\sklearn\\metrics\\_classification.py:1318: UndefinedMetricWarning: Precision and F-score are ill-defined and being set to 0.0 in labels with no predicted samples. Use `zero_division` parameter to control this behavior.\n",
      "  _warn_prf(average, modifier, msg_start, len(result))\n",
      "C:\\Users\\gangu\\.conda\\envs\\kaggle_2\\lib\\site-packages\\sklearn\\metrics\\_classification.py:1318: UndefinedMetricWarning: Precision and F-score are ill-defined and being set to 0.0 in labels with no predicted samples. Use `zero_division` parameter to control this behavior.\n",
      "  _warn_prf(average, modifier, msg_start, len(result))\n"
     ]
    }
   ],
   "source": [
    "print(classification_report(y_val, y_pred_classes_val))"
   ]
  },
  {
   "cell_type": "code",
   "execution_count": 56,
   "id": "710f3945-c7e3-4876-a87e-b4b26bc546a5",
   "metadata": {},
   "outputs": [
    {
     "data": {
      "text/plain": [
       "Text(0.5, 1.0, 'Confusion Matrix for Ensemble of LSTMs ')"
      ]
     },
     "execution_count": 56,
     "metadata": {},
     "output_type": "execute_result"
    },
    {
     "data": {
      "image/png": "[encoded data removed]",
      "text/plain": [
       "<Figure size 800x800 with 2 Axes>"
      ]
     },
     "metadata": {},
     "output_type": "display_data"
    }
   ],
   "source": [
    "plot_cf(y_val, y_pred_classes_val)\n",
    "plt.title(\"Confusion Matrix for Ensemble of LSTMs \")"
   ]
  },
  {
   "cell_type": "markdown",
   "id": "57329f0f-557c-498c-91e0-7acc22797d44",
   "metadata": {},
   "source": [
    "## Test"
   ]
  },
  {
   "cell_type": "code",
   "execution_count": 59,
   "id": "9e80c140-31f6-4078-bb4b-10f22f514562",
   "metadata": {},
   "outputs": [
    {
     "name": "stdout",
     "output_type": "stream",
     "text": [
      "17506/17506 [==============================] - 76s 4ms/step\n",
      "17506/17506 [==============================] - 77s 4ms/step\n",
      "17506/17506 [==============================] - 77s 4ms/step\n",
      "17506/17506 [==============================] - 76s 4ms/step\n"
     ]
    }
   ],
   "source": [
    "y_proba_test_1 = get_predictions(x_test, lstm_model_1, checkpoint_filepath_model_1_LSTM)\n",
    "y_proba_test_2 = get_predictions(x_test, lstm_model_2, checkpoint_filepath_model_2_BiLSTM)\n",
    "y_proba_test_3 = get_predictions(x_test, lstm_model_3, checkpoint_filepath_model_3_C_LSTM)\n",
    "y_proba_test_4 = get_predictions(x_test, lstm_model_4, checkpoint_filepath_model_4_C_LSTM)"
   ]
  },
  {
   "cell_type": "code",
   "execution_count": 60,
   "id": "3d13944a-9054-41c5-b0a7-ac512e745edd",
   "metadata": {},
   "outputs": [],
   "source": [
    "y_proba_test_ensemble = y_proba_test_1 + y_proba_test_2 + y_proba_test_3\n",
    "y_pred_classes_test = np.argmax(y_proba_test_ensemble, axis=1)"
   ]
  },
  {
   "cell_type": "code",
   "execution_count": 61,
   "id": "e2287389-4331-483d-875a-ffcf973a24d8",
   "metadata": {},
   "outputs": [],
   "source": [
    "predictions_df = pd.DataFrame(y_pred_classes_test, columns=['target'])\n",
    "predictions_df.index.name = 'id'"
   ]
  },
  {
   "cell_type": "code",
   "execution_count": 62,
   "id": "0c2869e6-1729-4e71-a611-72f4f695e62b",
   "metadata": {},
   "outputs": [
    {
     "data": {
      "text/html": [
       "<div>\n",
       "<style scoped>\n",
       "    .dataframe tbody tr th:only-of-type {\n",
       "        vertical-align: middle;\n",
       "    }\n",
       "\n",
       "    .dataframe tbody tr th {\n",
       "        vertical-align: top;\n",
       "    }\n",
       "\n",
       "    .dataframe thead th {\n",
       "        text-align: right;\n",
       "    }\n",
       "</style>\n",
       "<table border=\"1\" class=\"dataframe\">\n",
       "  <thead>\n",
       "    <tr style=\"text-align: right;\">\n",
       "      <th></th>\n",
       "      <th>target</th>\n",
       "    </tr>\n",
       "    <tr>\n",
       "      <th>id</th>\n",
       "      <th></th>\n",
       "    </tr>\n",
       "  </thead>\n",
       "  <tbody>\n",
       "    <tr>\n",
       "      <th>0</th>\n",
       "      <td>0</td>\n",
       "    </tr>\n",
       "    <tr>\n",
       "      <th>1</th>\n",
       "      <td>2</td>\n",
       "    </tr>\n",
       "    <tr>\n",
       "      <th>2</th>\n",
       "      <td>0</td>\n",
       "    </tr>\n",
       "    <tr>\n",
       "      <th>3</th>\n",
       "      <td>0</td>\n",
       "    </tr>\n",
       "    <tr>\n",
       "      <th>4</th>\n",
       "      <td>0</td>\n",
       "    </tr>\n",
       "    <tr>\n",
       "      <th>...</th>\n",
       "      <td>...</td>\n",
       "    </tr>\n",
       "    <tr>\n",
       "      <th>560170</th>\n",
       "      <td>0</td>\n",
       "    </tr>\n",
       "    <tr>\n",
       "      <th>560171</th>\n",
       "      <td>0</td>\n",
       "    </tr>\n",
       "    <tr>\n",
       "      <th>560172</th>\n",
       "      <td>0</td>\n",
       "    </tr>\n",
       "    <tr>\n",
       "      <th>560173</th>\n",
       "      <td>0</td>\n",
       "    </tr>\n",
       "    <tr>\n",
       "      <th>560174</th>\n",
       "      <td>2</td>\n",
       "    </tr>\n",
       "  </tbody>\n",
       "</table>\n",
       "<p>560175 rows × 1 columns</p>\n",
       "</div>"
      ],
      "text/plain": [
       "        target\n",
       "id            \n",
       "0            0\n",
       "1            2\n",
       "2            0\n",
       "3            0\n",
       "4            0\n",
       "...        ...\n",
       "560170       0\n",
       "560171       0\n",
       "560172       0\n",
       "560173       0\n",
       "560174       2\n",
       "\n",
       "[560175 rows x 1 columns]"
      ]
     },
     "execution_count": 62,
     "metadata": {},
     "output_type": "execute_result"
    }
   ],
   "source": [
    "predictions_df"
   ]
  },
  {
   "cell_type": "code",
   "execution_count": null,
   "id": "e83dae2a-b0b9-4a4c-9afc-13fd78458c28",
   "metadata": {},
   "outputs": [],
   "source": []
  },
  {
   "cell_type": "code",
   "execution_count": null,
   "id": "b25c1bcf-c39a-4d02-91a5-7c5e16464c27",
   "metadata": {},
   "outputs": [],
   "source": [
    "path_output = os.path.abspath(os.path.join(os.getcwd(), os.pardir))+'\\\\Test_output\\\\test_results_LSTM_full.csv'"
   ]
  },
  {
   "cell_type": "code",
   "execution_count": 64,
   "id": "24029902-33ce-409a-98cc-dc7c0397549c",
   "metadata": {},
   "outputs": [],
   "source": [
    "predictions_df.to_csv(path_output, index=True, index_label='id')"
   ]
  },
  {
   "cell_type": "code",
   "execution_count": null,
   "id": "319b8e5b-99a5-4db2-b83e-095b924391c6",
   "metadata": {},
   "outputs": [],
   "source": []
  },
  {
   "cell_type": "code",
   "execution_count": 23,
   "id": "6e0c1c80-0090-4a19-a844-e7c52a48c757",
   "metadata": {},
   "outputs": [],
   "source": []
  },
  {
   "cell_type": "code",
   "execution_count": 25,
   "id": "484561a1-85fa-465d-951b-e643d8fafd2d",
   "metadata": {},
   "outputs": [
    {
     "data": {
      "text/plain": [
       "<AxesSubplot:ylabel='Count'>"
      ]
     },
     "execution_count": 25,
     "metadata": {},
     "output_type": "execute_result"
    },
    {
     "data": {
      "image/png": "[encoded data removed]",
      "text/plain": [
       "<Figure size 640x480 with 1 Axes>"
      ]
     },
     "metadata": {},
     "output_type": "display_data"
    }
   ],
   "source": []
  },
  {
   "cell_type": "markdown",
   "id": "fb96e8cb-a256-41d2-8321-71b1f3d01e55",
   "metadata": {},
   "source": [
    "### References"
   ]
  },
  {
   "cell_type": "markdown",
   "id": "36018211-bb61-448b-b5b3-40a565f3faa9",
   "metadata": {},
   "source": [
    "- https://arxiv.org/pdf/1310.4546.pdf\n",
    "- https://stackoverflow.com/questions/34721984/stopword-removing-when-using-the-word2vec\n",
    "- https://radimrehurek.com/gensim/models/word2vec.html"
   ]
  },
  {
   "cell_type": "code",
   "execution_count": null,
   "id": "994e56bd-549a-441f-a655-b1f6ffa8070d",
   "metadata": {},
   "outputs": [],
   "source": []
  }
 ],
 "metadata": {
  "kernelspec": {
   "display_name": "Python 3 (ipykernel)",
   "language": "python",
   "name": "python3"
  },
  "language_info": {
   "codemirror_mode": {
    "name": "ipython",
    "version": 3
   },
   "file_extension": ".py",
   "mimetype": "text/x-python",
   "name": "python",
   "nbconvert_exporter": "python",
   "pygments_lexer": "ipython3",
   "version": "3.10.6"
  }
 },
 "nbformat": 4,
 "nbformat_minor": 5
}
